{
  "nbformat": 4,
  "nbformat_minor": 0,
  "metadata": {
    "colab": {
      "name": "Human Activity using ML.ipynb",
      "provenance": [],
      "collapsed_sections": []
    },
    "kernelspec": {
      "display_name": "Python 3",
      "name": "python3"
    }
  },
  "cells": [
    {
      "cell_type": "code",
      "metadata": {
        "colab": {
          "resources": {
            "http://localhost:8080/nbextensions/google.colab/files.js": {
              "data": "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",
              "headers": [
                [
                  "content-type",
                  "application/javascript"
                ]
              ],
              "ok": true,
              "status": 200,
              "status_text": ""
            }
          },
          "base_uri": "https://localhost:8080/",
          "height": 140
        },
        "id": "Eoh8MVMmw2Sf",
        "outputId": "d3698bef-094e-4cfd-b90d-bc24d772fe93"
      },
      "source": [
        "#download the data set from the kaggle  \n",
        "from google.colab import files\n",
        "files.upload()\n",
        "!mkdir -p ~/.kaggle\n",
        "!cp kaggle.json ~/.kaggle/\n",
        "!kaggle datasets download -d uciml/human-activity-recognition-with-smartphones"
      ],
      "execution_count": null,
      "outputs": [
        {
          "data": {
            "text/html": [
              "\n",
              "     <input type=\"file\" id=\"files-6a21a17a-b22d-4a8a-8b75-df94b0517c22\" name=\"files[]\" multiple disabled\n",
              "        style=\"border:none\" />\n",
              "     <output id=\"result-6a21a17a-b22d-4a8a-8b75-df94b0517c22\">\n",
              "      Upload widget is only available when the cell has been executed in the\n",
              "      current browser session. Please rerun this cell to enable.\n",
              "      </output>\n",
              "      <script src=\"/nbextensions/google.colab/files.js\"></script> "
            ],
            "text/plain": [
              "<IPython.core.display.HTML object>"
            ]
          },
          "metadata": {
            "tags": []
          },
          "output_type": "display_data"
        },
        {
          "name": "stdout",
          "output_type": "stream",
          "text": [
            "Saving kaggle.json to kaggle.json\n",
            "Warning: Your Kaggle API key is readable by other users on this system! To fix this, you can run 'chmod 600 /root/.kaggle/kaggle.json'\n",
            "Downloading human-activity-recognition-with-smartphones.zip to /content\n",
            " 69% 17.0M/24.5M [00:00<00:00, 34.2MB/s]\n",
            "100% 24.5M/24.5M [00:00<00:00, 41.7MB/s]\n"
          ]
        }
      ]
    },
    {
      "cell_type": "code",
      "metadata": {
        "colab": {
          "background_save": true
        },
        "id": "8H24Fa-l3MBB"
      },
      "source": [
        "import zipfile\n",
        "with zipfile.ZipFile('human-activity-recognition-with-smartphones.zip', 'r') as zip_ref:\n",
        "    zip_ref.extractall('data')"
      ],
      "execution_count": null,
      "outputs": []
    },
    {
      "cell_type": "code",
      "metadata": {
        "colab": {
          "background_save": true
        },
        "id": "MrzKJoQ1zEWt"
      },
      "source": [
        "import numpy as np\n",
        "import pandas as pd\n"
      ],
      "execution_count": null,
      "outputs": []
    },
    {
      "cell_type": "code",
      "metadata": {
        "colab": {
          "background_save": true,
          "base_uri": "https://localhost:8080/",
          "height": 287
        },
        "id": "Qb449cLBykND",
        "outputId": "df892a5c-a6c5-4ce1-9f09-02d12c69aa90"
      },
      "source": [
        "train = pd.read_csv('/content/data/train.csv')\n",
        "train.head()"
      ],
      "execution_count": null,
      "outputs": [
        {
          "data": {
            "text/html": [
              "<div>\n",
              "<style scoped>\n",
              "    .dataframe tbody tr th:only-of-type {\n",
              "        vertical-align: middle;\n",
              "    }\n",
              "\n",
              "    .dataframe tbody tr th {\n",
              "        vertical-align: top;\n",
              "    }\n",
              "\n",
              "    .dataframe thead th {\n",
              "        text-align: right;\n",
              "    }\n",
              "</style>\n",
              "<table border=\"1\" class=\"dataframe\">\n",
              "  <thead>\n",
              "    <tr style=\"text-align: right;\">\n",
              "      <th></th>\n",
              "      <th>tBodyAcc-mean()-X</th>\n",
              "      <th>tBodyAcc-mean()-Y</th>\n",
              "      <th>tBodyAcc-mean()-Z</th>\n",
              "      <th>tBodyAcc-std()-X</th>\n",
              "      <th>tBodyAcc-std()-Y</th>\n",
              "      <th>tBodyAcc-std()-Z</th>\n",
              "      <th>tBodyAcc-mad()-X</th>\n",
              "      <th>tBodyAcc-mad()-Y</th>\n",
              "      <th>tBodyAcc-mad()-Z</th>\n",
              "      <th>tBodyAcc-max()-X</th>\n",
              "      <th>tBodyAcc-max()-Y</th>\n",
              "      <th>tBodyAcc-max()-Z</th>\n",
              "      <th>tBodyAcc-min()-X</th>\n",
              "      <th>tBodyAcc-min()-Y</th>\n",
              "      <th>tBodyAcc-min()-Z</th>\n",
              "      <th>tBodyAcc-sma()</th>\n",
              "      <th>tBodyAcc-energy()-X</th>\n",
              "      <th>tBodyAcc-energy()-Y</th>\n",
              "      <th>tBodyAcc-energy()-Z</th>\n",
              "      <th>tBodyAcc-iqr()-X</th>\n",
              "      <th>tBodyAcc-iqr()-Y</th>\n",
              "      <th>tBodyAcc-iqr()-Z</th>\n",
              "      <th>tBodyAcc-entropy()-X</th>\n",
              "      <th>tBodyAcc-entropy()-Y</th>\n",
              "      <th>tBodyAcc-entropy()-Z</th>\n",
              "      <th>tBodyAcc-arCoeff()-X,1</th>\n",
              "      <th>tBodyAcc-arCoeff()-X,2</th>\n",
              "      <th>tBodyAcc-arCoeff()-X,3</th>\n",
              "      <th>tBodyAcc-arCoeff()-X,4</th>\n",
              "      <th>tBodyAcc-arCoeff()-Y,1</th>\n",
              "      <th>tBodyAcc-arCoeff()-Y,2</th>\n",
              "      <th>tBodyAcc-arCoeff()-Y,3</th>\n",
              "      <th>tBodyAcc-arCoeff()-Y,4</th>\n",
              "      <th>tBodyAcc-arCoeff()-Z,1</th>\n",
              "      <th>tBodyAcc-arCoeff()-Z,2</th>\n",
              "      <th>tBodyAcc-arCoeff()-Z,3</th>\n",
              "      <th>tBodyAcc-arCoeff()-Z,4</th>\n",
              "      <th>tBodyAcc-correlation()-X,Y</th>\n",
              "      <th>tBodyAcc-correlation()-X,Z</th>\n",
              "      <th>tBodyAcc-correlation()-Y,Z</th>\n",
              "      <th>...</th>\n",
              "      <th>fBodyBodyAccJerkMag-entropy()</th>\n",
              "      <th>fBodyBodyAccJerkMag-maxInds</th>\n",
              "      <th>fBodyBodyAccJerkMag-meanFreq()</th>\n",
              "      <th>fBodyBodyAccJerkMag-skewness()</th>\n",
              "      <th>fBodyBodyAccJerkMag-kurtosis()</th>\n",
              "      <th>fBodyBodyGyroMag-mean()</th>\n",
              "      <th>fBodyBodyGyroMag-std()</th>\n",
              "      <th>fBodyBodyGyroMag-mad()</th>\n",
              "      <th>fBodyBodyGyroMag-max()</th>\n",
              "      <th>fBodyBodyGyroMag-min()</th>\n",
              "      <th>fBodyBodyGyroMag-sma()</th>\n",
              "      <th>fBodyBodyGyroMag-energy()</th>\n",
              "      <th>fBodyBodyGyroMag-iqr()</th>\n",
              "      <th>fBodyBodyGyroMag-entropy()</th>\n",
              "      <th>fBodyBodyGyroMag-maxInds</th>\n",
              "      <th>fBodyBodyGyroMag-meanFreq()</th>\n",
              "      <th>fBodyBodyGyroMag-skewness()</th>\n",
              "      <th>fBodyBodyGyroMag-kurtosis()</th>\n",
              "      <th>fBodyBodyGyroJerkMag-mean()</th>\n",
              "      <th>fBodyBodyGyroJerkMag-std()</th>\n",
              "      <th>fBodyBodyGyroJerkMag-mad()</th>\n",
              "      <th>fBodyBodyGyroJerkMag-max()</th>\n",
              "      <th>fBodyBodyGyroJerkMag-min()</th>\n",
              "      <th>fBodyBodyGyroJerkMag-sma()</th>\n",
              "      <th>fBodyBodyGyroJerkMag-energy()</th>\n",
              "      <th>fBodyBodyGyroJerkMag-iqr()</th>\n",
              "      <th>fBodyBodyGyroJerkMag-entropy()</th>\n",
              "      <th>fBodyBodyGyroJerkMag-maxInds</th>\n",
              "      <th>fBodyBodyGyroJerkMag-meanFreq()</th>\n",
              "      <th>fBodyBodyGyroJerkMag-skewness()</th>\n",
              "      <th>fBodyBodyGyroJerkMag-kurtosis()</th>\n",
              "      <th>angle(tBodyAccMean,gravity)</th>\n",
              "      <th>angle(tBodyAccJerkMean),gravityMean)</th>\n",
              "      <th>angle(tBodyGyroMean,gravityMean)</th>\n",
              "      <th>angle(tBodyGyroJerkMean,gravityMean)</th>\n",
              "      <th>angle(X,gravityMean)</th>\n",
              "      <th>angle(Y,gravityMean)</th>\n",
              "      <th>angle(Z,gravityMean)</th>\n",
              "      <th>subject</th>\n",
              "      <th>Activity</th>\n",
              "    </tr>\n",
              "  </thead>\n",
              "  <tbody>\n",
              "    <tr>\n",
              "      <th>0</th>\n",
              "      <td>0.288585</td>\n",
              "      <td>-0.020294</td>\n",
              "      <td>-0.132905</td>\n",
              "      <td>-0.995279</td>\n",
              "      <td>-0.983111</td>\n",
              "      <td>-0.913526</td>\n",
              "      <td>-0.995112</td>\n",
              "      <td>-0.983185</td>\n",
              "      <td>-0.923527</td>\n",
              "      <td>-0.934724</td>\n",
              "      <td>-0.567378</td>\n",
              "      <td>-0.744413</td>\n",
              "      <td>0.852947</td>\n",
              "      <td>0.685845</td>\n",
              "      <td>0.814263</td>\n",
              "      <td>-0.965523</td>\n",
              "      <td>-0.999945</td>\n",
              "      <td>-0.999863</td>\n",
              "      <td>-0.994612</td>\n",
              "      <td>-0.994231</td>\n",
              "      <td>-0.987614</td>\n",
              "      <td>-0.943220</td>\n",
              "      <td>-0.407747</td>\n",
              "      <td>-0.679338</td>\n",
              "      <td>-0.602122</td>\n",
              "      <td>0.929294</td>\n",
              "      <td>-0.853011</td>\n",
              "      <td>0.359910</td>\n",
              "      <td>-0.058526</td>\n",
              "      <td>0.256892</td>\n",
              "      <td>-0.224848</td>\n",
              "      <td>0.264106</td>\n",
              "      <td>-0.095246</td>\n",
              "      <td>0.278851</td>\n",
              "      <td>-0.465085</td>\n",
              "      <td>0.491936</td>\n",
              "      <td>-0.190884</td>\n",
              "      <td>0.376314</td>\n",
              "      <td>0.435129</td>\n",
              "      <td>0.660790</td>\n",
              "      <td>...</td>\n",
              "      <td>-1.0</td>\n",
              "      <td>-0.936508</td>\n",
              "      <td>0.346989</td>\n",
              "      <td>-0.516080</td>\n",
              "      <td>-0.802760</td>\n",
              "      <td>-0.980135</td>\n",
              "      <td>-0.961309</td>\n",
              "      <td>-0.973653</td>\n",
              "      <td>-0.952264</td>\n",
              "      <td>-0.989498</td>\n",
              "      <td>-0.980135</td>\n",
              "      <td>-0.999240</td>\n",
              "      <td>-0.992656</td>\n",
              "      <td>-0.701291</td>\n",
              "      <td>-1.000000</td>\n",
              "      <td>-0.128989</td>\n",
              "      <td>0.586156</td>\n",
              "      <td>0.374605</td>\n",
              "      <td>-0.991990</td>\n",
              "      <td>-0.990697</td>\n",
              "      <td>-0.989941</td>\n",
              "      <td>-0.992448</td>\n",
              "      <td>-0.991048</td>\n",
              "      <td>-0.991990</td>\n",
              "      <td>-0.999937</td>\n",
              "      <td>-0.990458</td>\n",
              "      <td>-0.871306</td>\n",
              "      <td>-1.000000</td>\n",
              "      <td>-0.074323</td>\n",
              "      <td>-0.298676</td>\n",
              "      <td>-0.710304</td>\n",
              "      <td>-0.112754</td>\n",
              "      <td>0.030400</td>\n",
              "      <td>-0.464761</td>\n",
              "      <td>-0.018446</td>\n",
              "      <td>-0.841247</td>\n",
              "      <td>0.179941</td>\n",
              "      <td>-0.058627</td>\n",
              "      <td>1</td>\n",
              "      <td>STANDING</td>\n",
              "    </tr>\n",
              "    <tr>\n",
              "      <th>1</th>\n",
              "      <td>0.278419</td>\n",
              "      <td>-0.016411</td>\n",
              "      <td>-0.123520</td>\n",
              "      <td>-0.998245</td>\n",
              "      <td>-0.975300</td>\n",
              "      <td>-0.960322</td>\n",
              "      <td>-0.998807</td>\n",
              "      <td>-0.974914</td>\n",
              "      <td>-0.957686</td>\n",
              "      <td>-0.943068</td>\n",
              "      <td>-0.557851</td>\n",
              "      <td>-0.818409</td>\n",
              "      <td>0.849308</td>\n",
              "      <td>0.685845</td>\n",
              "      <td>0.822637</td>\n",
              "      <td>-0.981930</td>\n",
              "      <td>-0.999991</td>\n",
              "      <td>-0.999788</td>\n",
              "      <td>-0.998405</td>\n",
              "      <td>-0.999150</td>\n",
              "      <td>-0.977866</td>\n",
              "      <td>-0.948225</td>\n",
              "      <td>-0.714892</td>\n",
              "      <td>-0.500930</td>\n",
              "      <td>-0.570979</td>\n",
              "      <td>0.611627</td>\n",
              "      <td>-0.329549</td>\n",
              "      <td>0.284213</td>\n",
              "      <td>0.284595</td>\n",
              "      <td>0.115705</td>\n",
              "      <td>-0.090963</td>\n",
              "      <td>0.294310</td>\n",
              "      <td>-0.281211</td>\n",
              "      <td>0.085988</td>\n",
              "      <td>-0.022153</td>\n",
              "      <td>-0.016657</td>\n",
              "      <td>-0.220643</td>\n",
              "      <td>-0.013429</td>\n",
              "      <td>-0.072692</td>\n",
              "      <td>0.579382</td>\n",
              "      <td>...</td>\n",
              "      <td>-1.0</td>\n",
              "      <td>-0.841270</td>\n",
              "      <td>0.532061</td>\n",
              "      <td>-0.624871</td>\n",
              "      <td>-0.900160</td>\n",
              "      <td>-0.988296</td>\n",
              "      <td>-0.983322</td>\n",
              "      <td>-0.982659</td>\n",
              "      <td>-0.986321</td>\n",
              "      <td>-0.991829</td>\n",
              "      <td>-0.988296</td>\n",
              "      <td>-0.999811</td>\n",
              "      <td>-0.993979</td>\n",
              "      <td>-0.720683</td>\n",
              "      <td>-0.948718</td>\n",
              "      <td>-0.271958</td>\n",
              "      <td>-0.336310</td>\n",
              "      <td>-0.720015</td>\n",
              "      <td>-0.995854</td>\n",
              "      <td>-0.996399</td>\n",
              "      <td>-0.995442</td>\n",
              "      <td>-0.996866</td>\n",
              "      <td>-0.994440</td>\n",
              "      <td>-0.995854</td>\n",
              "      <td>-0.999981</td>\n",
              "      <td>-0.994544</td>\n",
              "      <td>-1.000000</td>\n",
              "      <td>-1.000000</td>\n",
              "      <td>0.158075</td>\n",
              "      <td>-0.595051</td>\n",
              "      <td>-0.861499</td>\n",
              "      <td>0.053477</td>\n",
              "      <td>-0.007435</td>\n",
              "      <td>-0.732626</td>\n",
              "      <td>0.703511</td>\n",
              "      <td>-0.844788</td>\n",
              "      <td>0.180289</td>\n",
              "      <td>-0.054317</td>\n",
              "      <td>1</td>\n",
              "      <td>STANDING</td>\n",
              "    </tr>\n",
              "    <tr>\n",
              "      <th>2</th>\n",
              "      <td>0.279653</td>\n",
              "      <td>-0.019467</td>\n",
              "      <td>-0.113462</td>\n",
              "      <td>-0.995380</td>\n",
              "      <td>-0.967187</td>\n",
              "      <td>-0.978944</td>\n",
              "      <td>-0.996520</td>\n",
              "      <td>-0.963668</td>\n",
              "      <td>-0.977469</td>\n",
              "      <td>-0.938692</td>\n",
              "      <td>-0.557851</td>\n",
              "      <td>-0.818409</td>\n",
              "      <td>0.843609</td>\n",
              "      <td>0.682401</td>\n",
              "      <td>0.839344</td>\n",
              "      <td>-0.983478</td>\n",
              "      <td>-0.999969</td>\n",
              "      <td>-0.999660</td>\n",
              "      <td>-0.999470</td>\n",
              "      <td>-0.997130</td>\n",
              "      <td>-0.964810</td>\n",
              "      <td>-0.974675</td>\n",
              "      <td>-0.592235</td>\n",
              "      <td>-0.485821</td>\n",
              "      <td>-0.570979</td>\n",
              "      <td>0.273025</td>\n",
              "      <td>-0.086309</td>\n",
              "      <td>0.337202</td>\n",
              "      <td>-0.164739</td>\n",
              "      <td>0.017150</td>\n",
              "      <td>-0.074507</td>\n",
              "      <td>0.342256</td>\n",
              "      <td>-0.332564</td>\n",
              "      <td>0.239281</td>\n",
              "      <td>-0.136204</td>\n",
              "      <td>0.173863</td>\n",
              "      <td>-0.299493</td>\n",
              "      <td>-0.124698</td>\n",
              "      <td>-0.181105</td>\n",
              "      <td>0.608900</td>\n",
              "      <td>...</td>\n",
              "      <td>-1.0</td>\n",
              "      <td>-0.904762</td>\n",
              "      <td>0.660795</td>\n",
              "      <td>-0.724697</td>\n",
              "      <td>-0.928539</td>\n",
              "      <td>-0.989255</td>\n",
              "      <td>-0.986028</td>\n",
              "      <td>-0.984274</td>\n",
              "      <td>-0.990979</td>\n",
              "      <td>-0.995703</td>\n",
              "      <td>-0.989255</td>\n",
              "      <td>-0.999854</td>\n",
              "      <td>-0.993238</td>\n",
              "      <td>-0.736521</td>\n",
              "      <td>-0.794872</td>\n",
              "      <td>-0.212728</td>\n",
              "      <td>-0.535352</td>\n",
              "      <td>-0.871914</td>\n",
              "      <td>-0.995031</td>\n",
              "      <td>-0.995127</td>\n",
              "      <td>-0.994640</td>\n",
              "      <td>-0.996060</td>\n",
              "      <td>-0.995866</td>\n",
              "      <td>-0.995031</td>\n",
              "      <td>-0.999973</td>\n",
              "      <td>-0.993755</td>\n",
              "      <td>-1.000000</td>\n",
              "      <td>-0.555556</td>\n",
              "      <td>0.414503</td>\n",
              "      <td>-0.390748</td>\n",
              "      <td>-0.760104</td>\n",
              "      <td>-0.118559</td>\n",
              "      <td>0.177899</td>\n",
              "      <td>0.100699</td>\n",
              "      <td>0.808529</td>\n",
              "      <td>-0.848933</td>\n",
              "      <td>0.180637</td>\n",
              "      <td>-0.049118</td>\n",
              "      <td>1</td>\n",
              "      <td>STANDING</td>\n",
              "    </tr>\n",
              "    <tr>\n",
              "      <th>3</th>\n",
              "      <td>0.279174</td>\n",
              "      <td>-0.026201</td>\n",
              "      <td>-0.123283</td>\n",
              "      <td>-0.996091</td>\n",
              "      <td>-0.983403</td>\n",
              "      <td>-0.990675</td>\n",
              "      <td>-0.997099</td>\n",
              "      <td>-0.982750</td>\n",
              "      <td>-0.989302</td>\n",
              "      <td>-0.938692</td>\n",
              "      <td>-0.576159</td>\n",
              "      <td>-0.829711</td>\n",
              "      <td>0.843609</td>\n",
              "      <td>0.682401</td>\n",
              "      <td>0.837869</td>\n",
              "      <td>-0.986093</td>\n",
              "      <td>-0.999976</td>\n",
              "      <td>-0.999736</td>\n",
              "      <td>-0.999504</td>\n",
              "      <td>-0.997180</td>\n",
              "      <td>-0.983799</td>\n",
              "      <td>-0.986007</td>\n",
              "      <td>-0.627446</td>\n",
              "      <td>-0.850930</td>\n",
              "      <td>-0.911872</td>\n",
              "      <td>0.061436</td>\n",
              "      <td>0.074840</td>\n",
              "      <td>0.198204</td>\n",
              "      <td>-0.264307</td>\n",
              "      <td>0.072545</td>\n",
              "      <td>-0.155320</td>\n",
              "      <td>0.323154</td>\n",
              "      <td>-0.170813</td>\n",
              "      <td>0.294938</td>\n",
              "      <td>-0.306081</td>\n",
              "      <td>0.482148</td>\n",
              "      <td>-0.470129</td>\n",
              "      <td>-0.305693</td>\n",
              "      <td>-0.362654</td>\n",
              "      <td>0.507459</td>\n",
              "      <td>...</td>\n",
              "      <td>-1.0</td>\n",
              "      <td>1.000000</td>\n",
              "      <td>0.678921</td>\n",
              "      <td>-0.701131</td>\n",
              "      <td>-0.909639</td>\n",
              "      <td>-0.989413</td>\n",
              "      <td>-0.987836</td>\n",
              "      <td>-0.986850</td>\n",
              "      <td>-0.986749</td>\n",
              "      <td>-0.996199</td>\n",
              "      <td>-0.989413</td>\n",
              "      <td>-0.999876</td>\n",
              "      <td>-0.989136</td>\n",
              "      <td>-0.720891</td>\n",
              "      <td>-1.000000</td>\n",
              "      <td>-0.035684</td>\n",
              "      <td>-0.230091</td>\n",
              "      <td>-0.511217</td>\n",
              "      <td>-0.995221</td>\n",
              "      <td>-0.995237</td>\n",
              "      <td>-0.995722</td>\n",
              "      <td>-0.995273</td>\n",
              "      <td>-0.995732</td>\n",
              "      <td>-0.995221</td>\n",
              "      <td>-0.999974</td>\n",
              "      <td>-0.995226</td>\n",
              "      <td>-0.955696</td>\n",
              "      <td>-0.936508</td>\n",
              "      <td>0.404573</td>\n",
              "      <td>-0.117290</td>\n",
              "      <td>-0.482845</td>\n",
              "      <td>-0.036788</td>\n",
              "      <td>-0.012892</td>\n",
              "      <td>0.640011</td>\n",
              "      <td>-0.485366</td>\n",
              "      <td>-0.848649</td>\n",
              "      <td>0.181935</td>\n",
              "      <td>-0.047663</td>\n",
              "      <td>1</td>\n",
              "      <td>STANDING</td>\n",
              "    </tr>\n",
              "    <tr>\n",
              "      <th>4</th>\n",
              "      <td>0.276629</td>\n",
              "      <td>-0.016570</td>\n",
              "      <td>-0.115362</td>\n",
              "      <td>-0.998139</td>\n",
              "      <td>-0.980817</td>\n",
              "      <td>-0.990482</td>\n",
              "      <td>-0.998321</td>\n",
              "      <td>-0.979672</td>\n",
              "      <td>-0.990441</td>\n",
              "      <td>-0.942469</td>\n",
              "      <td>-0.569174</td>\n",
              "      <td>-0.824705</td>\n",
              "      <td>0.849095</td>\n",
              "      <td>0.683250</td>\n",
              "      <td>0.837869</td>\n",
              "      <td>-0.992653</td>\n",
              "      <td>-0.999991</td>\n",
              "      <td>-0.999856</td>\n",
              "      <td>-0.999757</td>\n",
              "      <td>-0.998004</td>\n",
              "      <td>-0.981232</td>\n",
              "      <td>-0.991325</td>\n",
              "      <td>-0.786553</td>\n",
              "      <td>-0.559477</td>\n",
              "      <td>-0.761434</td>\n",
              "      <td>0.313276</td>\n",
              "      <td>-0.131208</td>\n",
              "      <td>0.191161</td>\n",
              "      <td>0.086904</td>\n",
              "      <td>0.257615</td>\n",
              "      <td>-0.272505</td>\n",
              "      <td>0.434728</td>\n",
              "      <td>-0.315375</td>\n",
              "      <td>0.439744</td>\n",
              "      <td>-0.269069</td>\n",
              "      <td>0.179414</td>\n",
              "      <td>-0.088952</td>\n",
              "      <td>-0.155804</td>\n",
              "      <td>-0.189763</td>\n",
              "      <td>0.599213</td>\n",
              "      <td>...</td>\n",
              "      <td>-1.0</td>\n",
              "      <td>-1.000000</td>\n",
              "      <td>0.559058</td>\n",
              "      <td>-0.528901</td>\n",
              "      <td>-0.858933</td>\n",
              "      <td>-0.991433</td>\n",
              "      <td>-0.989059</td>\n",
              "      <td>-0.987744</td>\n",
              "      <td>-0.991462</td>\n",
              "      <td>-0.998353</td>\n",
              "      <td>-0.991433</td>\n",
              "      <td>-0.999902</td>\n",
              "      <td>-0.989321</td>\n",
              "      <td>-0.763372</td>\n",
              "      <td>-0.897436</td>\n",
              "      <td>-0.273582</td>\n",
              "      <td>-0.510282</td>\n",
              "      <td>-0.830702</td>\n",
              "      <td>-0.995093</td>\n",
              "      <td>-0.995465</td>\n",
              "      <td>-0.995279</td>\n",
              "      <td>-0.995609</td>\n",
              "      <td>-0.997418</td>\n",
              "      <td>-0.995093</td>\n",
              "      <td>-0.999974</td>\n",
              "      <td>-0.995487</td>\n",
              "      <td>-1.000000</td>\n",
              "      <td>-0.936508</td>\n",
              "      <td>0.087753</td>\n",
              "      <td>-0.351471</td>\n",
              "      <td>-0.699205</td>\n",
              "      <td>0.123320</td>\n",
              "      <td>0.122542</td>\n",
              "      <td>0.693578</td>\n",
              "      <td>-0.615971</td>\n",
              "      <td>-0.847865</td>\n",
              "      <td>0.185151</td>\n",
              "      <td>-0.043892</td>\n",
              "      <td>1</td>\n",
              "      <td>STANDING</td>\n",
              "    </tr>\n",
              "  </tbody>\n",
              "</table>\n",
              "<p>5 rows × 563 columns</p>\n",
              "</div>"
            ],
            "text/plain": [
              "   tBodyAcc-mean()-X  tBodyAcc-mean()-Y  ...  subject  Activity\n",
              "0           0.288585          -0.020294  ...        1  STANDING\n",
              "1           0.278419          -0.016411  ...        1  STANDING\n",
              "2           0.279653          -0.019467  ...        1  STANDING\n",
              "3           0.279174          -0.026201  ...        1  STANDING\n",
              "4           0.276629          -0.016570  ...        1  STANDING\n",
              "\n",
              "[5 rows x 563 columns]"
            ]
          },
          "execution_count": null,
          "metadata": {},
          "output_type": "execute_result"
        }
      ]
    },
    {
      "cell_type": "code",
      "metadata": {
        "colab": {
          "background_save": true,
          "base_uri": "https://localhost:8080/",
          "height": 287
        },
        "id": "LDpd_EWIy670",
        "outputId": "f84f0429-eb3b-426b-8c32-2663054d4e47"
      },
      "source": [
        "test = pd.read_csv('/content/data/test.csv')\n",
        "test.head()"
      ],
      "execution_count": null,
      "outputs": [
        {
          "data": {
            "text/html": [
              "<div>\n",
              "<style scoped>\n",
              "    .dataframe tbody tr th:only-of-type {\n",
              "        vertical-align: middle;\n",
              "    }\n",
              "\n",
              "    .dataframe tbody tr th {\n",
              "        vertical-align: top;\n",
              "    }\n",
              "\n",
              "    .dataframe thead th {\n",
              "        text-align: right;\n",
              "    }\n",
              "</style>\n",
              "<table border=\"1\" class=\"dataframe\">\n",
              "  <thead>\n",
              "    <tr style=\"text-align: right;\">\n",
              "      <th></th>\n",
              "      <th>tBodyAcc-mean()-X</th>\n",
              "      <th>tBodyAcc-mean()-Y</th>\n",
              "      <th>tBodyAcc-mean()-Z</th>\n",
              "      <th>tBodyAcc-std()-X</th>\n",
              "      <th>tBodyAcc-std()-Y</th>\n",
              "      <th>tBodyAcc-std()-Z</th>\n",
              "      <th>tBodyAcc-mad()-X</th>\n",
              "      <th>tBodyAcc-mad()-Y</th>\n",
              "      <th>tBodyAcc-mad()-Z</th>\n",
              "      <th>tBodyAcc-max()-X</th>\n",
              "      <th>tBodyAcc-max()-Y</th>\n",
              "      <th>tBodyAcc-max()-Z</th>\n",
              "      <th>tBodyAcc-min()-X</th>\n",
              "      <th>tBodyAcc-min()-Y</th>\n",
              "      <th>tBodyAcc-min()-Z</th>\n",
              "      <th>tBodyAcc-sma()</th>\n",
              "      <th>tBodyAcc-energy()-X</th>\n",
              "      <th>tBodyAcc-energy()-Y</th>\n",
              "      <th>tBodyAcc-energy()-Z</th>\n",
              "      <th>tBodyAcc-iqr()-X</th>\n",
              "      <th>tBodyAcc-iqr()-Y</th>\n",
              "      <th>tBodyAcc-iqr()-Z</th>\n",
              "      <th>tBodyAcc-entropy()-X</th>\n",
              "      <th>tBodyAcc-entropy()-Y</th>\n",
              "      <th>tBodyAcc-entropy()-Z</th>\n",
              "      <th>tBodyAcc-arCoeff()-X,1</th>\n",
              "      <th>tBodyAcc-arCoeff()-X,2</th>\n",
              "      <th>tBodyAcc-arCoeff()-X,3</th>\n",
              "      <th>tBodyAcc-arCoeff()-X,4</th>\n",
              "      <th>tBodyAcc-arCoeff()-Y,1</th>\n",
              "      <th>tBodyAcc-arCoeff()-Y,2</th>\n",
              "      <th>tBodyAcc-arCoeff()-Y,3</th>\n",
              "      <th>tBodyAcc-arCoeff()-Y,4</th>\n",
              "      <th>tBodyAcc-arCoeff()-Z,1</th>\n",
              "      <th>tBodyAcc-arCoeff()-Z,2</th>\n",
              "      <th>tBodyAcc-arCoeff()-Z,3</th>\n",
              "      <th>tBodyAcc-arCoeff()-Z,4</th>\n",
              "      <th>tBodyAcc-correlation()-X,Y</th>\n",
              "      <th>tBodyAcc-correlation()-X,Z</th>\n",
              "      <th>tBodyAcc-correlation()-Y,Z</th>\n",
              "      <th>...</th>\n",
              "      <th>fBodyBodyAccJerkMag-entropy()</th>\n",
              "      <th>fBodyBodyAccJerkMag-maxInds</th>\n",
              "      <th>fBodyBodyAccJerkMag-meanFreq()</th>\n",
              "      <th>fBodyBodyAccJerkMag-skewness()</th>\n",
              "      <th>fBodyBodyAccJerkMag-kurtosis()</th>\n",
              "      <th>fBodyBodyGyroMag-mean()</th>\n",
              "      <th>fBodyBodyGyroMag-std()</th>\n",
              "      <th>fBodyBodyGyroMag-mad()</th>\n",
              "      <th>fBodyBodyGyroMag-max()</th>\n",
              "      <th>fBodyBodyGyroMag-min()</th>\n",
              "      <th>fBodyBodyGyroMag-sma()</th>\n",
              "      <th>fBodyBodyGyroMag-energy()</th>\n",
              "      <th>fBodyBodyGyroMag-iqr()</th>\n",
              "      <th>fBodyBodyGyroMag-entropy()</th>\n",
              "      <th>fBodyBodyGyroMag-maxInds</th>\n",
              "      <th>fBodyBodyGyroMag-meanFreq()</th>\n",
              "      <th>fBodyBodyGyroMag-skewness()</th>\n",
              "      <th>fBodyBodyGyroMag-kurtosis()</th>\n",
              "      <th>fBodyBodyGyroJerkMag-mean()</th>\n",
              "      <th>fBodyBodyGyroJerkMag-std()</th>\n",
              "      <th>fBodyBodyGyroJerkMag-mad()</th>\n",
              "      <th>fBodyBodyGyroJerkMag-max()</th>\n",
              "      <th>fBodyBodyGyroJerkMag-min()</th>\n",
              "      <th>fBodyBodyGyroJerkMag-sma()</th>\n",
              "      <th>fBodyBodyGyroJerkMag-energy()</th>\n",
              "      <th>fBodyBodyGyroJerkMag-iqr()</th>\n",
              "      <th>fBodyBodyGyroJerkMag-entropy()</th>\n",
              "      <th>fBodyBodyGyroJerkMag-maxInds</th>\n",
              "      <th>fBodyBodyGyroJerkMag-meanFreq()</th>\n",
              "      <th>fBodyBodyGyroJerkMag-skewness()</th>\n",
              "      <th>fBodyBodyGyroJerkMag-kurtosis()</th>\n",
              "      <th>angle(tBodyAccMean,gravity)</th>\n",
              "      <th>angle(tBodyAccJerkMean),gravityMean)</th>\n",
              "      <th>angle(tBodyGyroMean,gravityMean)</th>\n",
              "      <th>angle(tBodyGyroJerkMean,gravityMean)</th>\n",
              "      <th>angle(X,gravityMean)</th>\n",
              "      <th>angle(Y,gravityMean)</th>\n",
              "      <th>angle(Z,gravityMean)</th>\n",
              "      <th>subject</th>\n",
              "      <th>Activity</th>\n",
              "    </tr>\n",
              "  </thead>\n",
              "  <tbody>\n",
              "    <tr>\n",
              "      <th>0</th>\n",
              "      <td>0.257178</td>\n",
              "      <td>-0.023285</td>\n",
              "      <td>-0.014654</td>\n",
              "      <td>-0.938404</td>\n",
              "      <td>-0.920091</td>\n",
              "      <td>-0.667683</td>\n",
              "      <td>-0.952501</td>\n",
              "      <td>-0.925249</td>\n",
              "      <td>-0.674302</td>\n",
              "      <td>-0.894088</td>\n",
              "      <td>-0.554577</td>\n",
              "      <td>-0.466223</td>\n",
              "      <td>0.717208</td>\n",
              "      <td>0.635502</td>\n",
              "      <td>0.789497</td>\n",
              "      <td>-0.877764</td>\n",
              "      <td>-0.997766</td>\n",
              "      <td>-0.998414</td>\n",
              "      <td>-0.934345</td>\n",
              "      <td>-0.975669</td>\n",
              "      <td>-0.949824</td>\n",
              "      <td>-0.830478</td>\n",
              "      <td>-0.168084</td>\n",
              "      <td>-0.378996</td>\n",
              "      <td>0.246217</td>\n",
              "      <td>0.521204</td>\n",
              "      <td>-0.487793</td>\n",
              "      <td>0.482280</td>\n",
              "      <td>-0.045462</td>\n",
              "      <td>0.211955</td>\n",
              "      <td>-0.134894</td>\n",
              "      <td>0.130858</td>\n",
              "      <td>-0.014176</td>\n",
              "      <td>-0.105971</td>\n",
              "      <td>0.073544</td>\n",
              "      <td>-0.171516</td>\n",
              "      <td>0.040063</td>\n",
              "      <td>0.076989</td>\n",
              "      <td>-0.490546</td>\n",
              "      <td>-0.709003</td>\n",
              "      <td>...</td>\n",
              "      <td>-0.484619</td>\n",
              "      <td>-1.000000</td>\n",
              "      <td>-0.035356</td>\n",
              "      <td>-0.254248</td>\n",
              "      <td>-0.700326</td>\n",
              "      <td>-0.770610</td>\n",
              "      <td>-0.797113</td>\n",
              "      <td>-0.764485</td>\n",
              "      <td>-0.820188</td>\n",
              "      <td>-0.937959</td>\n",
              "      <td>-0.770610</td>\n",
              "      <td>-0.970958</td>\n",
              "      <td>-0.798387</td>\n",
              "      <td>0.179435</td>\n",
              "      <td>-1.000000</td>\n",
              "      <td>-0.047391</td>\n",
              "      <td>-0.467849</td>\n",
              "      <td>-0.761326</td>\n",
              "      <td>-0.890165</td>\n",
              "      <td>-0.907308</td>\n",
              "      <td>-0.895301</td>\n",
              "      <td>-0.917883</td>\n",
              "      <td>-0.909829</td>\n",
              "      <td>-0.890165</td>\n",
              "      <td>-0.994105</td>\n",
              "      <td>-0.898022</td>\n",
              "      <td>-0.234815</td>\n",
              "      <td>-1.000000</td>\n",
              "      <td>0.071645</td>\n",
              "      <td>-0.330370</td>\n",
              "      <td>-0.705974</td>\n",
              "      <td>0.006462</td>\n",
              "      <td>0.162920</td>\n",
              "      <td>-0.825886</td>\n",
              "      <td>0.271151</td>\n",
              "      <td>-0.720009</td>\n",
              "      <td>0.276801</td>\n",
              "      <td>-0.057978</td>\n",
              "      <td>2</td>\n",
              "      <td>STANDING</td>\n",
              "    </tr>\n",
              "    <tr>\n",
              "      <th>1</th>\n",
              "      <td>0.286027</td>\n",
              "      <td>-0.013163</td>\n",
              "      <td>-0.119083</td>\n",
              "      <td>-0.975415</td>\n",
              "      <td>-0.967458</td>\n",
              "      <td>-0.944958</td>\n",
              "      <td>-0.986799</td>\n",
              "      <td>-0.968401</td>\n",
              "      <td>-0.945823</td>\n",
              "      <td>-0.894088</td>\n",
              "      <td>-0.554577</td>\n",
              "      <td>-0.806013</td>\n",
              "      <td>0.768031</td>\n",
              "      <td>0.683698</td>\n",
              "      <td>0.796706</td>\n",
              "      <td>-0.969097</td>\n",
              "      <td>-0.999580</td>\n",
              "      <td>-0.999646</td>\n",
              "      <td>-0.997720</td>\n",
              "      <td>-0.994006</td>\n",
              "      <td>-0.973637</td>\n",
              "      <td>-0.950720</td>\n",
              "      <td>-0.302437</td>\n",
              "      <td>-0.348243</td>\n",
              "      <td>-0.404785</td>\n",
              "      <td>0.507492</td>\n",
              "      <td>-0.156495</td>\n",
              "      <td>0.040674</td>\n",
              "      <td>0.272991</td>\n",
              "      <td>0.197566</td>\n",
              "      <td>-0.194556</td>\n",
              "      <td>0.411411</td>\n",
              "      <td>-0.340466</td>\n",
              "      <td>0.077555</td>\n",
              "      <td>-0.084024</td>\n",
              "      <td>0.035305</td>\n",
              "      <td>-0.010083</td>\n",
              "      <td>-0.104983</td>\n",
              "      <td>-0.429134</td>\n",
              "      <td>0.399177</td>\n",
              "      <td>...</td>\n",
              "      <td>-0.723642</td>\n",
              "      <td>-1.000000</td>\n",
              "      <td>-0.491213</td>\n",
              "      <td>-0.215404</td>\n",
              "      <td>-0.666004</td>\n",
              "      <td>-0.924461</td>\n",
              "      <td>-0.916774</td>\n",
              "      <td>-0.919383</td>\n",
              "      <td>-0.917983</td>\n",
              "      <td>-0.991121</td>\n",
              "      <td>-0.924461</td>\n",
              "      <td>-0.995727</td>\n",
              "      <td>-0.933127</td>\n",
              "      <td>-0.218860</td>\n",
              "      <td>-1.000000</td>\n",
              "      <td>-0.031474</td>\n",
              "      <td>-0.090655</td>\n",
              "      <td>-0.461801</td>\n",
              "      <td>-0.951977</td>\n",
              "      <td>-0.938212</td>\n",
              "      <td>-0.938008</td>\n",
              "      <td>-0.949922</td>\n",
              "      <td>-0.986902</td>\n",
              "      <td>-0.951977</td>\n",
              "      <td>-0.998272</td>\n",
              "      <td>-0.951255</td>\n",
              "      <td>-0.431053</td>\n",
              "      <td>-1.000000</td>\n",
              "      <td>-0.401189</td>\n",
              "      <td>-0.121845</td>\n",
              "      <td>-0.594944</td>\n",
              "      <td>-0.083495</td>\n",
              "      <td>0.017500</td>\n",
              "      <td>-0.434375</td>\n",
              "      <td>0.920593</td>\n",
              "      <td>-0.698091</td>\n",
              "      <td>0.281343</td>\n",
              "      <td>-0.083898</td>\n",
              "      <td>2</td>\n",
              "      <td>STANDING</td>\n",
              "    </tr>\n",
              "    <tr>\n",
              "      <th>2</th>\n",
              "      <td>0.275485</td>\n",
              "      <td>-0.026050</td>\n",
              "      <td>-0.118152</td>\n",
              "      <td>-0.993819</td>\n",
              "      <td>-0.969926</td>\n",
              "      <td>-0.962748</td>\n",
              "      <td>-0.994403</td>\n",
              "      <td>-0.970735</td>\n",
              "      <td>-0.963483</td>\n",
              "      <td>-0.939260</td>\n",
              "      <td>-0.568512</td>\n",
              "      <td>-0.799116</td>\n",
              "      <td>0.848305</td>\n",
              "      <td>0.667864</td>\n",
              "      <td>0.822442</td>\n",
              "      <td>-0.976782</td>\n",
              "      <td>-0.999954</td>\n",
              "      <td>-0.999570</td>\n",
              "      <td>-0.998720</td>\n",
              "      <td>-0.993456</td>\n",
              "      <td>-0.974266</td>\n",
              "      <td>-0.964976</td>\n",
              "      <td>-0.617916</td>\n",
              "      <td>-0.695490</td>\n",
              "      <td>-0.536693</td>\n",
              "      <td>0.242147</td>\n",
              "      <td>-0.114997</td>\n",
              "      <td>0.032703</td>\n",
              "      <td>0.192385</td>\n",
              "      <td>-0.011945</td>\n",
              "      <td>-0.063363</td>\n",
              "      <td>0.470819</td>\n",
              "      <td>-0.507395</td>\n",
              "      <td>0.188536</td>\n",
              "      <td>-0.231575</td>\n",
              "      <td>0.632120</td>\n",
              "      <td>-0.550708</td>\n",
              "      <td>0.305653</td>\n",
              "      <td>-0.323848</td>\n",
              "      <td>0.279786</td>\n",
              "      <td>...</td>\n",
              "      <td>-0.898000</td>\n",
              "      <td>-1.000000</td>\n",
              "      <td>0.140729</td>\n",
              "      <td>-0.206062</td>\n",
              "      <td>-0.639809</td>\n",
              "      <td>-0.975209</td>\n",
              "      <td>-0.973998</td>\n",
              "      <td>-0.967097</td>\n",
              "      <td>-0.982849</td>\n",
              "      <td>-0.997663</td>\n",
              "      <td>-0.975209</td>\n",
              "      <td>-0.999504</td>\n",
              "      <td>-0.968260</td>\n",
              "      <td>-0.561266</td>\n",
              "      <td>-0.897436</td>\n",
              "      <td>-0.168805</td>\n",
              "      <td>-0.662317</td>\n",
              "      <td>-0.925364</td>\n",
              "      <td>-0.985689</td>\n",
              "      <td>-0.983273</td>\n",
              "      <td>-0.983422</td>\n",
              "      <td>-0.986857</td>\n",
              "      <td>-0.989609</td>\n",
              "      <td>-0.985689</td>\n",
              "      <td>-0.999831</td>\n",
              "      <td>-0.986148</td>\n",
              "      <td>-0.809976</td>\n",
              "      <td>-0.936508</td>\n",
              "      <td>0.062891</td>\n",
              "      <td>-0.190422</td>\n",
              "      <td>-0.640736</td>\n",
              "      <td>-0.034956</td>\n",
              "      <td>0.202302</td>\n",
              "      <td>0.064103</td>\n",
              "      <td>0.145068</td>\n",
              "      <td>-0.702771</td>\n",
              "      <td>0.280083</td>\n",
              "      <td>-0.079346</td>\n",
              "      <td>2</td>\n",
              "      <td>STANDING</td>\n",
              "    </tr>\n",
              "    <tr>\n",
              "      <th>3</th>\n",
              "      <td>0.270298</td>\n",
              "      <td>-0.032614</td>\n",
              "      <td>-0.117520</td>\n",
              "      <td>-0.994743</td>\n",
              "      <td>-0.973268</td>\n",
              "      <td>-0.967091</td>\n",
              "      <td>-0.995274</td>\n",
              "      <td>-0.974471</td>\n",
              "      <td>-0.968897</td>\n",
              "      <td>-0.938610</td>\n",
              "      <td>-0.568512</td>\n",
              "      <td>-0.799116</td>\n",
              "      <td>0.848305</td>\n",
              "      <td>0.667864</td>\n",
              "      <td>0.822442</td>\n",
              "      <td>-0.974418</td>\n",
              "      <td>-0.999953</td>\n",
              "      <td>-0.999330</td>\n",
              "      <td>-0.998933</td>\n",
              "      <td>-0.995236</td>\n",
              "      <td>-0.978739</td>\n",
              "      <td>-0.969982</td>\n",
              "      <td>-0.749578</td>\n",
              "      <td>-0.899226</td>\n",
              "      <td>-0.553813</td>\n",
              "      <td>0.174684</td>\n",
              "      <td>-0.051332</td>\n",
              "      <td>0.034200</td>\n",
              "      <td>0.153639</td>\n",
              "      <td>0.030767</td>\n",
              "      <td>-0.129277</td>\n",
              "      <td>0.446100</td>\n",
              "      <td>-0.419496</td>\n",
              "      <td>0.271493</td>\n",
              "      <td>-0.225769</td>\n",
              "      <td>0.416376</td>\n",
              "      <td>-0.286445</td>\n",
              "      <td>-0.063792</td>\n",
              "      <td>-0.167111</td>\n",
              "      <td>0.544916</td>\n",
              "      <td>...</td>\n",
              "      <td>-1.000000</td>\n",
              "      <td>-0.968254</td>\n",
              "      <td>0.148649</td>\n",
              "      <td>-0.619905</td>\n",
              "      <td>-0.887178</td>\n",
              "      <td>-0.976297</td>\n",
              "      <td>-0.971248</td>\n",
              "      <td>-0.966029</td>\n",
              "      <td>-0.974878</td>\n",
              "      <td>-0.996129</td>\n",
              "      <td>-0.976297</td>\n",
              "      <td>-0.999458</td>\n",
              "      <td>-0.975174</td>\n",
              "      <td>-0.566733</td>\n",
              "      <td>-0.948718</td>\n",
              "      <td>-0.285636</td>\n",
              "      <td>-0.446478</td>\n",
              "      <td>-0.756855</td>\n",
              "      <td>-0.985562</td>\n",
              "      <td>-0.985843</td>\n",
              "      <td>-0.984217</td>\n",
              "      <td>-0.988566</td>\n",
              "      <td>-0.992021</td>\n",
              "      <td>-0.985562</td>\n",
              "      <td>-0.999850</td>\n",
              "      <td>-0.984015</td>\n",
              "      <td>-0.849081</td>\n",
              "      <td>-0.936508</td>\n",
              "      <td>0.116695</td>\n",
              "      <td>-0.344418</td>\n",
              "      <td>-0.736124</td>\n",
              "      <td>-0.017067</td>\n",
              "      <td>0.154438</td>\n",
              "      <td>0.340134</td>\n",
              "      <td>0.296407</td>\n",
              "      <td>-0.698954</td>\n",
              "      <td>0.284114</td>\n",
              "      <td>-0.077108</td>\n",
              "      <td>2</td>\n",
              "      <td>STANDING</td>\n",
              "    </tr>\n",
              "    <tr>\n",
              "      <th>4</th>\n",
              "      <td>0.274833</td>\n",
              "      <td>-0.027848</td>\n",
              "      <td>-0.129527</td>\n",
              "      <td>-0.993852</td>\n",
              "      <td>-0.967445</td>\n",
              "      <td>-0.978295</td>\n",
              "      <td>-0.994111</td>\n",
              "      <td>-0.965953</td>\n",
              "      <td>-0.977346</td>\n",
              "      <td>-0.938610</td>\n",
              "      <td>-0.560831</td>\n",
              "      <td>-0.825894</td>\n",
              "      <td>0.849179</td>\n",
              "      <td>0.670700</td>\n",
              "      <td>0.829897</td>\n",
              "      <td>-0.975283</td>\n",
              "      <td>-0.999954</td>\n",
              "      <td>-0.999467</td>\n",
              "      <td>-0.998823</td>\n",
              "      <td>-0.993498</td>\n",
              "      <td>-0.967032</td>\n",
              "      <td>-0.976257</td>\n",
              "      <td>-0.590576</td>\n",
              "      <td>-0.740206</td>\n",
              "      <td>-0.799419</td>\n",
              "      <td>0.115570</td>\n",
              "      <td>-0.028923</td>\n",
              "      <td>-0.032804</td>\n",
              "      <td>0.294340</td>\n",
              "      <td>0.000630</td>\n",
              "      <td>-0.045272</td>\n",
              "      <td>0.168419</td>\n",
              "      <td>-0.068156</td>\n",
              "      <td>0.074384</td>\n",
              "      <td>0.027138</td>\n",
              "      <td>-0.145931</td>\n",
              "      <td>-0.050197</td>\n",
              "      <td>0.235151</td>\n",
              "      <td>0.290487</td>\n",
              "      <td>0.457718</td>\n",
              "      <td>...</td>\n",
              "      <td>-1.000000</td>\n",
              "      <td>-0.809524</td>\n",
              "      <td>0.422249</td>\n",
              "      <td>-0.543096</td>\n",
              "      <td>-0.831313</td>\n",
              "      <td>-0.977007</td>\n",
              "      <td>-0.969619</td>\n",
              "      <td>-0.968915</td>\n",
              "      <td>-0.973746</td>\n",
              "      <td>-0.996970</td>\n",
              "      <td>-0.977007</td>\n",
              "      <td>-0.999429</td>\n",
              "      <td>-0.976111</td>\n",
              "      <td>-0.555564</td>\n",
              "      <td>-1.000000</td>\n",
              "      <td>-0.349061</td>\n",
              "      <td>-0.319763</td>\n",
              "      <td>-0.691739</td>\n",
              "      <td>-0.990498</td>\n",
              "      <td>-0.990572</td>\n",
              "      <td>-0.988406</td>\n",
              "      <td>-0.992653</td>\n",
              "      <td>-0.992505</td>\n",
              "      <td>-0.990498</td>\n",
              "      <td>-0.999925</td>\n",
              "      <td>-0.986376</td>\n",
              "      <td>-0.895847</td>\n",
              "      <td>-0.936508</td>\n",
              "      <td>-0.121711</td>\n",
              "      <td>-0.534685</td>\n",
              "      <td>-0.846595</td>\n",
              "      <td>-0.002223</td>\n",
              "      <td>-0.040046</td>\n",
              "      <td>0.736715</td>\n",
              "      <td>-0.118545</td>\n",
              "      <td>-0.692245</td>\n",
              "      <td>0.290722</td>\n",
              "      <td>-0.073857</td>\n",
              "      <td>2</td>\n",
              "      <td>STANDING</td>\n",
              "    </tr>\n",
              "  </tbody>\n",
              "</table>\n",
              "<p>5 rows × 563 columns</p>\n",
              "</div>"
            ],
            "text/plain": [
              "   tBodyAcc-mean()-X  tBodyAcc-mean()-Y  ...  subject  Activity\n",
              "0           0.257178          -0.023285  ...        2  STANDING\n",
              "1           0.286027          -0.013163  ...        2  STANDING\n",
              "2           0.275485          -0.026050  ...        2  STANDING\n",
              "3           0.270298          -0.032614  ...        2  STANDING\n",
              "4           0.274833          -0.027848  ...        2  STANDING\n",
              "\n",
              "[5 rows x 563 columns]"
            ]
          },
          "execution_count": null,
          "metadata": {},
          "output_type": "execute_result"
        }
      ]
    },
    {
      "cell_type": "code",
      "metadata": {
        "colab": {
          "background_save": true,
          "base_uri": "https://localhost:8080/"
        },
        "id": "46J8IAM_zO7P",
        "outputId": "b38c0e81-fa3b-48f6-f360-64cd94abf732"
      },
      "source": [
        "train.shape"
      ],
      "execution_count": null,
      "outputs": [
        {
          "data": {
            "text/plain": [
              "(7352, 563)"
            ]
          },
          "execution_count": null,
          "metadata": {},
          "output_type": "execute_result"
        }
      ]
    },
    {
      "cell_type": "code",
      "metadata": {
        "colab": {
          "background_save": true,
          "base_uri": "https://localhost:8080/"
        },
        "id": "R7hmG5jwzV5Q",
        "outputId": "6d795ce5-38d2-420e-c604-a48ec74f4bf8"
      },
      "source": [
        "test.shape"
      ],
      "execution_count": null,
      "outputs": [
        {
          "data": {
            "text/plain": [
              "(2947, 563)"
            ]
          },
          "execution_count": null,
          "metadata": {},
          "output_type": "execute_result"
        }
      ]
    },
    {
      "cell_type": "code",
      "metadata": {
        "colab": {
          "background_save": true,
          "base_uri": "https://localhost:8080/",
          "height": 380
        },
        "id": "eCfW8B7azY_l",
        "outputId": "ef363523-855d-47f2-b626-6212fc3536df"
      },
      "source": [
        "train.describe()"
      ],
      "execution_count": null,
      "outputs": [
        {
          "data": {
            "text/html": [
              "<div>\n",
              "<style scoped>\n",
              "    .dataframe tbody tr th:only-of-type {\n",
              "        vertical-align: middle;\n",
              "    }\n",
              "\n",
              "    .dataframe tbody tr th {\n",
              "        vertical-align: top;\n",
              "    }\n",
              "\n",
              "    .dataframe thead th {\n",
              "        text-align: right;\n",
              "    }\n",
              "</style>\n",
              "<table border=\"1\" class=\"dataframe\">\n",
              "  <thead>\n",
              "    <tr style=\"text-align: right;\">\n",
              "      <th></th>\n",
              "      <th>tBodyAcc-mean()-X</th>\n",
              "      <th>tBodyAcc-mean()-Y</th>\n",
              "      <th>tBodyAcc-mean()-Z</th>\n",
              "      <th>tBodyAcc-std()-X</th>\n",
              "      <th>tBodyAcc-std()-Y</th>\n",
              "      <th>tBodyAcc-std()-Z</th>\n",
              "      <th>tBodyAcc-mad()-X</th>\n",
              "      <th>tBodyAcc-mad()-Y</th>\n",
              "      <th>tBodyAcc-mad()-Z</th>\n",
              "      <th>tBodyAcc-max()-X</th>\n",
              "      <th>tBodyAcc-max()-Y</th>\n",
              "      <th>tBodyAcc-max()-Z</th>\n",
              "      <th>tBodyAcc-min()-X</th>\n",
              "      <th>tBodyAcc-min()-Y</th>\n",
              "      <th>tBodyAcc-min()-Z</th>\n",
              "      <th>tBodyAcc-sma()</th>\n",
              "      <th>tBodyAcc-energy()-X</th>\n",
              "      <th>tBodyAcc-energy()-Y</th>\n",
              "      <th>tBodyAcc-energy()-Z</th>\n",
              "      <th>tBodyAcc-iqr()-X</th>\n",
              "      <th>tBodyAcc-iqr()-Y</th>\n",
              "      <th>tBodyAcc-iqr()-Z</th>\n",
              "      <th>tBodyAcc-entropy()-X</th>\n",
              "      <th>tBodyAcc-entropy()-Y</th>\n",
              "      <th>tBodyAcc-entropy()-Z</th>\n",
              "      <th>tBodyAcc-arCoeff()-X,1</th>\n",
              "      <th>tBodyAcc-arCoeff()-X,2</th>\n",
              "      <th>tBodyAcc-arCoeff()-X,3</th>\n",
              "      <th>tBodyAcc-arCoeff()-X,4</th>\n",
              "      <th>tBodyAcc-arCoeff()-Y,1</th>\n",
              "      <th>tBodyAcc-arCoeff()-Y,2</th>\n",
              "      <th>tBodyAcc-arCoeff()-Y,3</th>\n",
              "      <th>tBodyAcc-arCoeff()-Y,4</th>\n",
              "      <th>tBodyAcc-arCoeff()-Z,1</th>\n",
              "      <th>tBodyAcc-arCoeff()-Z,2</th>\n",
              "      <th>tBodyAcc-arCoeff()-Z,3</th>\n",
              "      <th>tBodyAcc-arCoeff()-Z,4</th>\n",
              "      <th>tBodyAcc-correlation()-X,Y</th>\n",
              "      <th>tBodyAcc-correlation()-X,Z</th>\n",
              "      <th>tBodyAcc-correlation()-Y,Z</th>\n",
              "      <th>...</th>\n",
              "      <th>fBodyBodyAccJerkMag-iqr()</th>\n",
              "      <th>fBodyBodyAccJerkMag-entropy()</th>\n",
              "      <th>fBodyBodyAccJerkMag-maxInds</th>\n",
              "      <th>fBodyBodyAccJerkMag-meanFreq()</th>\n",
              "      <th>fBodyBodyAccJerkMag-skewness()</th>\n",
              "      <th>fBodyBodyAccJerkMag-kurtosis()</th>\n",
              "      <th>fBodyBodyGyroMag-mean()</th>\n",
              "      <th>fBodyBodyGyroMag-std()</th>\n",
              "      <th>fBodyBodyGyroMag-mad()</th>\n",
              "      <th>fBodyBodyGyroMag-max()</th>\n",
              "      <th>fBodyBodyGyroMag-min()</th>\n",
              "      <th>fBodyBodyGyroMag-sma()</th>\n",
              "      <th>fBodyBodyGyroMag-energy()</th>\n",
              "      <th>fBodyBodyGyroMag-iqr()</th>\n",
              "      <th>fBodyBodyGyroMag-entropy()</th>\n",
              "      <th>fBodyBodyGyroMag-maxInds</th>\n",
              "      <th>fBodyBodyGyroMag-meanFreq()</th>\n",
              "      <th>fBodyBodyGyroMag-skewness()</th>\n",
              "      <th>fBodyBodyGyroMag-kurtosis()</th>\n",
              "      <th>fBodyBodyGyroJerkMag-mean()</th>\n",
              "      <th>fBodyBodyGyroJerkMag-std()</th>\n",
              "      <th>fBodyBodyGyroJerkMag-mad()</th>\n",
              "      <th>fBodyBodyGyroJerkMag-max()</th>\n",
              "      <th>fBodyBodyGyroJerkMag-min()</th>\n",
              "      <th>fBodyBodyGyroJerkMag-sma()</th>\n",
              "      <th>fBodyBodyGyroJerkMag-energy()</th>\n",
              "      <th>fBodyBodyGyroJerkMag-iqr()</th>\n",
              "      <th>fBodyBodyGyroJerkMag-entropy()</th>\n",
              "      <th>fBodyBodyGyroJerkMag-maxInds</th>\n",
              "      <th>fBodyBodyGyroJerkMag-meanFreq()</th>\n",
              "      <th>fBodyBodyGyroJerkMag-skewness()</th>\n",
              "      <th>fBodyBodyGyroJerkMag-kurtosis()</th>\n",
              "      <th>angle(tBodyAccMean,gravity)</th>\n",
              "      <th>angle(tBodyAccJerkMean),gravityMean)</th>\n",
              "      <th>angle(tBodyGyroMean,gravityMean)</th>\n",
              "      <th>angle(tBodyGyroJerkMean,gravityMean)</th>\n",
              "      <th>angle(X,gravityMean)</th>\n",
              "      <th>angle(Y,gravityMean)</th>\n",
              "      <th>angle(Z,gravityMean)</th>\n",
              "      <th>subject</th>\n",
              "    </tr>\n",
              "  </thead>\n",
              "  <tbody>\n",
              "    <tr>\n",
              "      <th>count</th>\n",
              "      <td>7352.000000</td>\n",
              "      <td>7352.000000</td>\n",
              "      <td>7352.000000</td>\n",
              "      <td>7352.000000</td>\n",
              "      <td>7352.000000</td>\n",
              "      <td>7352.000000</td>\n",
              "      <td>7352.000000</td>\n",
              "      <td>7352.000000</td>\n",
              "      <td>7352.000000</td>\n",
              "      <td>7352.000000</td>\n",
              "      <td>7352.000000</td>\n",
              "      <td>7352.000000</td>\n",
              "      <td>7352.000000</td>\n",
              "      <td>7352.000000</td>\n",
              "      <td>7352.000000</td>\n",
              "      <td>7352.000000</td>\n",
              "      <td>7352.000000</td>\n",
              "      <td>7352.000000</td>\n",
              "      <td>7352.000000</td>\n",
              "      <td>7352.000000</td>\n",
              "      <td>7352.000000</td>\n",
              "      <td>7352.000000</td>\n",
              "      <td>7352.000000</td>\n",
              "      <td>7352.000000</td>\n",
              "      <td>7352.000000</td>\n",
              "      <td>7352.000000</td>\n",
              "      <td>7352.000000</td>\n",
              "      <td>7352.000000</td>\n",
              "      <td>7352.000000</td>\n",
              "      <td>7352.000000</td>\n",
              "      <td>7352.000000</td>\n",
              "      <td>7352.000000</td>\n",
              "      <td>7352.000000</td>\n",
              "      <td>7352.000000</td>\n",
              "      <td>7352.000000</td>\n",
              "      <td>7352.000000</td>\n",
              "      <td>7352.000000</td>\n",
              "      <td>7352.000000</td>\n",
              "      <td>7352.000000</td>\n",
              "      <td>7352.000000</td>\n",
              "      <td>...</td>\n",
              "      <td>7352.000000</td>\n",
              "      <td>7352.000000</td>\n",
              "      <td>7352.000000</td>\n",
              "      <td>7352.000000</td>\n",
              "      <td>7352.000000</td>\n",
              "      <td>7352.000000</td>\n",
              "      <td>7352.000000</td>\n",
              "      <td>7352.000000</td>\n",
              "      <td>7352.000000</td>\n",
              "      <td>7352.000000</td>\n",
              "      <td>7352.000000</td>\n",
              "      <td>7352.000000</td>\n",
              "      <td>7352.000000</td>\n",
              "      <td>7352.000000</td>\n",
              "      <td>7352.000000</td>\n",
              "      <td>7352.000000</td>\n",
              "      <td>7352.000000</td>\n",
              "      <td>7352.000000</td>\n",
              "      <td>7352.000000</td>\n",
              "      <td>7352.000000</td>\n",
              "      <td>7352.000000</td>\n",
              "      <td>7352.000000</td>\n",
              "      <td>7352.000000</td>\n",
              "      <td>7352.000000</td>\n",
              "      <td>7352.000000</td>\n",
              "      <td>7352.000000</td>\n",
              "      <td>7352.000000</td>\n",
              "      <td>7352.000000</td>\n",
              "      <td>7352.000000</td>\n",
              "      <td>7352.000000</td>\n",
              "      <td>7352.000000</td>\n",
              "      <td>7352.000000</td>\n",
              "      <td>7352.000000</td>\n",
              "      <td>7352.000000</td>\n",
              "      <td>7352.000000</td>\n",
              "      <td>7352.000000</td>\n",
              "      <td>7352.000000</td>\n",
              "      <td>7352.000000</td>\n",
              "      <td>7352.000000</td>\n",
              "      <td>7352.000000</td>\n",
              "    </tr>\n",
              "    <tr>\n",
              "      <th>mean</th>\n",
              "      <td>0.274488</td>\n",
              "      <td>-0.017695</td>\n",
              "      <td>-0.109141</td>\n",
              "      <td>-0.605438</td>\n",
              "      <td>-0.510938</td>\n",
              "      <td>-0.604754</td>\n",
              "      <td>-0.630512</td>\n",
              "      <td>-0.526907</td>\n",
              "      <td>-0.606150</td>\n",
              "      <td>-0.468604</td>\n",
              "      <td>-0.306043</td>\n",
              "      <td>-0.557121</td>\n",
              "      <td>0.523551</td>\n",
              "      <td>0.387386</td>\n",
              "      <td>0.594374</td>\n",
              "      <td>-0.547569</td>\n",
              "      <td>-0.820041</td>\n",
              "      <td>-0.901874</td>\n",
              "      <td>-0.845784</td>\n",
              "      <td>-0.684345</td>\n",
              "      <td>-0.643770</td>\n",
              "      <td>-0.631069</td>\n",
              "      <td>-0.102993</td>\n",
              "      <td>-0.137937</td>\n",
              "      <td>-0.163946</td>\n",
              "      <td>-0.116599</td>\n",
              "      <td>0.102762</td>\n",
              "      <td>-0.037786</td>\n",
              "      <td>0.130477</td>\n",
              "      <td>-0.026229</td>\n",
              "      <td>0.026322</td>\n",
              "      <td>0.159966</td>\n",
              "      <td>-0.019575</td>\n",
              "      <td>0.009420</td>\n",
              "      <td>0.033291</td>\n",
              "      <td>0.036587</td>\n",
              "      <td>-0.078640</td>\n",
              "      <td>-0.125131</td>\n",
              "      <td>-0.193802</td>\n",
              "      <td>0.105005</td>\n",
              "      <td>...</td>\n",
              "      <td>-0.678618</td>\n",
              "      <td>-0.347657</td>\n",
              "      <td>-0.877995</td>\n",
              "      <td>0.178195</td>\n",
              "      <td>-0.312968</td>\n",
              "      <td>-0.615441</td>\n",
              "      <td>-0.693210</td>\n",
              "      <td>-0.692876</td>\n",
              "      <td>-0.674830</td>\n",
              "      <td>-0.726645</td>\n",
              "      <td>-0.885103</td>\n",
              "      <td>-0.693210</td>\n",
              "      <td>-0.874292</td>\n",
              "      <td>-0.719795</td>\n",
              "      <td>-0.087878</td>\n",
              "      <td>-0.889442</td>\n",
              "      <td>-0.046516</td>\n",
              "      <td>-0.253649</td>\n",
              "      <td>-0.565425</td>\n",
              "      <td>-0.779376</td>\n",
              "      <td>-0.792391</td>\n",
              "      <td>-0.772836</td>\n",
              "      <td>-0.811409</td>\n",
              "      <td>-0.871927</td>\n",
              "      <td>-0.779376</td>\n",
              "      <td>-0.935785</td>\n",
              "      <td>-0.771497</td>\n",
              "      <td>-0.284627</td>\n",
              "      <td>-0.898859</td>\n",
              "      <td>0.125293</td>\n",
              "      <td>-0.307009</td>\n",
              "      <td>-0.625294</td>\n",
              "      <td>0.008684</td>\n",
              "      <td>0.002186</td>\n",
              "      <td>0.008726</td>\n",
              "      <td>-0.005981</td>\n",
              "      <td>-0.489547</td>\n",
              "      <td>0.058593</td>\n",
              "      <td>-0.056515</td>\n",
              "      <td>17.413085</td>\n",
              "    </tr>\n",
              "    <tr>\n",
              "      <th>std</th>\n",
              "      <td>0.070261</td>\n",
              "      <td>0.040811</td>\n",
              "      <td>0.056635</td>\n",
              "      <td>0.448734</td>\n",
              "      <td>0.502645</td>\n",
              "      <td>0.418687</td>\n",
              "      <td>0.424073</td>\n",
              "      <td>0.485942</td>\n",
              "      <td>0.414122</td>\n",
              "      <td>0.544547</td>\n",
              "      <td>0.282243</td>\n",
              "      <td>0.293867</td>\n",
              "      <td>0.363594</td>\n",
              "      <td>0.343611</td>\n",
              "      <td>0.297818</td>\n",
              "      <td>0.471808</td>\n",
              "      <td>0.259607</td>\n",
              "      <td>0.126333</td>\n",
              "      <td>0.221983</td>\n",
              "      <td>0.371608</td>\n",
              "      <td>0.371581</td>\n",
              "      <td>0.386569</td>\n",
              "      <td>0.468959</td>\n",
              "      <td>0.437268</td>\n",
              "      <td>0.371363</td>\n",
              "      <td>0.306507</td>\n",
              "      <td>0.246593</td>\n",
              "      <td>0.243635</td>\n",
              "      <td>0.230067</td>\n",
              "      <td>0.257383</td>\n",
              "      <td>0.215001</td>\n",
              "      <td>0.208837</td>\n",
              "      <td>0.221432</td>\n",
              "      <td>0.286081</td>\n",
              "      <td>0.216289</td>\n",
              "      <td>0.236226</td>\n",
              "      <td>0.232757</td>\n",
              "      <td>0.363155</td>\n",
              "      <td>0.331122</td>\n",
              "      <td>0.385379</td>\n",
              "      <td>...</td>\n",
              "      <td>0.370612</td>\n",
              "      <td>0.670112</td>\n",
              "      <td>0.188636</td>\n",
              "      <td>0.253755</td>\n",
              "      <td>0.358631</td>\n",
              "      <td>0.345329</td>\n",
              "      <td>0.335026</td>\n",
              "      <td>0.322850</td>\n",
              "      <td>0.343454</td>\n",
              "      <td>0.293098</td>\n",
              "      <td>0.173574</td>\n",
              "      <td>0.335026</td>\n",
              "      <td>0.192684</td>\n",
              "      <td>0.318706</td>\n",
              "      <td>0.611793</td>\n",
              "      <td>0.157653</td>\n",
              "      <td>0.282665</td>\n",
              "      <td>0.326624</td>\n",
              "      <td>0.326620</td>\n",
              "      <td>0.275733</td>\n",
              "      <td>0.265434</td>\n",
              "      <td>0.287613</td>\n",
              "      <td>0.246680</td>\n",
              "      <td>0.193344</td>\n",
              "      <td>0.275733</td>\n",
              "      <td>0.138683</td>\n",
              "      <td>0.287577</td>\n",
              "      <td>0.630896</td>\n",
              "      <td>0.143135</td>\n",
              "      <td>0.250994</td>\n",
              "      <td>0.321011</td>\n",
              "      <td>0.307584</td>\n",
              "      <td>0.336787</td>\n",
              "      <td>0.448306</td>\n",
              "      <td>0.608303</td>\n",
              "      <td>0.477975</td>\n",
              "      <td>0.511807</td>\n",
              "      <td>0.297480</td>\n",
              "      <td>0.279122</td>\n",
              "      <td>8.975143</td>\n",
              "    </tr>\n",
              "    <tr>\n",
              "      <th>min</th>\n",
              "      <td>-1.000000</td>\n",
              "      <td>-1.000000</td>\n",
              "      <td>-1.000000</td>\n",
              "      <td>-1.000000</td>\n",
              "      <td>-0.999873</td>\n",
              "      <td>-1.000000</td>\n",
              "      <td>-1.000000</td>\n",
              "      <td>-1.000000</td>\n",
              "      <td>-1.000000</td>\n",
              "      <td>-1.000000</td>\n",
              "      <td>-1.000000</td>\n",
              "      <td>-1.000000</td>\n",
              "      <td>-1.000000</td>\n",
              "      <td>-1.000000</td>\n",
              "      <td>-1.000000</td>\n",
              "      <td>-1.000000</td>\n",
              "      <td>-1.000000</td>\n",
              "      <td>-0.999999</td>\n",
              "      <td>-1.000000</td>\n",
              "      <td>-1.000000</td>\n",
              "      <td>-1.000000</td>\n",
              "      <td>-1.000000</td>\n",
              "      <td>-1.000000</td>\n",
              "      <td>-1.000000</td>\n",
              "      <td>-1.000000</td>\n",
              "      <td>-0.925897</td>\n",
              "      <td>-0.963099</td>\n",
              "      <td>-1.000000</td>\n",
              "      <td>-0.822053</td>\n",
              "      <td>-1.000000</td>\n",
              "      <td>-1.000000</td>\n",
              "      <td>-1.000000</td>\n",
              "      <td>-1.000000</td>\n",
              "      <td>-1.000000</td>\n",
              "      <td>-0.753754</td>\n",
              "      <td>-1.000000</td>\n",
              "      <td>-1.000000</td>\n",
              "      <td>-1.000000</td>\n",
              "      <td>-1.000000</td>\n",
              "      <td>-0.972219</td>\n",
              "      <td>...</td>\n",
              "      <td>-0.999499</td>\n",
              "      <td>-1.000000</td>\n",
              "      <td>-1.000000</td>\n",
              "      <td>-1.000000</td>\n",
              "      <td>-1.000000</td>\n",
              "      <td>-1.000000</td>\n",
              "      <td>-1.000000</td>\n",
              "      <td>-1.000000</td>\n",
              "      <td>-1.000000</td>\n",
              "      <td>-1.000000</td>\n",
              "      <td>-1.000000</td>\n",
              "      <td>-1.000000</td>\n",
              "      <td>-1.000000</td>\n",
              "      <td>-1.000000</td>\n",
              "      <td>-1.000000</td>\n",
              "      <td>-1.000000</td>\n",
              "      <td>-0.997500</td>\n",
              "      <td>-1.000000</td>\n",
              "      <td>-1.000000</td>\n",
              "      <td>-0.999996</td>\n",
              "      <td>-1.000000</td>\n",
              "      <td>-1.000000</td>\n",
              "      <td>-1.000000</td>\n",
              "      <td>-1.000000</td>\n",
              "      <td>-0.999996</td>\n",
              "      <td>-1.000000</td>\n",
              "      <td>-1.000000</td>\n",
              "      <td>-1.000000</td>\n",
              "      <td>-1.000000</td>\n",
              "      <td>-1.000000</td>\n",
              "      <td>-0.995357</td>\n",
              "      <td>-0.999765</td>\n",
              "      <td>-0.976580</td>\n",
              "      <td>-1.000000</td>\n",
              "      <td>-1.000000</td>\n",
              "      <td>-1.000000</td>\n",
              "      <td>-1.000000</td>\n",
              "      <td>-1.000000</td>\n",
              "      <td>-1.000000</td>\n",
              "      <td>1.000000</td>\n",
              "    </tr>\n",
              "    <tr>\n",
              "      <th>25%</th>\n",
              "      <td>0.262975</td>\n",
              "      <td>-0.024863</td>\n",
              "      <td>-0.120993</td>\n",
              "      <td>-0.992754</td>\n",
              "      <td>-0.978129</td>\n",
              "      <td>-0.980233</td>\n",
              "      <td>-0.993591</td>\n",
              "      <td>-0.978162</td>\n",
              "      <td>-0.980251</td>\n",
              "      <td>-0.936219</td>\n",
              "      <td>-0.563561</td>\n",
              "      <td>-0.812744</td>\n",
              "      <td>0.197051</td>\n",
              "      <td>0.101829</td>\n",
              "      <td>0.389787</td>\n",
              "      <td>-0.982992</td>\n",
              "      <td>-0.999936</td>\n",
              "      <td>-0.999786</td>\n",
              "      <td>-0.999460</td>\n",
              "      <td>-0.994387</td>\n",
              "      <td>-0.982159</td>\n",
              "      <td>-0.979623</td>\n",
              "      <td>-0.573441</td>\n",
              "      <td>-0.559584</td>\n",
              "      <td>-0.505512</td>\n",
              "      <td>-0.364926</td>\n",
              "      <td>-0.082544</td>\n",
              "      <td>-0.190581</td>\n",
              "      <td>-0.023857</td>\n",
              "      <td>-0.221943</td>\n",
              "      <td>-0.135433</td>\n",
              "      <td>0.034430</td>\n",
              "      <td>-0.168841</td>\n",
              "      <td>-0.207296</td>\n",
              "      <td>-0.123514</td>\n",
              "      <td>-0.106542</td>\n",
              "      <td>-0.238877</td>\n",
              "      <td>-0.373937</td>\n",
              "      <td>-0.403511</td>\n",
              "      <td>-0.147970</td>\n",
              "      <td>...</td>\n",
              "      <td>-0.989044</td>\n",
              "      <td>-1.000000</td>\n",
              "      <td>-0.968254</td>\n",
              "      <td>-0.000409</td>\n",
              "      <td>-0.607485</td>\n",
              "      <td>-0.882254</td>\n",
              "      <td>-0.984123</td>\n",
              "      <td>-0.980329</td>\n",
              "      <td>-0.980453</td>\n",
              "      <td>-0.981029</td>\n",
              "      <td>-0.994189</td>\n",
              "      <td>-0.984123</td>\n",
              "      <td>-0.999725</td>\n",
              "      <td>-0.986633</td>\n",
              "      <td>-0.690397</td>\n",
              "      <td>-1.000000</td>\n",
              "      <td>-0.240882</td>\n",
              "      <td>-0.492028</td>\n",
              "      <td>-0.802207</td>\n",
              "      <td>-0.993100</td>\n",
              "      <td>-0.993508</td>\n",
              "      <td>-0.992736</td>\n",
              "      <td>-0.994355</td>\n",
              "      <td>-0.994065</td>\n",
              "      <td>-0.993100</td>\n",
              "      <td>-0.999957</td>\n",
              "      <td>-0.992268</td>\n",
              "      <td>-0.955696</td>\n",
              "      <td>-0.968254</td>\n",
              "      <td>-0.023692</td>\n",
              "      <td>-0.542602</td>\n",
              "      <td>-0.845573</td>\n",
              "      <td>-0.121527</td>\n",
              "      <td>-0.289549</td>\n",
              "      <td>-0.482273</td>\n",
              "      <td>-0.376341</td>\n",
              "      <td>-0.812065</td>\n",
              "      <td>-0.017885</td>\n",
              "      <td>-0.143414</td>\n",
              "      <td>8.000000</td>\n",
              "    </tr>\n",
              "    <tr>\n",
              "      <th>50%</th>\n",
              "      <td>0.277193</td>\n",
              "      <td>-0.017219</td>\n",
              "      <td>-0.108676</td>\n",
              "      <td>-0.946196</td>\n",
              "      <td>-0.851897</td>\n",
              "      <td>-0.859365</td>\n",
              "      <td>-0.950709</td>\n",
              "      <td>-0.857328</td>\n",
              "      <td>-0.857143</td>\n",
              "      <td>-0.881637</td>\n",
              "      <td>-0.479677</td>\n",
              "      <td>-0.736516</td>\n",
              "      <td>0.792060</td>\n",
              "      <td>0.627737</td>\n",
              "      <td>0.778059</td>\n",
              "      <td>-0.885461</td>\n",
              "      <td>-0.998046</td>\n",
              "      <td>-0.994065</td>\n",
              "      <td>-0.985546</td>\n",
              "      <td>-0.957859</td>\n",
              "      <td>-0.896093</td>\n",
              "      <td>-0.864515</td>\n",
              "      <td>-0.073369</td>\n",
              "      <td>-0.136793</td>\n",
              "      <td>-0.148889</td>\n",
              "      <td>-0.129393</td>\n",
              "      <td>0.070073</td>\n",
              "      <td>-0.019001</td>\n",
              "      <td>0.134149</td>\n",
              "      <td>-0.040710</td>\n",
              "      <td>0.011748</td>\n",
              "      <td>0.168444</td>\n",
              "      <td>-0.022448</td>\n",
              "      <td>0.029044</td>\n",
              "      <td>0.003266</td>\n",
              "      <td>0.049432</td>\n",
              "      <td>-0.081940</td>\n",
              "      <td>-0.163728</td>\n",
              "      <td>-0.189673</td>\n",
              "      <td>0.147482</td>\n",
              "      <td>...</td>\n",
              "      <td>-0.950502</td>\n",
              "      <td>-0.740806</td>\n",
              "      <td>-0.904762</td>\n",
              "      <td>0.168645</td>\n",
              "      <td>-0.364784</td>\n",
              "      <td>-0.727332</td>\n",
              "      <td>-0.886439</td>\n",
              "      <td>-0.837698</td>\n",
              "      <td>-0.859053</td>\n",
              "      <td>-0.836296</td>\n",
              "      <td>-0.960136</td>\n",
              "      <td>-0.886439</td>\n",
              "      <td>-0.986266</td>\n",
              "      <td>-0.923298</td>\n",
              "      <td>-0.190223</td>\n",
              "      <td>-0.948718</td>\n",
              "      <td>-0.061597</td>\n",
              "      <td>-0.309252</td>\n",
              "      <td>-0.655594</td>\n",
              "      <td>-0.952398</td>\n",
              "      <td>-0.947140</td>\n",
              "      <td>-0.945223</td>\n",
              "      <td>-0.950796</td>\n",
              "      <td>-0.975676</td>\n",
              "      <td>-0.952398</td>\n",
              "      <td>-0.998471</td>\n",
              "      <td>-0.949768</td>\n",
              "      <td>-0.455569</td>\n",
              "      <td>-0.904762</td>\n",
              "      <td>0.134000</td>\n",
              "      <td>-0.343685</td>\n",
              "      <td>-0.711692</td>\n",
              "      <td>0.009509</td>\n",
              "      <td>0.008943</td>\n",
              "      <td>0.008735</td>\n",
              "      <td>-0.000368</td>\n",
              "      <td>-0.709417</td>\n",
              "      <td>0.182071</td>\n",
              "      <td>0.003181</td>\n",
              "      <td>19.000000</td>\n",
              "    </tr>\n",
              "    <tr>\n",
              "      <th>75%</th>\n",
              "      <td>0.288461</td>\n",
              "      <td>-0.010783</td>\n",
              "      <td>-0.097794</td>\n",
              "      <td>-0.242813</td>\n",
              "      <td>-0.034231</td>\n",
              "      <td>-0.262415</td>\n",
              "      <td>-0.292680</td>\n",
              "      <td>-0.066701</td>\n",
              "      <td>-0.265671</td>\n",
              "      <td>-0.017129</td>\n",
              "      <td>-0.065364</td>\n",
              "      <td>-0.332014</td>\n",
              "      <td>0.844420</td>\n",
              "      <td>0.685622</td>\n",
              "      <td>0.837323</td>\n",
              "      <td>-0.107428</td>\n",
              "      <td>-0.710707</td>\n",
              "      <td>-0.816703</td>\n",
              "      <td>-0.748018</td>\n",
              "      <td>-0.393220</td>\n",
              "      <td>-0.310548</td>\n",
              "      <td>-0.316037</td>\n",
              "      <td>0.336504</td>\n",
              "      <td>0.280170</td>\n",
              "      <td>0.164123</td>\n",
              "      <td>0.132657</td>\n",
              "      <td>0.276872</td>\n",
              "      <td>0.128635</td>\n",
              "      <td>0.285318</td>\n",
              "      <td>0.172344</td>\n",
              "      <td>0.177832</td>\n",
              "      <td>0.293410</td>\n",
              "      <td>0.130862</td>\n",
              "      <td>0.230983</td>\n",
              "      <td>0.175602</td>\n",
              "      <td>0.195556</td>\n",
              "      <td>0.079229</td>\n",
              "      <td>0.070818</td>\n",
              "      <td>0.005170</td>\n",
              "      <td>0.382231</td>\n",
              "      <td>...</td>\n",
              "      <td>-0.371989</td>\n",
              "      <td>0.350640</td>\n",
              "      <td>-0.873016</td>\n",
              "      <td>0.364240</td>\n",
              "      <td>-0.082569</td>\n",
              "      <td>-0.449997</td>\n",
              "      <td>-0.438439</td>\n",
              "      <td>-0.451900</td>\n",
              "      <td>-0.397123</td>\n",
              "      <td>-0.540666</td>\n",
              "      <td>-0.837425</td>\n",
              "      <td>-0.438439</td>\n",
              "      <td>-0.800743</td>\n",
              "      <td>-0.484202</td>\n",
              "      <td>0.515789</td>\n",
              "      <td>-0.846154</td>\n",
              "      <td>0.148795</td>\n",
              "      <td>-0.069952</td>\n",
              "      <td>-0.428376</td>\n",
              "      <td>-0.611952</td>\n",
              "      <td>-0.642627</td>\n",
              "      <td>-0.608047</td>\n",
              "      <td>-0.688776</td>\n",
              "      <td>-0.808263</td>\n",
              "      <td>-0.611952</td>\n",
              "      <td>-0.922503</td>\n",
              "      <td>-0.603952</td>\n",
              "      <td>0.336785</td>\n",
              "      <td>-0.873016</td>\n",
              "      <td>0.289096</td>\n",
              "      <td>-0.126979</td>\n",
              "      <td>-0.503878</td>\n",
              "      <td>0.150865</td>\n",
              "      <td>0.292861</td>\n",
              "      <td>0.506187</td>\n",
              "      <td>0.359368</td>\n",
              "      <td>-0.509079</td>\n",
              "      <td>0.248353</td>\n",
              "      <td>0.107659</td>\n",
              "      <td>26.000000</td>\n",
              "    </tr>\n",
              "    <tr>\n",
              "      <th>max</th>\n",
              "      <td>1.000000</td>\n",
              "      <td>1.000000</td>\n",
              "      <td>1.000000</td>\n",
              "      <td>1.000000</td>\n",
              "      <td>0.916238</td>\n",
              "      <td>1.000000</td>\n",
              "      <td>1.000000</td>\n",
              "      <td>0.967664</td>\n",
              "      <td>1.000000</td>\n",
              "      <td>1.000000</td>\n",
              "      <td>1.000000</td>\n",
              "      <td>1.000000</td>\n",
              "      <td>1.000000</td>\n",
              "      <td>1.000000</td>\n",
              "      <td>1.000000</td>\n",
              "      <td>1.000000</td>\n",
              "      <td>1.000000</td>\n",
              "      <td>1.000000</td>\n",
              "      <td>1.000000</td>\n",
              "      <td>1.000000</td>\n",
              "      <td>1.000000</td>\n",
              "      <td>1.000000</td>\n",
              "      <td>0.919662</td>\n",
              "      <td>1.000000</td>\n",
              "      <td>1.000000</td>\n",
              "      <td>1.000000</td>\n",
              "      <td>0.978449</td>\n",
              "      <td>1.000000</td>\n",
              "      <td>1.000000</td>\n",
              "      <td>1.000000</td>\n",
              "      <td>1.000000</td>\n",
              "      <td>1.000000</td>\n",
              "      <td>1.000000</td>\n",
              "      <td>0.814623</td>\n",
              "      <td>1.000000</td>\n",
              "      <td>0.997207</td>\n",
              "      <td>1.000000</td>\n",
              "      <td>1.000000</td>\n",
              "      <td>1.000000</td>\n",
              "      <td>1.000000</td>\n",
              "      <td>...</td>\n",
              "      <td>1.000000</td>\n",
              "      <td>1.000000</td>\n",
              "      <td>1.000000</td>\n",
              "      <td>0.975821</td>\n",
              "      <td>1.000000</td>\n",
              "      <td>1.000000</td>\n",
              "      <td>1.000000</td>\n",
              "      <td>1.000000</td>\n",
              "      <td>1.000000</td>\n",
              "      <td>0.842119</td>\n",
              "      <td>1.000000</td>\n",
              "      <td>1.000000</td>\n",
              "      <td>1.000000</td>\n",
              "      <td>1.000000</td>\n",
              "      <td>1.000000</td>\n",
              "      <td>1.000000</td>\n",
              "      <td>1.000000</td>\n",
              "      <td>0.969311</td>\n",
              "      <td>0.949350</td>\n",
              "      <td>1.000000</td>\n",
              "      <td>1.000000</td>\n",
              "      <td>1.000000</td>\n",
              "      <td>1.000000</td>\n",
              "      <td>1.000000</td>\n",
              "      <td>1.000000</td>\n",
              "      <td>1.000000</td>\n",
              "      <td>1.000000</td>\n",
              "      <td>1.000000</td>\n",
              "      <td>0.968254</td>\n",
              "      <td>0.946700</td>\n",
              "      <td>0.989538</td>\n",
              "      <td>0.956845</td>\n",
              "      <td>1.000000</td>\n",
              "      <td>1.000000</td>\n",
              "      <td>0.998702</td>\n",
              "      <td>0.996078</td>\n",
              "      <td>1.000000</td>\n",
              "      <td>0.478157</td>\n",
              "      <td>1.000000</td>\n",
              "      <td>30.000000</td>\n",
              "    </tr>\n",
              "  </tbody>\n",
              "</table>\n",
              "<p>8 rows × 562 columns</p>\n",
              "</div>"
            ],
            "text/plain": [
              "       tBodyAcc-mean()-X  tBodyAcc-mean()-Y  ...  angle(Z,gravityMean)      subject\n",
              "count        7352.000000        7352.000000  ...           7352.000000  7352.000000\n",
              "mean            0.274488          -0.017695  ...             -0.056515    17.413085\n",
              "std             0.070261           0.040811  ...              0.279122     8.975143\n",
              "min            -1.000000          -1.000000  ...             -1.000000     1.000000\n",
              "25%             0.262975          -0.024863  ...             -0.143414     8.000000\n",
              "50%             0.277193          -0.017219  ...              0.003181    19.000000\n",
              "75%             0.288461          -0.010783  ...              0.107659    26.000000\n",
              "max             1.000000           1.000000  ...              1.000000    30.000000\n",
              "\n",
              "[8 rows x 562 columns]"
            ]
          },
          "execution_count": null,
          "metadata": {},
          "output_type": "execute_result"
        }
      ]
    },
    {
      "cell_type": "code",
      "metadata": {
        "colab": {
          "background_save": true,
          "base_uri": "https://localhost:8080/"
        },
        "id": "QjrGc25Mzm2x",
        "outputId": "4fe5826d-f661-4e65-a1ce-33031cc52601"
      },
      "source": [
        "train.info()"
      ],
      "execution_count": null,
      "outputs": [
        {
          "name": "stdout",
          "output_type": "stream",
          "text": [
            "<class 'pandas.core.frame.DataFrame'>\n",
            "RangeIndex: 7352 entries, 0 to 7351\n",
            "Columns: 563 entries, tBodyAcc-mean()-X to Activity\n",
            "dtypes: float64(561), int64(1), object(1)\n",
            "memory usage: 31.6+ MB\n"
          ]
        }
      ]
    },
    {
      "cell_type": "code",
      "metadata": {
        "colab": {
          "background_save": true,
          "base_uri": "https://localhost:8080/"
        },
        "id": "QYGoj0JZzrXO",
        "outputId": "8fdd58a1-1445-4b6b-bce0-f0ac2e9634f8"
      },
      "source": [
        "train.isnull().sum()"
      ],
      "execution_count": null,
      "outputs": [
        {
          "data": {
            "text/plain": [
              "tBodyAcc-mean()-X       0\n",
              "tBodyAcc-mean()-Y       0\n",
              "tBodyAcc-mean()-Z       0\n",
              "tBodyAcc-std()-X        0\n",
              "tBodyAcc-std()-Y        0\n",
              "                       ..\n",
              "angle(X,gravityMean)    0\n",
              "angle(Y,gravityMean)    0\n",
              "angle(Z,gravityMean)    0\n",
              "subject                 0\n",
              "Activity                0\n",
              "Length: 563, dtype: int64"
            ]
          },
          "execution_count": null,
          "metadata": {},
          "output_type": "execute_result"
        }
      ]
    },
    {
      "cell_type": "code",
      "metadata": {
        "colab": {
          "background_save": true,
          "base_uri": "https://localhost:8080/"
        },
        "id": "0f1oeQMGzxeo",
        "outputId": "d0f187e6-ee8e-493a-81bd-cb96348b8ea6"
      },
      "source": [
        "train['Activity'].unique()"
      ],
      "execution_count": null,
      "outputs": [
        {
          "data": {
            "text/plain": [
              "array(['STANDING', 'SITTING', 'LAYING', 'WALKING', 'WALKING_DOWNSTAIRS',\n",
              "       'WALKING_UPSTAIRS'], dtype=object)"
            ]
          },
          "execution_count": null,
          "metadata": {},
          "output_type": "execute_result"
        }
      ]
    },
    {
      "cell_type": "code",
      "metadata": {
        "colab": {
          "background_save": true,
          "base_uri": "https://localhost:8080/"
        },
        "id": "Uxy7Ddut0EAp",
        "outputId": "62f5eed7-b07a-4e19-bad4-52185aef1a7f"
      },
      "source": [
        "print('No of duplicates in train: {}'.format(sum(train.duplicated())))\n",
        "print('No of duplicates in test : {}'.format(sum(test.duplicated())))"
      ],
      "execution_count": null,
      "outputs": [
        {
          "name": "stdout",
          "output_type": "stream",
          "text": [
            "No of duplicates in train: 0\n",
            "No of duplicates in test : 0\n"
          ]
        }
      ]
    },
    {
      "cell_type": "code",
      "metadata": {
        "colab": {
          "background_save": true,
          "base_uri": "https://localhost:8080/"
        },
        "id": "widZ0ETR7_U4",
        "outputId": "fa35bf75-9360-4825-96b9-aa473fc7ebb7"
      },
      "source": [
        "print('We have {} NaN/Null values in train'.format(train.isnull().values.sum()))\n",
        "print('We have {} NaN/Null values in test'.format(test.isnull().values.sum()))"
      ],
      "execution_count": null,
      "outputs": [
        {
          "name": "stdout",
          "output_type": "stream",
          "text": [
            "We have 0 NaN/Null values in train\n",
            "We have 0 NaN/Null values in test\n"
          ]
        }
      ]
    },
    {
      "cell_type": "code",
      "metadata": {
        "colab": {
          "background_save": true
        },
        "id": "5DJNY-Zu8D6l"
      },
      "source": [
        "#set the parameter in figure\n",
        "import matplotlib.pyplot as plt\n",
        "import seaborn as sns\n",
        "\n",
        "sns.set_style('whitegrid')\n",
        "plt.rcParams['font.family'] = 'Dejavu Sans'"
      ],
      "execution_count": null,
      "outputs": []
    },
    {
      "cell_type": "code",
      "metadata": {
        "colab": {
          "base_uri": "https://localhost:8080/",
          "height": 392
        },
        "id": "NAK87Uwc8avl",
        "outputId": "145da3d1-9c37-4012-f3b6-8b938fea859d"
      },
      "source": [
        "plt.figure(figsize=(20,8))\n",
        "plt.title('Data provided by each user', fontsize=20)\n",
        "sns.countplot(x='subject',hue='Activity', data = train)\n",
        "plt.show()\n"
      ],
      "execution_count": null,
      "outputs": [
        {
          "data": {
            "image/png": "[encoded data removed]",
            "text/plain": [
              "<Figure size 1440x576 with 1 Axes>"
            ]
          },
          "metadata": {
            "tags": []
          },
          "output_type": "display_data"
        }
      ]
    },
    {
      "cell_type": "code",
      "metadata": {
        "colab": {
          "base_uri": "https://localhost:8080/",
          "height": 477
        },
        "id": "ltb2Jv-I8die",
        "outputId": "09f14573-242f-4a48-e075-b5de99d5f177"
      },
      "source": [
        "plt.title('No of Datapoints per Activity', fontsize=15)\n",
        "sns.countplot(train.Activity)\n",
        "plt.xticks(rotation=90)\n",
        "plt.show()\n",
        "print(\"Our data is well balanced almost\")"
      ],
      "execution_count": null,
      "outputs": [
        {
          "name": "stderr",
          "output_type": "stream",
          "text": [
            "/usr/local/lib/python3.7/dist-packages/seaborn/_decorators.py:43: FutureWarning: Pass the following variable as a keyword arg: x. From version 0.12, the only valid positional argument will be `data`, and passing other arguments without an explicit keyword will result in an error or misinterpretation.\n",
            "  FutureWarning\n"
          ]
        },
        {
          "data": {
            "image/png": "[encoded data removed]",
            "text/plain": [
              "<Figure size 432x288 with 1 Axes>"
            ]
          },
          "metadata": {
            "tags": []
          },
          "output_type": "display_data"
        },
        {
          "name": "stdout",
          "output_type": "stream",
          "text": [
            "Our data is well balanced almost\n"
          ]
        }
      ]
    },
    {
      "cell_type": "code",
      "metadata": {
        "colab": {
          "base_uri": "https://localhost:8080/"
        },
        "id": "oZfRmWP185JZ",
        "outputId": "be683c22-4312-4bfb-dfa8-764cdfbfd1bd"
      },
      "source": [
        "# removing the parantheses form the features name \n",
        "columns = train.columns\n",
        "\n",
        "# Removing '()' from column names\n",
        "columns = columns.str.replace('[()]','')\n",
        "columns = columns.str.replace('[-]', '')\n",
        "columns = columns.str.replace('[,]','')\n",
        "\n",
        "train.columns = columns\n",
        "test.columns = columns\n",
        "\n",
        "test.columns"
      ],
      "execution_count": null,
      "outputs": [
        {
          "data": {
            "text/plain": [
              "Index(['tBodyAccmeanX', 'tBodyAccmeanY', 'tBodyAccmeanZ', 'tBodyAccstdX',\n",
              "       'tBodyAccstdY', 'tBodyAccstdZ', 'tBodyAccmadX', 'tBodyAccmadY',\n",
              "       'tBodyAccmadZ', 'tBodyAccmaxX',\n",
              "       ...\n",
              "       'fBodyBodyGyroJerkMagkurtosis', 'angletBodyAccMeangravity',\n",
              "       'angletBodyAccJerkMeangravityMean', 'angletBodyGyroMeangravityMean',\n",
              "       'angletBodyGyroJerkMeangravityMean', 'angleXgravityMean',\n",
              "       'angleYgravityMean', 'angleZgravityMean', 'subject', 'Activity'],\n",
              "      dtype='object', length=563)"
            ]
          },
          "execution_count": 20,
          "metadata": {
            "tags": []
          },
          "output_type": "execute_result"
        }
      ]
    },
    {
      "cell_type": "code",
      "metadata": {
        "colab": {
          "background_save": true
        },
        "id": "KQJPuz6A9mOg"
      },
      "source": [
        "train.to_csv('f_train.csv', index=False)\n",
        "test.to_csv('f_test.csv', index=False)"
      ],
      "execution_count": null,
      "outputs": []
    },
    {
      "cell_type": "code",
      "metadata": {
        "colab": {
          "background_save": true
        },
        "id": "2YDvkxif-RUx"
      },
      "source": [
        "def display_all_details(dataframe):\n",
        "  print(('='*50)+'DATA'+('='*50))\n",
        "  print(('-'*50)+'SHAPE'+('-'*50))\n",
        "  print(dataframe.shape)\n",
        "  print(('-'*50)+'COLUMNS'+('-'*50))\n",
        "  print(dataframe.columns)\n",
        "  print(('-'*50)+'DESCRIBE'+('-'*50))\n",
        "  print(dataframe.describe())\n",
        "  print(('-'*50)+'INFO'+('-'*50))\n",
        "  print(dataframe.info()) \n",
        "  print(('='*50)+\"====\"+('='*50))\n",
        "  \n",
        "\n"
      ],
      "execution_count": null,
      "outputs": []
    },
    {
      "cell_type": "code",
      "metadata": {
        "colab": {
          "background_save": true,
          "base_uri": "https://localhost:8080/"
        },
        "id": "AfV-Ulsxqc6U",
        "outputId": "e281aeec-11bf-4d50-8a22-b716a9da8d4c"
      },
      "source": [
        "  display_all_details(train)"
      ],
      "execution_count": null,
      "outputs": [
        {
          "name": "stdout",
          "output_type": "stream",
          "text": [
            "==================================================DATA==================================================\n",
            "--------------------------------------------------SHAPE--------------------------------------------------\n",
            "(7352, 563)\n",
            "--------------------------------------------------COLUMNS--------------------------------------------------\n",
            "Index(['tBodyAccmeanX', 'tBodyAccmeanY', 'tBodyAccmeanZ', 'tBodyAccstdX',\n",
            "       'tBodyAccstdY', 'tBodyAccstdZ', 'tBodyAccmadX', 'tBodyAccmadY',\n",
            "       'tBodyAccmadZ', 'tBodyAccmaxX',\n",
            "       ...\n",
            "       'fBodyBodyGyroJerkMagkurtosis', 'angletBodyAccMeangravity',\n",
            "       'angletBodyAccJerkMeangravityMean', 'angletBodyGyroMeangravityMean',\n",
            "       'angletBodyGyroJerkMeangravityMean', 'angleXgravityMean',\n",
            "       'angleYgravityMean', 'angleZgravityMean', 'subject', 'Activity'],\n",
            "      dtype='object', length=563)\n",
            "--------------------------------------------------DESCRIBE--------------------------------------------------\n",
            "       tBodyAccmeanX  tBodyAccmeanY  ...  angleZgravityMean      subject\n",
            "count    7352.000000    7352.000000  ...        7352.000000  7352.000000\n",
            "mean        0.274488      -0.017695  ...          -0.056515    17.413085\n",
            "std         0.070261       0.040811  ...           0.279122     8.975143\n",
            "min        -1.000000      -1.000000  ...          -1.000000     1.000000\n",
            "25%         0.262975      -0.024863  ...          -0.143414     8.000000\n",
            "50%         0.277193      -0.017219  ...           0.003181    19.000000\n",
            "75%         0.288461      -0.010783  ...           0.107659    26.000000\n",
            "max         1.000000       1.000000  ...           1.000000    30.000000\n",
            "\n",
            "[8 rows x 562 columns]\n",
            "--------------------------------------------------INFO--------------------------------------------------\n",
            "<class 'pandas.core.frame.DataFrame'>\n",
            "RangeIndex: 7352 entries, 0 to 7351\n",
            "Columns: 563 entries, tBodyAccmeanX to Activity\n",
            "dtypes: float64(561), int64(1), object(1)\n",
            "memory usage: 31.6+ MB\n",
            "None\n",
            "========================================================================================================\n"
          ]
        }
      ]
    },
    {
      "cell_type": "code",
      "metadata": {
        "colab": {
          "background_save": true
        },
        "id": "qwW3E2-AqyCg"
      },
      "source": [
        "def display_all_details(dataframe):\n",
        "  print(('='*50)+'DATA'+('='*50))\n",
        "  print(('-'*50)+'SHAPE'+('-'*50))\n",
        "  print(dataframe.shape)\n",
        "  print(('-'*50)+'COLUMNS'+('-'*50))\n",
        "  print(dataframe.columns)\n",
        "  print(('-'*50)+'DESCRIBE'+('-'*50))\n",
        "  print(dataframe.describe())\n",
        "  print(('-'*50)+'INFO'+('-'*50))\n",
        "  print(dataframe.info())\n",
        "  print(('='*50)+\"====\"+('='*50))\n",
        "  \n",
        "\n"
      ],
      "execution_count": null,
      "outputs": []
    },
    {
      "cell_type": "code",
      "metadata": {
        "colab": {
          "background_save": true,
          "base_uri": "https://localhost:8080/"
        },
        "id": "uTEaSE6bsKlv",
        "outputId": "10fad1d3-715d-4758-fe98-bc9c88b24e66"
      },
      "source": [
        "display_all_details(test)"
      ],
      "execution_count": null,
      "outputs": [
        {
          "name": "stdout",
          "output_type": "stream",
          "text": [
            "==================================================DATA==================================================\n",
            "--------------------------------------------------SHAPE--------------------------------------------------\n",
            "(2947, 563)\n",
            "--------------------------------------------------COLUMNS--------------------------------------------------\n",
            "Index(['tBodyAccmeanX', 'tBodyAccmeanY', 'tBodyAccmeanZ', 'tBodyAccstdX',\n",
            "       'tBodyAccstdY', 'tBodyAccstdZ', 'tBodyAccmadX', 'tBodyAccmadY',\n",
            "       'tBodyAccmadZ', 'tBodyAccmaxX',\n",
            "       ...\n",
            "       'fBodyBodyGyroJerkMagkurtosis', 'angletBodyAccMeangravity',\n",
            "       'angletBodyAccJerkMeangravityMean', 'angletBodyGyroMeangravityMean',\n",
            "       'angletBodyGyroJerkMeangravityMean', 'angleXgravityMean',\n",
            "       'angleYgravityMean', 'angleZgravityMean', 'subject', 'Activity'],\n",
            "      dtype='object', length=563)\n",
            "--------------------------------------------------DESCRIBE--------------------------------------------------\n",
            "       tBodyAccmeanX  tBodyAccmeanY  ...  angleZgravityMean      subject\n",
            "count    2947.000000    2947.000000  ...        2947.000000  2947.000000\n",
            "mean        0.273996      -0.017863  ...          -0.048720    12.986427\n",
            "std         0.060570       0.025745  ...           0.241467     6.950984\n",
            "min        -0.592004      -0.362884  ...          -0.949228     2.000000\n",
            "25%         0.262075      -0.024961  ...          -0.098485     9.000000\n",
            "50%         0.277113      -0.016967  ...          -0.010671    12.000000\n",
            "75%         0.288097      -0.010143  ...           0.092373    18.000000\n",
            "max         0.671887       0.246106  ...           0.973113    24.000000\n",
            "\n",
            "[8 rows x 562 columns]\n",
            "--------------------------------------------------INFO--------------------------------------------------\n",
            "<class 'pandas.core.frame.DataFrame'>\n",
            "RangeIndex: 2947 entries, 0 to 2946\n",
            "Columns: 563 entries, tBodyAccmeanX to Activity\n",
            "dtypes: float64(561), int64(1), object(1)\n",
            "memory usage: 12.7+ MB\n",
            "None\n",
            "========================================================================================================\n"
          ]
        }
      ]
    },
    {
      "cell_type": "code",
      "metadata": {
        "colab": {
          "background_save": true
        },
        "id": "lcUWo1ixsNp_"
      },
      "source": [
        "# The data has no missing values in the form of NaN.\n",
        "X= train.drop(columns=['Activity'])\n",
        "X=X.values\n",
        "from sklearn.decomposition import PCA\n",
        "\n",
        "pca = PCA(n_components=3)\n",
        "\n",
        "# fitting the data\n",
        "pca_fit=pca.fit(X)\n",
        "\n",
        "# calculating the principal components\n",
        "reduced_X = pca_fit.transform(X)"
      ],
      "execution_count": null,
      "outputs": []
    },
    {
      "cell_type": "code",
      "metadata": {
        "colab": {
          "background_save": true
        },
        "id": "UK4wXQFuYTAY"
      },
      "source": [
        ""
      ],
      "execution_count": null,
      "outputs": []
    },
    {
      "cell_type": "markdown",
      "metadata": {
        "id": "YELQEBy8Zpa6"
      },
      "source": [
        "Since there are 561 predictors, we are using PCA to reduce the number of predictors which will help us in visualization."
      ]
    },
    {
      "cell_type": "code",
      "metadata": {
        "colab": {
          "background_save": true,
          "base_uri": "https://localhost:8080/",
          "height": 204
        },
        "id": "7W3fpMMeZqC6",
        "outputId": "656ef891-b2ca-48be-a6bf-683997d6f7d1"
      },
      "source": [
        "df2= pd.DataFrame(reduced_X, columns=['PC1','PC2','PC3'])\n",
        "df2['activity']=train['Activity']\n",
        "df2.head()"
      ],
      "execution_count": null,
      "outputs": [
        {
          "data": {
            "text/html": [
              "<div>\n",
              "<style scoped>\n",
              "    .dataframe tbody tr th:only-of-type {\n",
              "        vertical-align: middle;\n",
              "    }\n",
              "\n",
              "    .dataframe tbody tr th {\n",
              "        vertical-align: top;\n",
              "    }\n",
              "\n",
              "    .dataframe thead th {\n",
              "        text-align: right;\n",
              "    }\n",
              "</style>\n",
              "<table border=\"1\" class=\"dataframe\">\n",
              "  <thead>\n",
              "    <tr style=\"text-align: right;\">\n",
              "      <th></th>\n",
              "      <th>PC1</th>\n",
              "      <th>PC2</th>\n",
              "      <th>PC3</th>\n",
              "      <th>activity</th>\n",
              "    </tr>\n",
              "  </thead>\n",
              "  <tbody>\n",
              "    <tr>\n",
              "      <th>0</th>\n",
              "      <td>15.727224</td>\n",
              "      <td>-7.246259</td>\n",
              "      <td>-0.465589</td>\n",
              "      <td>STANDING</td>\n",
              "    </tr>\n",
              "    <tr>\n",
              "      <th>1</th>\n",
              "      <td>15.723317</td>\n",
              "      <td>-7.260690</td>\n",
              "      <td>-0.259002</td>\n",
              "      <td>STANDING</td>\n",
              "    </tr>\n",
              "    <tr>\n",
              "      <th>2</th>\n",
              "      <td>15.742570</td>\n",
              "      <td>-7.204006</td>\n",
              "      <td>0.106483</td>\n",
              "      <td>STANDING</td>\n",
              "    </tr>\n",
              "    <tr>\n",
              "      <th>3</th>\n",
              "      <td>15.715666</td>\n",
              "      <td>-7.403807</td>\n",
              "      <td>0.719931</td>\n",
              "      <td>STANDING</td>\n",
              "    </tr>\n",
              "    <tr>\n",
              "      <th>4</th>\n",
              "      <td>15.703153</td>\n",
              "      <td>-7.473707</td>\n",
              "      <td>0.987220</td>\n",
              "      <td>STANDING</td>\n",
              "    </tr>\n",
              "  </tbody>\n",
              "</table>\n",
              "</div>"
            ],
            "text/plain": [
              "         PC1       PC2       PC3  activity\n",
              "0  15.727224 -7.246259 -0.465589  STANDING\n",
              "1  15.723317 -7.260690 -0.259002  STANDING\n",
              "2  15.742570 -7.204006  0.106483  STANDING\n",
              "3  15.715666 -7.403807  0.719931  STANDING\n",
              "4  15.703153 -7.473707  0.987220  STANDING"
            ]
          },
          "execution_count": null,
          "metadata": {},
          "output_type": "execute_result"
        }
      ]
    },
    {
      "cell_type": "markdown",
      "metadata": {
        "id": "8nccSh_gZ-O8"
      },
      "source": [
        "**VIZUALIZING THE DISTRIBUTION OF THE COLUMNS\n",
        "**"
      ]
    },
    {
      "cell_type": "markdown",
      "metadata": {
        "id": "TFVPaZZhaG-x"
      },
      "source": [
        "###Since PC1, PC2, PC3 is continuous in nature, we will use histogram to visualize it.For Activity, we will use bar chart because it is categorical in nature"
      ]
    },
    {
      "cell_type": "code",
      "metadata": {
        "colab": {
          "background_save": true,
          "base_uri": "https://localhost:8080/",
          "height": 421
        },
        "id": "ehAFzeWAZs0a",
        "outputId": "81d6e50d-cbc4-4d4f-d269-fd3c1856db4b"
      },
      "source": [
        "df2.hist(['PC1','PC2','PC3'],figsize=(20,5))"
      ],
      "execution_count": null,
      "outputs": [
        {
          "data": {
            "text/plain": [
              "array([[<matplotlib.axes._subplots.AxesSubplot object at 0x7fbc62a74f50>,\n",
              "        <matplotlib.axes._subplots.AxesSubplot object at 0x7fbc62a2c5d0>],\n",
              "       [<matplotlib.axes._subplots.AxesSubplot object at 0x7fbc62a03e10>,\n",
              "        <matplotlib.axes._subplots.AxesSubplot object at 0x7fbc70747050>]],\n",
              "      dtype=object)"
            ]
          },
          "execution_count": null,
          "metadata": {},
          "output_type": "execute_result"
        },
        {
          "data": {
            "image/png": "[encoded data removed]",
            "text/plain": [
              "<Figure size 1440x360 with 4 Axes>"
            ]
          },
          "metadata": {},
          "output_type": "display_data"
        }
      ]
    },
    {
      "cell_type": "code",
      "metadata": {
        "colab": {
          "background_save": true
        },
        "id": "r3t4nDOWaAlq"
      },
      "source": [
        "def bar_graph(data,predictor):\n",
        "    grouped=data.groupby(predictor)\n",
        "    chart=grouped.size().plot.bar(rot=0, title='Bar Chart showing the total frequency of different '+str(predictor), figsize=(15,4))\n",
        "    chart.set_xlabel(predictor)"
      ],
      "execution_count": null,
      "outputs": []
    },
    {
      "cell_type": "code",
      "metadata": {
        "colab": {
          "background_save": true,
          "base_uri": "https://localhost:8080/",
          "height": 296
        },
        "id": "eGR-tUyPaLip",
        "outputId": "9eeb42ca-4cab-43c5-a185-ccdf959f308a"
      },
      "source": [
        "bar_graph(df2,'activity')"
      ],
      "execution_count": null,
      "outputs": [
        {
          "data": {
            "image/png": "[encoded data removed]",
            "text/plain": [
              "<Figure size 1080x288 with 1 Axes>"
            ]
          },
          "metadata": {},
          "output_type": "display_data"
        }
      ]
    },
    {
      "cell_type": "code",
      "metadata": {
        "colab": {
          "background_save": true,
          "base_uri": "https://localhost:8080/"
        },
        "id": "tAFtnh7aafX3",
        "outputId": "c286ab00-3315-49a7-bea8-b621769921a5"
      },
      "source": [
        "df2.activity.value_counts()"
      ],
      "execution_count": null,
      "outputs": [
        {
          "data": {
            "text/plain": [
              "LAYING                1407\n",
              "STANDING              1374\n",
              "SITTING               1286\n",
              "WALKING               1226\n",
              "WALKING_UPSTAIRS      1073\n",
              "WALKING_DOWNSTAIRS     986\n",
              "Name: activity, dtype: int64"
            ]
          },
          "execution_count": null,
          "metadata": {},
          "output_type": "execute_result"
        }
      ]
    },
    {
      "cell_type": "markdown",
      "metadata": {
        "id": "XoRFomldato9"
      },
      "source": [
        "##VIZUALIZING THE RELATIONSHIP BETWEEN THE PREDICTORS AND THE TARGET VARIABLE\n",
        "### Using boxplot to see the relationship between categorical target variable and continuous predictors."
      ]
    },
    {
      "cell_type": "code",
      "metadata": {
        "colab": {
          "background_save": true,
          "base_uri": "https://localhost:8080/",
          "height": 471
        },
        "id": "GMRhdK2mamgM",
        "outputId": "e2871452-4d72-4115-b3e8-53218e4f2ede"
      },
      "source": [
        "df2.boxplot(column=['PC1'], by='activity', figsize=(15,10),grid=False, layout=(2,1))"
      ],
      "execution_count": null,
      "outputs": [
        {
          "name": "stderr",
          "output_type": "stream",
          "text": [
            "/usr/local/lib/python3.7/dist-packages/numpy/core/_asarray.py:83: VisibleDeprecationWarning: Creating an ndarray from ragged nested sequences (which is a list-or-tuple of lists-or-tuples-or ndarrays with different lengths or shapes) is deprecated. If you meant to do this, you must specify 'dtype=object' when creating the ndarray\n",
            "  return array(a, dtype, copy=False, order=order)\n"
          ]
        },
        {
          "data": {
            "text/plain": [
              "array([<matplotlib.axes._subplots.AxesSubplot object at 0x7fbc629db2d0>,\n",
              "       <matplotlib.axes._subplots.AxesSubplot object at 0x7fbc706a1710>],\n",
              "      dtype=object)"
            ]
          },
          "execution_count": null,
          "metadata": {},
          "output_type": "execute_result"
        },
        {
          "data": {
            "image/png": "[encoded data removed]",
            "text/plain": [
              "<Figure size 1080x720 with 2 Axes>"
            ]
          },
          "metadata": {},
          "output_type": "display_data"
        }
      ]
    },
    {
      "cell_type": "code",
      "metadata": {
        "colab": {
          "background_save": true,
          "base_uri": "https://localhost:8080/",
          "height": 433
        },
        "id": "oxZsV-PKau3H",
        "outputId": "29734002-a905-4644-a946-50bbed6bbc95"
      },
      "source": [
        "df2.boxplot(column=['PC2'], by='activity', figsize=(15,5),grid=False)\n"
      ],
      "execution_count": null,
      "outputs": [
        {
          "name": "stderr",
          "output_type": "stream",
          "text": [
            "/usr/local/lib/python3.7/dist-packages/numpy/core/_asarray.py:83: VisibleDeprecationWarning: Creating an ndarray from ragged nested sequences (which is a list-or-tuple of lists-or-tuples-or ndarrays with different lengths or shapes) is deprecated. If you meant to do this, you must specify 'dtype=object' when creating the ndarray\n",
            "  return array(a, dtype, copy=False, order=order)\n"
          ]
        },
        {
          "data": {
            "text/plain": [
              "<matplotlib.axes._subplots.AxesSubplot at 0x7fbc6296a550>"
            ]
          },
          "execution_count": null,
          "metadata": {},
          "output_type": "execute_result"
        },
        {
          "data": {
            "image/png": "[encoded data removed]",
            "text/plain": [
              "<Figure size 1080x360 with 1 Axes>"
            ]
          },
          "metadata": {},
          "output_type": "display_data"
        }
      ]
    },
    {
      "cell_type": "code",
      "metadata": {
        "colab": {
          "background_save": true,
          "base_uri": "https://localhost:8080/",
          "height": 433
        },
        "id": "uPiOZM0tbM1w",
        "outputId": "577e7aed-90ad-4d75-d395-13346eaa8188"
      },
      "source": [
        "df2.boxplot(column=['PC3'], by='activity', figsize=(15,5),grid=False)\n"
      ],
      "execution_count": null,
      "outputs": [
        {
          "name": "stderr",
          "output_type": "stream",
          "text": [
            "/usr/local/lib/python3.7/dist-packages/numpy/core/_asarray.py:83: VisibleDeprecationWarning: Creating an ndarray from ragged nested sequences (which is a list-or-tuple of lists-or-tuples-or ndarrays with different lengths or shapes) is deprecated. If you meant to do this, you must specify 'dtype=object' when creating the ndarray\n",
            "  return array(a, dtype, copy=False, order=order)\n"
          ]
        },
        {
          "data": {
            "text/plain": [
              "<matplotlib.axes._subplots.AxesSubplot at 0x7fbc6285ccd0>"
            ]
          },
          "execution_count": null,
          "metadata": {},
          "output_type": "execute_result"
        },
        {
          "data": {
            "image/png": "[encoded data removed]",
            "text/plain": [
              "<Figure size 1080x360 with 1 Axes>"
            ]
          },
          "metadata": {},
          "output_type": "display_data"
        }
      ]
    },
    {
      "cell_type": "markdown",
      "metadata": {
        "id": "wpcA8gY8blmh"
      },
      "source": [
        "STATISTICAL TEST FOR CORRELATION\n",
        "\n",
        "### We used ANOVA test to check whether the predictors are correlated with the target variable.\n",
        "\n"
      ]
    },
    {
      "cell_type": "code",
      "metadata": {
        "colab": {
          "background_save": true
        },
        "id": "IIHBiE7LbOI-"
      },
      "source": [
        "def anova_test(data,target,predictor):\n",
        "    data1=data.groupby(target)[predictor].apply(list)\n",
        "    from scipy.stats import f_oneway\n",
        "    AnovaResults = f_oneway(*data1)\n",
        "    if AnovaResults[1]<0.05:\n",
        "        print(str(predictor)+' is related with the target variable : ', AnovaResults[1])\n",
        "    else:\n",
        "        print(str(predictor)+' is NOT related with the target variable : ', AnovaResults[1])"
      ],
      "execution_count": null,
      "outputs": []
    },
    {
      "cell_type": "code",
      "metadata": {
        "colab": {
          "background_save": true,
          "base_uri": "https://localhost:8080/"
        },
        "id": "5Qny2IsxbmUA",
        "outputId": "936816d9-7540-4ec4-ec17-71294162e553"
      },
      "source": [
        "anova_test(df2,'activity','PC1')"
      ],
      "execution_count": null,
      "outputs": [
        {
          "name": "stdout",
          "output_type": "stream",
          "text": [
            "PC1 is related with the target variable :  3.434667375965409e-24\n"
          ]
        }
      ]
    },
    {
      "cell_type": "code",
      "metadata": {
        "colab": {
          "background_save": true,
          "base_uri": "https://localhost:8080/"
        },
        "id": "Jf4uQ_vbbwYd",
        "outputId": "5977cb7e-3dde-4871-a60f-eae8100c9bd5"
      },
      "source": [
        "anova_test(df2,'activity','PC2')"
      ],
      "execution_count": null,
      "outputs": [
        {
          "name": "stdout",
          "output_type": "stream",
          "text": [
            "PC2 is related with the target variable :  0.0\n"
          ]
        }
      ]
    },
    {
      "cell_type": "code",
      "metadata": {
        "colab": {
          "background_save": true,
          "base_uri": "https://localhost:8080/"
        },
        "id": "sxYv-_RDbxHT",
        "outputId": "8b41ce55-a579-474b-d009-4485b56344b4"
      },
      "source": [
        "anova_test(df2,'activity','PC3')"
      ],
      "execution_count": null,
      "outputs": [
        {
          "name": "stdout",
          "output_type": "stream",
          "text": [
            "PC3 is related with the target variable :  0.0\n"
          ]
        }
      ]
    },
    {
      "cell_type": "markdown",
      "metadata": {
        "id": "wNZRZ_Vnb_pB"
      },
      "source": [
        "TREATING THE CATEGORICAL VARIABLE"
      ]
    },
    {
      "cell_type": "code",
      "metadata": {
        "colab": {
          "background_save": true,
          "base_uri": "https://localhost:8080/"
        },
        "id": "mibao3CObzIC",
        "outputId": "7639ce41-da6d-4463-b944-d17be1441a51"
      },
      "source": [
        "df2.activity.unique()"
      ],
      "execution_count": null,
      "outputs": [
        {
          "data": {
            "text/plain": [
              "array(['STANDING', 'SITTING', 'LAYING', 'WALKING', 'WALKING_DOWNSTAIRS',\n",
              "       'WALKING_UPSTAIRS'], dtype=object)"
            ]
          },
          "execution_count": null,
          "metadata": {},
          "output_type": "execute_result"
        }
      ]
    },
    {
      "cell_type": "code",
      "metadata": {
        "colab": {
          "background_save": true,
          "base_uri": "https://localhost:8080/"
        },
        "id": "J87pulY_cEcn",
        "outputId": "1bf03afc-9321-4e35-c116-202acae292d6"
      },
      "source": [
        "activity_mapping = {'STANDING': 1,\n",
        "                'SITTING': 2,\n",
        "                'LAYING': 3,\n",
        "              'WALKING': 4,\n",
        "               'WALKING_DOWNSTAIRS': 5,\n",
        "               'WALKING_UPSTAIRS':6\n",
        "              }\n",
        "# encoding the Ordinal variable cut\n",
        "train['Activity'] = train['Activity'].map(activity_mapping)\n",
        "\n",
        "# Checking the encoded columns\n",
        "train['Activity'].unique()"
      ],
      "execution_count": null,
      "outputs": [
        {
          "data": {
            "text/plain": [
              "array([1, 2, 3, 4, 5, 6])"
            ]
          },
          "execution_count": null,
          "metadata": {},
          "output_type": "execute_result"
        }
      ]
    },
    {
      "cell_type": "code",
      "metadata": {
        "colab": {
          "background_save": true,
          "base_uri": "https://localhost:8080/",
          "height": 253
        },
        "id": "mdFwAcZgcNFZ",
        "outputId": "259858e2-9126-4355-c544-08d44b23beb0"
      },
      "source": [
        "train.head()"
      ],
      "execution_count": null,
      "outputs": [
        {
          "data": {
            "text/html": [
              "<div>\n",
              "<style scoped>\n",
              "    .dataframe tbody tr th:only-of-type {\n",
              "        vertical-align: middle;\n",
              "    }\n",
              "\n",
              "    .dataframe tbody tr th {\n",
              "        vertical-align: top;\n",
              "    }\n",
              "\n",
              "    .dataframe thead th {\n",
              "        text-align: right;\n",
              "    }\n",
              "</style>\n",
              "<table border=\"1\" class=\"dataframe\">\n",
              "  <thead>\n",
              "    <tr style=\"text-align: right;\">\n",
              "      <th></th>\n",
              "      <th>tBodyAccmeanX</th>\n",
              "      <th>tBodyAccmeanY</th>\n",
              "      <th>tBodyAccmeanZ</th>\n",
              "      <th>tBodyAccstdX</th>\n",
              "      <th>tBodyAccstdY</th>\n",
              "      <th>tBodyAccstdZ</th>\n",
              "      <th>tBodyAccmadX</th>\n",
              "      <th>tBodyAccmadY</th>\n",
              "      <th>tBodyAccmadZ</th>\n",
              "      <th>tBodyAccmaxX</th>\n",
              "      <th>tBodyAccmaxY</th>\n",
              "      <th>tBodyAccmaxZ</th>\n",
              "      <th>tBodyAccminX</th>\n",
              "      <th>tBodyAccminY</th>\n",
              "      <th>tBodyAccminZ</th>\n",
              "      <th>tBodyAccsma</th>\n",
              "      <th>tBodyAccenergyX</th>\n",
              "      <th>tBodyAccenergyY</th>\n",
              "      <th>tBodyAccenergyZ</th>\n",
              "      <th>tBodyAcciqrX</th>\n",
              "      <th>tBodyAcciqrY</th>\n",
              "      <th>tBodyAcciqrZ</th>\n",
              "      <th>tBodyAccentropyX</th>\n",
              "      <th>tBodyAccentropyY</th>\n",
              "      <th>tBodyAccentropyZ</th>\n",
              "      <th>tBodyAccarCoeffX1</th>\n",
              "      <th>tBodyAccarCoeffX2</th>\n",
              "      <th>tBodyAccarCoeffX3</th>\n",
              "      <th>tBodyAccarCoeffX4</th>\n",
              "      <th>tBodyAccarCoeffY1</th>\n",
              "      <th>tBodyAccarCoeffY2</th>\n",
              "      <th>tBodyAccarCoeffY3</th>\n",
              "      <th>tBodyAccarCoeffY4</th>\n",
              "      <th>tBodyAccarCoeffZ1</th>\n",
              "      <th>tBodyAccarCoeffZ2</th>\n",
              "      <th>tBodyAccarCoeffZ3</th>\n",
              "      <th>tBodyAccarCoeffZ4</th>\n",
              "      <th>tBodyAcccorrelationXY</th>\n",
              "      <th>tBodyAcccorrelationXZ</th>\n",
              "      <th>tBodyAcccorrelationYZ</th>\n",
              "      <th>...</th>\n",
              "      <th>fBodyBodyAccJerkMagentropy</th>\n",
              "      <th>fBodyBodyAccJerkMagmaxInds</th>\n",
              "      <th>fBodyBodyAccJerkMagmeanFreq</th>\n",
              "      <th>fBodyBodyAccJerkMagskewness</th>\n",
              "      <th>fBodyBodyAccJerkMagkurtosis</th>\n",
              "      <th>fBodyBodyGyroMagmean</th>\n",
              "      <th>fBodyBodyGyroMagstd</th>\n",
              "      <th>fBodyBodyGyroMagmad</th>\n",
              "      <th>fBodyBodyGyroMagmax</th>\n",
              "      <th>fBodyBodyGyroMagmin</th>\n",
              "      <th>fBodyBodyGyroMagsma</th>\n",
              "      <th>fBodyBodyGyroMagenergy</th>\n",
              "      <th>fBodyBodyGyroMagiqr</th>\n",
              "      <th>fBodyBodyGyroMagentropy</th>\n",
              "      <th>fBodyBodyGyroMagmaxInds</th>\n",
              "      <th>fBodyBodyGyroMagmeanFreq</th>\n",
              "      <th>fBodyBodyGyroMagskewness</th>\n",
              "      <th>fBodyBodyGyroMagkurtosis</th>\n",
              "      <th>fBodyBodyGyroJerkMagmean</th>\n",
              "      <th>fBodyBodyGyroJerkMagstd</th>\n",
              "      <th>fBodyBodyGyroJerkMagmad</th>\n",
              "      <th>fBodyBodyGyroJerkMagmax</th>\n",
              "      <th>fBodyBodyGyroJerkMagmin</th>\n",
              "      <th>fBodyBodyGyroJerkMagsma</th>\n",
              "      <th>fBodyBodyGyroJerkMagenergy</th>\n",
              "      <th>fBodyBodyGyroJerkMagiqr</th>\n",
              "      <th>fBodyBodyGyroJerkMagentropy</th>\n",
              "      <th>fBodyBodyGyroJerkMagmaxInds</th>\n",
              "      <th>fBodyBodyGyroJerkMagmeanFreq</th>\n",
              "      <th>fBodyBodyGyroJerkMagskewness</th>\n",
              "      <th>fBodyBodyGyroJerkMagkurtosis</th>\n",
              "      <th>angletBodyAccMeangravity</th>\n",
              "      <th>angletBodyAccJerkMeangravityMean</th>\n",
              "      <th>angletBodyGyroMeangravityMean</th>\n",
              "      <th>angletBodyGyroJerkMeangravityMean</th>\n",
              "      <th>angleXgravityMean</th>\n",
              "      <th>angleYgravityMean</th>\n",
              "      <th>angleZgravityMean</th>\n",
              "      <th>subject</th>\n",
              "      <th>Activity</th>\n",
              "    </tr>\n",
              "  </thead>\n",
              "  <tbody>\n",
              "    <tr>\n",
              "      <th>0</th>\n",
              "      <td>0.288585</td>\n",
              "      <td>-0.020294</td>\n",
              "      <td>-0.132905</td>\n",
              "      <td>-0.995279</td>\n",
              "      <td>-0.983111</td>\n",
              "      <td>-0.913526</td>\n",
              "      <td>-0.995112</td>\n",
              "      <td>-0.983185</td>\n",
              "      <td>-0.923527</td>\n",
              "      <td>-0.934724</td>\n",
              "      <td>-0.567378</td>\n",
              "      <td>-0.744413</td>\n",
              "      <td>0.852947</td>\n",
              "      <td>0.685845</td>\n",
              "      <td>0.814263</td>\n",
              "      <td>-0.965523</td>\n",
              "      <td>-0.999945</td>\n",
              "      <td>-0.999863</td>\n",
              "      <td>-0.994612</td>\n",
              "      <td>-0.994231</td>\n",
              "      <td>-0.987614</td>\n",
              "      <td>-0.943220</td>\n",
              "      <td>-0.407747</td>\n",
              "      <td>-0.679338</td>\n",
              "      <td>-0.602122</td>\n",
              "      <td>0.929294</td>\n",
              "      <td>-0.853011</td>\n",
              "      <td>0.359910</td>\n",
              "      <td>-0.058526</td>\n",
              "      <td>0.256892</td>\n",
              "      <td>-0.224848</td>\n",
              "      <td>0.264106</td>\n",
              "      <td>-0.095246</td>\n",
              "      <td>0.278851</td>\n",
              "      <td>-0.465085</td>\n",
              "      <td>0.491936</td>\n",
              "      <td>-0.190884</td>\n",
              "      <td>0.376314</td>\n",
              "      <td>0.435129</td>\n",
              "      <td>0.660790</td>\n",
              "      <td>...</td>\n",
              "      <td>-1.0</td>\n",
              "      <td>-0.936508</td>\n",
              "      <td>0.346989</td>\n",
              "      <td>-0.516080</td>\n",
              "      <td>-0.802760</td>\n",
              "      <td>-0.980135</td>\n",
              "      <td>-0.961309</td>\n",
              "      <td>-0.973653</td>\n",
              "      <td>-0.952264</td>\n",
              "      <td>-0.989498</td>\n",
              "      <td>-0.980135</td>\n",
              "      <td>-0.999240</td>\n",
              "      <td>-0.992656</td>\n",
              "      <td>-0.701291</td>\n",
              "      <td>-1.000000</td>\n",
              "      <td>-0.128989</td>\n",
              "      <td>0.586156</td>\n",
              "      <td>0.374605</td>\n",
              "      <td>-0.991990</td>\n",
              "      <td>-0.990697</td>\n",
              "      <td>-0.989941</td>\n",
              "      <td>-0.992448</td>\n",
              "      <td>-0.991048</td>\n",
              "      <td>-0.991990</td>\n",
              "      <td>-0.999937</td>\n",
              "      <td>-0.990458</td>\n",
              "      <td>-0.871306</td>\n",
              "      <td>-1.000000</td>\n",
              "      <td>-0.074323</td>\n",
              "      <td>-0.298676</td>\n",
              "      <td>-0.710304</td>\n",
              "      <td>-0.112754</td>\n",
              "      <td>0.030400</td>\n",
              "      <td>-0.464761</td>\n",
              "      <td>-0.018446</td>\n",
              "      <td>-0.841247</td>\n",
              "      <td>0.179941</td>\n",
              "      <td>-0.058627</td>\n",
              "      <td>1</td>\n",
              "      <td>1</td>\n",
              "    </tr>\n",
              "    <tr>\n",
              "      <th>1</th>\n",
              "      <td>0.278419</td>\n",
              "      <td>-0.016411</td>\n",
              "      <td>-0.123520</td>\n",
              "      <td>-0.998245</td>\n",
              "      <td>-0.975300</td>\n",
              "      <td>-0.960322</td>\n",
              "      <td>-0.998807</td>\n",
              "      <td>-0.974914</td>\n",
              "      <td>-0.957686</td>\n",
              "      <td>-0.943068</td>\n",
              "      <td>-0.557851</td>\n",
              "      <td>-0.818409</td>\n",
              "      <td>0.849308</td>\n",
              "      <td>0.685845</td>\n",
              "      <td>0.822637</td>\n",
              "      <td>-0.981930</td>\n",
              "      <td>-0.999991</td>\n",
              "      <td>-0.999788</td>\n",
              "      <td>-0.998405</td>\n",
              "      <td>-0.999150</td>\n",
              "      <td>-0.977866</td>\n",
              "      <td>-0.948225</td>\n",
              "      <td>-0.714892</td>\n",
              "      <td>-0.500930</td>\n",
              "      <td>-0.570979</td>\n",
              "      <td>0.611627</td>\n",
              "      <td>-0.329549</td>\n",
              "      <td>0.284213</td>\n",
              "      <td>0.284595</td>\n",
              "      <td>0.115705</td>\n",
              "      <td>-0.090963</td>\n",
              "      <td>0.294310</td>\n",
              "      <td>-0.281211</td>\n",
              "      <td>0.085988</td>\n",
              "      <td>-0.022153</td>\n",
              "      <td>-0.016657</td>\n",
              "      <td>-0.220643</td>\n",
              "      <td>-0.013429</td>\n",
              "      <td>-0.072692</td>\n",
              "      <td>0.579382</td>\n",
              "      <td>...</td>\n",
              "      <td>-1.0</td>\n",
              "      <td>-0.841270</td>\n",
              "      <td>0.532061</td>\n",
              "      <td>-0.624871</td>\n",
              "      <td>-0.900160</td>\n",
              "      <td>-0.988296</td>\n",
              "      <td>-0.983322</td>\n",
              "      <td>-0.982659</td>\n",
              "      <td>-0.986321</td>\n",
              "      <td>-0.991829</td>\n",
              "      <td>-0.988296</td>\n",
              "      <td>-0.999811</td>\n",
              "      <td>-0.993979</td>\n",
              "      <td>-0.720683</td>\n",
              "      <td>-0.948718</td>\n",
              "      <td>-0.271958</td>\n",
              "      <td>-0.336310</td>\n",
              "      <td>-0.720015</td>\n",
              "      <td>-0.995854</td>\n",
              "      <td>-0.996399</td>\n",
              "      <td>-0.995442</td>\n",
              "      <td>-0.996866</td>\n",
              "      <td>-0.994440</td>\n",
              "      <td>-0.995854</td>\n",
              "      <td>-0.999981</td>\n",
              "      <td>-0.994544</td>\n",
              "      <td>-1.000000</td>\n",
              "      <td>-1.000000</td>\n",
              "      <td>0.158075</td>\n",
              "      <td>-0.595051</td>\n",
              "      <td>-0.861499</td>\n",
              "      <td>0.053477</td>\n",
              "      <td>-0.007435</td>\n",
              "      <td>-0.732626</td>\n",
              "      <td>0.703511</td>\n",
              "      <td>-0.844788</td>\n",
              "      <td>0.180289</td>\n",
              "      <td>-0.054317</td>\n",
              "      <td>1</td>\n",
              "      <td>1</td>\n",
              "    </tr>\n",
              "    <tr>\n",
              "      <th>2</th>\n",
              "      <td>0.279653</td>\n",
              "      <td>-0.019467</td>\n",
              "      <td>-0.113462</td>\n",
              "      <td>-0.995380</td>\n",
              "      <td>-0.967187</td>\n",
              "      <td>-0.978944</td>\n",
              "      <td>-0.996520</td>\n",
              "      <td>-0.963668</td>\n",
              "      <td>-0.977469</td>\n",
              "      <td>-0.938692</td>\n",
              "      <td>-0.557851</td>\n",
              "      <td>-0.818409</td>\n",
              "      <td>0.843609</td>\n",
              "      <td>0.682401</td>\n",
              "      <td>0.839344</td>\n",
              "      <td>-0.983478</td>\n",
              "      <td>-0.999969</td>\n",
              "      <td>-0.999660</td>\n",
              "      <td>-0.999470</td>\n",
              "      <td>-0.997130</td>\n",
              "      <td>-0.964810</td>\n",
              "      <td>-0.974675</td>\n",
              "      <td>-0.592235</td>\n",
              "      <td>-0.485821</td>\n",
              "      <td>-0.570979</td>\n",
              "      <td>0.273025</td>\n",
              "      <td>-0.086309</td>\n",
              "      <td>0.337202</td>\n",
              "      <td>-0.164739</td>\n",
              "      <td>0.017150</td>\n",
              "      <td>-0.074507</td>\n",
              "      <td>0.342256</td>\n",
              "      <td>-0.332564</td>\n",
              "      <td>0.239281</td>\n",
              "      <td>-0.136204</td>\n",
              "      <td>0.173863</td>\n",
              "      <td>-0.299493</td>\n",
              "      <td>-0.124698</td>\n",
              "      <td>-0.181105</td>\n",
              "      <td>0.608900</td>\n",
              "      <td>...</td>\n",
              "      <td>-1.0</td>\n",
              "      <td>-0.904762</td>\n",
              "      <td>0.660795</td>\n",
              "      <td>-0.724697</td>\n",
              "      <td>-0.928539</td>\n",
              "      <td>-0.989255</td>\n",
              "      <td>-0.986028</td>\n",
              "      <td>-0.984274</td>\n",
              "      <td>-0.990979</td>\n",
              "      <td>-0.995703</td>\n",
              "      <td>-0.989255</td>\n",
              "      <td>-0.999854</td>\n",
              "      <td>-0.993238</td>\n",
              "      <td>-0.736521</td>\n",
              "      <td>-0.794872</td>\n",
              "      <td>-0.212728</td>\n",
              "      <td>-0.535352</td>\n",
              "      <td>-0.871914</td>\n",
              "      <td>-0.995031</td>\n",
              "      <td>-0.995127</td>\n",
              "      <td>-0.994640</td>\n",
              "      <td>-0.996060</td>\n",
              "      <td>-0.995866</td>\n",
              "      <td>-0.995031</td>\n",
              "      <td>-0.999973</td>\n",
              "      <td>-0.993755</td>\n",
              "      <td>-1.000000</td>\n",
              "      <td>-0.555556</td>\n",
              "      <td>0.414503</td>\n",
              "      <td>-0.390748</td>\n",
              "      <td>-0.760104</td>\n",
              "      <td>-0.118559</td>\n",
              "      <td>0.177899</td>\n",
              "      <td>0.100699</td>\n",
              "      <td>0.808529</td>\n",
              "      <td>-0.848933</td>\n",
              "      <td>0.180637</td>\n",
              "      <td>-0.049118</td>\n",
              "      <td>1</td>\n",
              "      <td>1</td>\n",
              "    </tr>\n",
              "    <tr>\n",
              "      <th>3</th>\n",
              "      <td>0.279174</td>\n",
              "      <td>-0.026201</td>\n",
              "      <td>-0.123283</td>\n",
              "      <td>-0.996091</td>\n",
              "      <td>-0.983403</td>\n",
              "      <td>-0.990675</td>\n",
              "      <td>-0.997099</td>\n",
              "      <td>-0.982750</td>\n",
              "      <td>-0.989302</td>\n",
              "      <td>-0.938692</td>\n",
              "      <td>-0.576159</td>\n",
              "      <td>-0.829711</td>\n",
              "      <td>0.843609</td>\n",
              "      <td>0.682401</td>\n",
              "      <td>0.837869</td>\n",
              "      <td>-0.986093</td>\n",
              "      <td>-0.999976</td>\n",
              "      <td>-0.999736</td>\n",
              "      <td>-0.999504</td>\n",
              "      <td>-0.997180</td>\n",
              "      <td>-0.983799</td>\n",
              "      <td>-0.986007</td>\n",
              "      <td>-0.627446</td>\n",
              "      <td>-0.850930</td>\n",
              "      <td>-0.911872</td>\n",
              "      <td>0.061436</td>\n",
              "      <td>0.074840</td>\n",
              "      <td>0.198204</td>\n",
              "      <td>-0.264307</td>\n",
              "      <td>0.072545</td>\n",
              "      <td>-0.155320</td>\n",
              "      <td>0.323154</td>\n",
              "      <td>-0.170813</td>\n",
              "      <td>0.294938</td>\n",
              "      <td>-0.306081</td>\n",
              "      <td>0.482148</td>\n",
              "      <td>-0.470129</td>\n",
              "      <td>-0.305693</td>\n",
              "      <td>-0.362654</td>\n",
              "      <td>0.507459</td>\n",
              "      <td>...</td>\n",
              "      <td>-1.0</td>\n",
              "      <td>1.000000</td>\n",
              "      <td>0.678921</td>\n",
              "      <td>-0.701131</td>\n",
              "      <td>-0.909639</td>\n",
              "      <td>-0.989413</td>\n",
              "      <td>-0.987836</td>\n",
              "      <td>-0.986850</td>\n",
              "      <td>-0.986749</td>\n",
              "      <td>-0.996199</td>\n",
              "      <td>-0.989413</td>\n",
              "      <td>-0.999876</td>\n",
              "      <td>-0.989136</td>\n",
              "      <td>-0.720891</td>\n",
              "      <td>-1.000000</td>\n",
              "      <td>-0.035684</td>\n",
              "      <td>-0.230091</td>\n",
              "      <td>-0.511217</td>\n",
              "      <td>-0.995221</td>\n",
              "      <td>-0.995237</td>\n",
              "      <td>-0.995722</td>\n",
              "      <td>-0.995273</td>\n",
              "      <td>-0.995732</td>\n",
              "      <td>-0.995221</td>\n",
              "      <td>-0.999974</td>\n",
              "      <td>-0.995226</td>\n",
              "      <td>-0.955696</td>\n",
              "      <td>-0.936508</td>\n",
              "      <td>0.404573</td>\n",
              "      <td>-0.117290</td>\n",
              "      <td>-0.482845</td>\n",
              "      <td>-0.036788</td>\n",
              "      <td>-0.012892</td>\n",
              "      <td>0.640011</td>\n",
              "      <td>-0.485366</td>\n",
              "      <td>-0.848649</td>\n",
              "      <td>0.181935</td>\n",
              "      <td>-0.047663</td>\n",
              "      <td>1</td>\n",
              "      <td>1</td>\n",
              "    </tr>\n",
              "    <tr>\n",
              "      <th>4</th>\n",
              "      <td>0.276629</td>\n",
              "      <td>-0.016570</td>\n",
              "      <td>-0.115362</td>\n",
              "      <td>-0.998139</td>\n",
              "      <td>-0.980817</td>\n",
              "      <td>-0.990482</td>\n",
              "      <td>-0.998321</td>\n",
              "      <td>-0.979672</td>\n",
              "      <td>-0.990441</td>\n",
              "      <td>-0.942469</td>\n",
              "      <td>-0.569174</td>\n",
              "      <td>-0.824705</td>\n",
              "      <td>0.849095</td>\n",
              "      <td>0.683250</td>\n",
              "      <td>0.837869</td>\n",
              "      <td>-0.992653</td>\n",
              "      <td>-0.999991</td>\n",
              "      <td>-0.999856</td>\n",
              "      <td>-0.999757</td>\n",
              "      <td>-0.998004</td>\n",
              "      <td>-0.981232</td>\n",
              "      <td>-0.991325</td>\n",
              "      <td>-0.786553</td>\n",
              "      <td>-0.559477</td>\n",
              "      <td>-0.761434</td>\n",
              "      <td>0.313276</td>\n",
              "      <td>-0.131208</td>\n",
              "      <td>0.191161</td>\n",
              "      <td>0.086904</td>\n",
              "      <td>0.257615</td>\n",
              "      <td>-0.272505</td>\n",
              "      <td>0.434728</td>\n",
              "      <td>-0.315375</td>\n",
              "      <td>0.439744</td>\n",
              "      <td>-0.269069</td>\n",
              "      <td>0.179414</td>\n",
              "      <td>-0.088952</td>\n",
              "      <td>-0.155804</td>\n",
              "      <td>-0.189763</td>\n",
              "      <td>0.599213</td>\n",
              "      <td>...</td>\n",
              "      <td>-1.0</td>\n",
              "      <td>-1.000000</td>\n",
              "      <td>0.559058</td>\n",
              "      <td>-0.528901</td>\n",
              "      <td>-0.858933</td>\n",
              "      <td>-0.991433</td>\n",
              "      <td>-0.989059</td>\n",
              "      <td>-0.987744</td>\n",
              "      <td>-0.991462</td>\n",
              "      <td>-0.998353</td>\n",
              "      <td>-0.991433</td>\n",
              "      <td>-0.999902</td>\n",
              "      <td>-0.989321</td>\n",
              "      <td>-0.763372</td>\n",
              "      <td>-0.897436</td>\n",
              "      <td>-0.273582</td>\n",
              "      <td>-0.510282</td>\n",
              "      <td>-0.830702</td>\n",
              "      <td>-0.995093</td>\n",
              "      <td>-0.995465</td>\n",
              "      <td>-0.995279</td>\n",
              "      <td>-0.995609</td>\n",
              "      <td>-0.997418</td>\n",
              "      <td>-0.995093</td>\n",
              "      <td>-0.999974</td>\n",
              "      <td>-0.995487</td>\n",
              "      <td>-1.000000</td>\n",
              "      <td>-0.936508</td>\n",
              "      <td>0.087753</td>\n",
              "      <td>-0.351471</td>\n",
              "      <td>-0.699205</td>\n",
              "      <td>0.123320</td>\n",
              "      <td>0.122542</td>\n",
              "      <td>0.693578</td>\n",
              "      <td>-0.615971</td>\n",
              "      <td>-0.847865</td>\n",
              "      <td>0.185151</td>\n",
              "      <td>-0.043892</td>\n",
              "      <td>1</td>\n",
              "      <td>1</td>\n",
              "    </tr>\n",
              "  </tbody>\n",
              "</table>\n",
              "<p>5 rows × 563 columns</p>\n",
              "</div>"
            ],
            "text/plain": [
              "   tBodyAccmeanX  tBodyAccmeanY  ...  subject  Activity\n",
              "0       0.288585      -0.020294  ...        1         1\n",
              "1       0.278419      -0.016411  ...        1         1\n",
              "2       0.279653      -0.019467  ...        1         1\n",
              "3       0.279174      -0.026201  ...        1         1\n",
              "4       0.276629      -0.016570  ...        1         1\n",
              "\n",
              "[5 rows x 563 columns]"
            ]
          },
          "execution_count": null,
          "metadata": {},
          "output_type": "execute_result"
        }
      ]
    },
    {
      "cell_type": "code",
      "metadata": {
        "colab": {
          "background_save": true
        },
        "id": "-PtSI0oueQWn"
      },
      "source": [
        "TargetVariable='Activity'\n",
        "df2=train.drop(columns=['Activity','subject'])\n",
        "predictor = df2.columns\n",
        "x=train[predictor].values\n",
        "y =train[TargetVariable].values\n",
        "\n",
        "from sklearn.preprocessing import StandardScaler\n",
        "scaler=StandardScaler()\n",
        "x=scaler.fit_transform(x)"
      ],
      "execution_count": null,
      "outputs": []
    },
    {
      "cell_type": "code",
      "metadata": {
        "colab": {
          "background_save": true,
          "base_uri": "https://localhost:8080/"
        },
        "id": "arNh0d-Def1r",
        "outputId": "cd139127-3c77-456b-c223-5f64b54c3123"
      },
      "source": [
        "from sklearn.model_selection import train_test_split\n",
        "\n",
        "x_train, x_test, y_train, y_test = train_test_split(x, y, test_size=0.30, random_state=42)\n",
        "print(x_train.shape, x_test.shape, y_train.shape, y_test.shape)"
      ],
      "execution_count": null,
      "outputs": [
        {
          "name": "stdout",
          "output_type": "stream",
          "text": [
            "(5146, 561) (2206, 561) (5146,) (2206,)\n"
          ]
        }
      ]
    },
    {
      "cell_type": "markdown",
      "metadata": {
        "id": "3mg-6O37ewrP"
      },
      "source": [
        "APPLYING DIFFERENT ALGORITHMS"
      ]
    },
    {
      "cell_type": "code",
      "metadata": {
        "colab": {
          "background_save": true
        },
        "id": "VlQxYWs0ertB"
      },
      "source": [
        "from sklearn.linear_model import LogisticRegression\n",
        "from sklearn.neighbors import KNeighborsClassifier\n",
        "from sklearn.tree import DecisionTreeClassifier\n",
        "from sklearn.ensemble import RandomForestClassifier\n",
        "from sklearn.svm import SVC"
      ],
      "execution_count": null,
      "outputs": []
    },
    {
      "cell_type": "markdown",
      "metadata": {
        "id": "lP4onOdve8AR"
      },
      "source": [
        "Logistic Regression"
      ]
    },
    {
      "cell_type": "code",
      "metadata": {
        "colab": {
          "base_uri": "https://localhost:8080/"
        },
        "id": "WIfmuJCoexbQ",
        "outputId": "63b5a11d-131e-44a8-e8ce-ed9e1afc4de8"
      },
      "source": [
        "clf = LogisticRegression(C=1)\n",
        "# Creating the model on Training Data\n",
        "LOG=clf.fit(x_train,y_train)\n",
        "prediction=LOG.predict(x_test)\n",
        "\n",
        "# Measuring accuracy on Testing Data\n",
        "from sklearn import metrics\n",
        "print(metrics.classification_report(y_test, prediction))\n",
        "print(metrics.confusion_matrix(y_test, prediction))\n",
        "\n",
        "# Printing the Overall Accuracy of the model\n",
        "F1_Score=metrics.classification_report(y_test, prediction).split()[-2]\n",
        "print('Accuracy of the model:', F1_Score)"
      ],
      "execution_count": null,
      "outputs": [
        {
          "name": "stdout",
          "output_type": "stream",
          "text": [
            "              precision    recall  f1-score   support\n",
            "\n",
            "           1       0.95      0.96      0.96       411\n",
            "           2       0.96      0.94      0.95       386\n",
            "           3       1.00      1.00      1.00       428\n",
            "           4       1.00      0.99      1.00       366\n",
            "           5       0.99      1.00      1.00       311\n",
            "           6       0.99      0.99      0.99       304\n",
            "\n",
            "    accuracy                           0.98      2206\n",
            "   macro avg       0.98      0.98      0.98      2206\n",
            "weighted avg       0.98      0.98      0.98      2206\n",
            "\n",
            "[[396  15   0   0   0   0]\n",
            " [ 22 364   0   0   0   0]\n",
            " [  0   0 428   0   0   0]\n",
            " [  0   0   0 364   0   2]\n",
            " [  0   0   0   1 310   0]\n",
            " [  0   0   0   0   2 302]]\n",
            "Accuracy of the model: 0.98\n"
          ]
        },
        {
          "name": "stderr",
          "output_type": "stream",
          "text": [
            "/usr/local/lib/python3.7/dist-packages/sklearn/linear_model/_logistic.py:940: ConvergenceWarning: lbfgs failed to converge (status=1):\n",
            "STOP: TOTAL NO. of ITERATIONS REACHED LIMIT.\n",
            "\n",
            "Increase the number of iterations (max_iter) or scale the data as shown in:\n",
            "    https://scikit-learn.org/stable/modules/preprocessing.html\n",
            "Please also refer to the documentation for alternative solver options:\n",
            "    https://scikit-learn.org/stable/modules/linear_model.html#logistic-regression\n",
            "  extra_warning_msg=_LOGISTIC_SOLVER_CONVERGENCE_MSG)\n"
          ]
        }
      ]
    },
    {
      "cell_type": "markdown",
      "metadata": {
        "id": "7jiJB2VRfHXl"
      },
      "source": [
        "K-NEAREST CLASSIFIER"
      ]
    },
    {
      "cell_type": "code",
      "source": [
        ""
      ],
      "metadata": {
        "id": "KNjjXD3oPpPx"
      },
      "execution_count": null,
      "outputs": []
    },
    {
      "cell_type": "code",
      "metadata": {
        "colab": {
          "base_uri": "https://localhost:8080/"
        },
        "id": "g_ZhAB-re_r4",
        "outputId": "ff6a5e3d-5056-439c-bc82-cf42c4e419ab"
      },
      "source": [
        "clf = KNeighborsClassifier(n_neighbors=3)\n",
        "# Creating the model on Training Data\n",
        "KNN=clf.fit(x_train,y_train)\n",
        "prediction=KNN.predict(x_test)\n",
        "\n",
        "# Measuring accuracy on Testing Data\n",
        "from sklearn import metrics\n",
        "print(metrics.classification_report(y_test, prediction))\n",
        "print(metrics.confusion_matrix(y_test, prediction))\n",
        "\n",
        "# Printing the Overall Accuracy of the model\n",
        "F1_Score=metrics.classification_report(y_test, prediction).split()[-2]\n",
        "print('Accuracy of the model:', F1_Score)"
      ],
      "execution_count": null,
      "outputs": [
        {
          "name": "stdout",
          "output_type": "stream",
          "text": [
            "              precision    recall  f1-score   support\n",
            "\n",
            "           1       0.86      0.95      0.90       411\n",
            "           2       0.94      0.84      0.88       386\n",
            "           3       1.00      1.00      1.00       428\n",
            "           4       0.98      1.00      0.99       366\n",
            "           5       1.00      0.97      0.99       311\n",
            "           6       0.99      0.99      0.99       304\n",
            "\n",
            "    accuracy                           0.96      2206\n",
            "   macro avg       0.96      0.96      0.96      2206\n",
            "weighted avg       0.96      0.96      0.96      2206\n",
            "\n",
            "[[389  22   0   0   0   0]\n",
            " [ 62 323   1   0   0   0]\n",
            " [  1   0 427   0   0   0]\n",
            " [  0   0   0 365   0   1]\n",
            " [  0   0   0   6 302   3]\n",
            " [  0   0   0   2   0 302]]\n",
            "Accuracy of the model: 0.96\n"
          ]
        }
      ]
    },
    {
      "cell_type": "markdown",
      "metadata": {
        "id": "p2AcKccOfWPw"
      },
      "source": [
        "DECISION TREE CLASSIFIER"
      ]
    },
    {
      "cell_type": "code",
      "metadata": {
        "colab": {
          "base_uri": "https://localhost:8080/",
          "height": 622
        },
        "id": "GNPFLsvdfIFC",
        "outputId": "0cdcd14f-b098-4e97-ae04-6dd81b47e4bc"
      },
      "source": [
        "clf = DecisionTreeClassifier(max_depth=3,criterion='entropy')\n",
        "# Creating the model on Training Data\n",
        "DTree=clf.fit(x_train,y_train)\n",
        "prediction=DTree.predict(x_test)\n",
        "\n",
        "# Measuring accuracy on Testing Data\n",
        "from sklearn import metrics\n",
        "print(metrics.classification_report(y_test, prediction))\n",
        "print(metrics.confusion_matrix(y_test, prediction))\n",
        "\n",
        "# Printing the Overall Accuracy of the model\n",
        "F1_Score=metrics.classification_report(y_test, prediction).split()[-2]\n",
        "print('Accuracy of the model:', F1_Score)\n",
        "\n",
        "# Plotting the feature importance for Top 10 most important columns\n",
        "%matplotlib inline\n",
        "feature_importances = pd.Series(DTree.feature_importances_, index=predictor)\n",
        "feature_importances.nlargest(10).plot(kind='barh')"
      ],
      "execution_count": null,
      "outputs": [
        {
          "name": "stdout",
          "output_type": "stream",
          "text": [
            "              precision    recall  f1-score   support\n",
            "\n",
            "           1       0.91      0.87      0.89       411\n",
            "           2       0.86      0.91      0.89       386\n",
            "           3       1.00      1.00      1.00       428\n",
            "           4       0.80      0.90      0.85       366\n",
            "           5       0.92      0.81      0.86       311\n",
            "           6       0.83      0.81      0.82       304\n",
            "\n",
            "    accuracy                           0.89      2206\n",
            "   macro avg       0.89      0.88      0.88      2206\n",
            "weighted avg       0.89      0.89      0.89      2206\n",
            "\n",
            "[[356  55   0   0   0   0]\n",
            " [ 34 352   0   0   0   0]\n",
            " [  0   0 428   0   0   0]\n",
            " [  0   0   0 329   3  34]\n",
            " [  0   0   0  42 252  17]\n",
            " [  1   0   0  38  20 245]]\n",
            "Accuracy of the model: 0.89\n"
          ]
        },
        {
          "data": {
            "text/plain": [
              "<matplotlib.axes._subplots.AxesSubplot at 0x7fef602502d0>"
            ]
          },
          "execution_count": 47,
          "metadata": {
            "tags": []
          },
          "output_type": "execute_result"
        },
        {
          "data": {
            "image/png": "[encoded data removed]",
            "text/plain": [
              "<Figure size 432x288 with 1 Axes>"
            ]
          },
          "metadata": {
            "tags": []
          },
          "output_type": "display_data"
        }
      ]
    },
    {
      "cell_type": "code",
      "metadata": {
        "id": "UsPXnm36fcjl"
      },
      "source": [
        ""
      ],
      "execution_count": null,
      "outputs": []
    },
    {
      "cell_type": "markdown",
      "metadata": {
        "id": "JHS5DgWHfiVQ"
      },
      "source": [
        "RANDOM FOREST CLASSIFIER"
      ]
    },
    {
      "cell_type": "code",
      "metadata": {
        "colab": {
          "base_uri": "https://localhost:8080/",
          "height": 622
        },
        "id": "BwCafhp1fi1L",
        "outputId": "6730834a-6822-4e8b-cac1-8bef9114e962"
      },
      "source": [
        "clf = RandomForestClassifier(max_depth=4, n_estimators=600,criterion='entropy')\n",
        "\n",
        "# Creating the model on Training Data\n",
        "RF=clf.fit(x_train,y_train)\n",
        "prediction=RF.predict(x_test)\n",
        "\n",
        "# Measuring accuracy on Testing Data\n",
        "from sklearn import metrics\n",
        "print(metrics.classification_report(y_test, prediction))\n",
        "print(metrics.confusion_matrix(y_test, prediction))\n",
        "\n",
        "# Printing the Overall Accuracy of the model\n",
        "F1_Score=metrics.classification_report(y_test, prediction).split()[-2]\n",
        "print('Accuracy of the model:', F1_Score)\n",
        "\n",
        "# Plotting the feature importance for Top 10 most important columns\n",
        "%matplotlib inline\n",
        "feature_importances = pd.Series(RF.feature_importances_, index=predictor)\n",
        "feature_importances.nlargest(10).plot(kind='barh')"
      ],
      "execution_count": null,
      "outputs": [
        {
          "name": "stdout",
          "output_type": "stream",
          "text": [
            "              precision    recall  f1-score   support\n",
            "\n",
            "           1       0.81      0.95      0.88       411\n",
            "           2       0.94      0.77      0.85       386\n",
            "           3       1.00      1.00      1.00       428\n",
            "           4       0.91      0.96      0.93       366\n",
            "           5       0.96      0.83      0.89       311\n",
            "           6       0.87      0.93      0.90       304\n",
            "\n",
            "    accuracy                           0.91      2206\n",
            "   macro avg       0.91      0.91      0.91      2206\n",
            "weighted avg       0.92      0.91      0.91      2206\n",
            "\n",
            "[[392  19   0   0   0   0]\n",
            " [ 89 297   0   0   0   0]\n",
            " [  0   0 428   0   0   0]\n",
            " [  0   0   0 350   3  13]\n",
            " [  0   0   0  22 258  31]\n",
            " [  0   0   0  14   7 283]]\n",
            "Accuracy of the model: 0.91\n"
          ]
        },
        {
          "data": {
            "text/plain": [
              "<matplotlib.axes._subplots.AxesSubplot at 0x7fef60567190>"
            ]
          },
          "execution_count": 48,
          "metadata": {
            "tags": []
          },
          "output_type": "execute_result"
        },
        {
          "data": {
            "image/png": "[encoded data removed]",
            "text/plain": [
              "<Figure size 432x288 with 1 Axes>"
            ]
          },
          "metadata": {
            "tags": []
          },
          "output_type": "display_data"
        }
      ]
    },
    {
      "cell_type": "code",
      "metadata": {
        "id": "PfmgrPcNflk5"
      },
      "source": [
        ""
      ],
      "execution_count": null,
      "outputs": []
    },
    {
      "cell_type": "markdown",
      "metadata": {
        "id": "19SbqsHefxfe"
      },
      "source": [
        "support vector machine"
      ]
    },
    {
      "cell_type": "code",
      "metadata": {
        "colab": {
          "base_uri": "https://localhost:8080/"
        },
        "id": "2yVPB_8wf0fc",
        "outputId": "f5f6828b-e2fa-497e-b757-6f085cc6d0f2"
      },
      "source": [
        "clf = SVC(C=100, gamma=0.001, kernel='rbf')\n",
        "\n",
        "# Creating the model on Training Data\n",
        "SVM=clf.fit(x_train,y_train)\n",
        "prediction=SVM.predict(x_test)\n",
        "\n",
        "# Measuring accuracy on Testing Data\n",
        "from sklearn import metrics\n",
        "print(metrics.classification_report(y_test, prediction))\n",
        "print(metrics.confusion_matrix(y_test, prediction))\n",
        "\n",
        "# Printing the Overall Accuracy of the model\n",
        "F1_Score=metrics.classification_report(y_test, prediction).split()[-2]\n",
        "print('Accuracy of the model:', F1_Score)"
      ],
      "execution_count": null,
      "outputs": [
        {
          "name": "stdout",
          "output_type": "stream",
          "text": [
            "              precision    recall  f1-score   support\n",
            "\n",
            "           1       0.96      0.97      0.97       411\n",
            "           2       0.97      0.96      0.96       386\n",
            "           3       1.00      1.00      1.00       428\n",
            "           4       1.00      1.00      1.00       366\n",
            "           5       0.99      1.00      1.00       311\n",
            "           6       1.00      0.99      1.00       304\n",
            "\n",
            "    accuracy                           0.99      2206\n",
            "   macro avg       0.99      0.99      0.99      2206\n",
            "weighted avg       0.99      0.99      0.99      2206\n",
            "\n",
            "[[398  13   0   0   0   0]\n",
            " [ 15 371   0   0   0   0]\n",
            " [  0   0 428   0   0   0]\n",
            " [  0   0   0 366   0   0]\n",
            " [  0   0   0   0 311   0]\n",
            " [  0   0   0   0   2 302]]\n",
            "Accuracy of the model: 0.99\n"
          ]
        }
      ]
    },
    {
      "cell_type": "code",
      "metadata": {
        "colab": {
          "base_uri": "https://localhost:8080/"
        },
        "id": "jW0n2LL0y5ci",
        "outputId": "d689904b-897c-42a1-f073-6b9928491671"
      },
      "source": [
        "!pip install Counter"
      ],
      "execution_count": null,
      "outputs": [
        {
          "name": "stdout",
          "output_type": "stream",
          "text": [
            "Collecting Counter\n",
            "  Downloading https://files.pythonhosted.org/packages/7d/b0/23d19892f8d91ec9c5b8a2035659bce23587fed419d68fa3d70b6abf8bcd/Counter-1.0.0.tar.gz\n",
            "Building wheels for collected packages: Counter\n",
            "  Building wheel for Counter (setup.py) ... \u001b[?25l\u001b[?25hdone\n",
            "  Created wheel for Counter: filename=Counter-1.0.0-cp37-none-any.whl size=5412 sha256=aa1a24c0446511a6628c3c0672a95fc9b6fb82f1fbbe24f9719f9d9b41e3684c\n",
            "  Stored in directory: /root/.cache/pip/wheels/06/16/20/5f223d85f959078fee0f6f769c6aa32a6f653d9449c1b205c3\n",
            "Successfully built Counter\n",
            "Installing collected packages: Counter\n",
            "Successfully installed Counter-1.0.0\n"
          ]
        }
      ]
    },
    {
      "cell_type": "code",
      "metadata": {
        "colab": {
          "base_uri": "https://localhost:8080/"
        },
        "id": "hQGxgGzsf2tQ",
        "outputId": "1377a14f-f657-4189-cdcd-3bd199ee47e2"
      },
      "source": [
        "from collections import Counter\n",
        "from imblearn.over_sampling import SMOTE\n",
        "smk=SMOTE(random_state=42)\n",
        "x_smote,y_smote=smk.fit_sample(x_train,y_train)\n",
        "print('Resampled dataset shape %s' % Counter(y_smote))\n"
      ],
      "execution_count": null,
      "outputs": [
        {
          "name": "stderr",
          "output_type": "stream",
          "text": [
            "/usr/local/lib/python3.7/dist-packages/sklearn/externals/six.py:31: FutureWarning: The module is deprecated in version 0.21 and will be removed in version 0.23 since we've dropped support for Python 2.7. Please rely on the official version of six (https://pypi.org/project/six/).\n",
            "  \"(https://pypi.org/project/six/).\", FutureWarning)\n",
            "/usr/local/lib/python3.7/dist-packages/sklearn/utils/deprecation.py:144: FutureWarning: The sklearn.neighbors.base module is  deprecated in version 0.22 and will be removed in version 0.24. The corresponding classes / functions should instead be imported from sklearn.neighbors. Anything that cannot be imported from sklearn.neighbors is now part of the private API.\n",
            "  warnings.warn(message, FutureWarning)\n",
            "/usr/local/lib/python3.7/dist-packages/sklearn/utils/deprecation.py:87: FutureWarning: Function safe_indexing is deprecated; safe_indexing is deprecated in version 0.22 and will be removed in version 0.24.\n",
            "  warnings.warn(msg, category=FutureWarning)\n",
            "/usr/local/lib/python3.7/dist-packages/sklearn/utils/deprecation.py:87: FutureWarning: Function safe_indexing is deprecated; safe_indexing is deprecated in version 0.22 and will be removed in version 0.24.\n",
            "  warnings.warn(msg, category=FutureWarning)\n",
            "/usr/local/lib/python3.7/dist-packages/sklearn/utils/deprecation.py:87: FutureWarning: Function safe_indexing is deprecated; safe_indexing is deprecated in version 0.22 and will be removed in version 0.24.\n",
            "  warnings.warn(msg, category=FutureWarning)\n",
            "/usr/local/lib/python3.7/dist-packages/sklearn/utils/deprecation.py:87: FutureWarning: Function safe_indexing is deprecated; safe_indexing is deprecated in version 0.22 and will be removed in version 0.24.\n",
            "  warnings.warn(msg, category=FutureWarning)\n",
            "/usr/local/lib/python3.7/dist-packages/sklearn/utils/deprecation.py:87: FutureWarning: Function safe_indexing is deprecated; safe_indexing is deprecated in version 0.22 and will be removed in version 0.24.\n",
            "  warnings.warn(msg, category=FutureWarning)\n"
          ]
        },
        {
          "name": "stdout",
          "output_type": "stream",
          "text": [
            "Resampled dataset shape Counter({2: 979, 6: 979, 4: 979, 5: 979, 1: 979, 3: 979})\n"
          ]
        }
      ]
    },
    {
      "cell_type": "code",
      "metadata": {
        "colab": {
          "base_uri": "https://localhost:8080/"
        },
        "id": "Q4ZqzUm1ynKA",
        "outputId": "4fe8450d-d05d-479d-ee39-45ace8488be1"
      },
      "source": [
        "from imblearn.over_sampling import RandomOverSampler\n",
        "ros= RandomOverSampler(random_state=42)\n",
        "x_over,y_over= ros.fit_resample(x_train,y_train)\n",
        "print('Resampled dataset shape %s' % Counter(y_over))"
      ],
      "execution_count": null,
      "outputs": [
        {
          "name": "stdout",
          "output_type": "stream",
          "text": [
            "Resampled dataset shape Counter({2: 979, 6: 979, 4: 979, 5: 979, 1: 979, 3: 979})\n"
          ]
        },
        {
          "name": "stderr",
          "output_type": "stream",
          "text": [
            "/usr/local/lib/python3.7/dist-packages/sklearn/utils/deprecation.py:87: FutureWarning: Function safe_indexing is deprecated; safe_indexing is deprecated in version 0.22 and will be removed in version 0.24.\n",
            "  warnings.warn(msg, category=FutureWarning)\n"
          ]
        }
      ]
    },
    {
      "cell_type": "code",
      "metadata": {
        "colab": {
          "base_uri": "https://localhost:8080/"
        },
        "id": "siTLMyaszRCw",
        "outputId": "a7c8d486-f861-4a6e-f4bd-7d94a383d3b5"
      },
      "source": [
        "from imblearn.under_sampling import RandomUnderSampler\n",
        "rus= RandomUnderSampler(random_state=42)\n",
        "x_under,y_under= rus.fit_resample(x_train,y_train)\n",
        "print('Resampled dataset shape %s' % Counter(y_under))"
      ],
      "execution_count": null,
      "outputs": [
        {
          "name": "stdout",
          "output_type": "stream",
          "text": [
            "Resampled dataset shape Counter({1: 675, 2: 675, 3: 675, 4: 675, 5: 675, 6: 675})\n"
          ]
        },
        {
          "name": "stderr",
          "output_type": "stream",
          "text": [
            "/usr/local/lib/python3.7/dist-packages/sklearn/utils/deprecation.py:87: FutureWarning: Function safe_indexing is deprecated; safe_indexing is deprecated in version 0.22 and will be removed in version 0.24.\n",
            "  warnings.warn(msg, category=FutureWarning)\n"
          ]
        }
      ]
    },
    {
      "cell_type": "code",
      "metadata": {
        "id": "3LTu58R7zjDG"
      },
      "source": [
        ""
      ],
      "execution_count": null,
      "outputs": []
    },
    {
      "cell_type": "markdown",
      "metadata": {
        "id": "0uQqAcYAzgO2"
      },
      "source": [
        "#LoGistic Regression"
      ]
    },
    {
      "cell_type": "code",
      "metadata": {
        "colab": {
          "base_uri": "https://localhost:8080/"
        },
        "id": "yEmyuE1EzZ-W",
        "outputId": "d7b4a614-f7d8-47a6-85f9-22637cd33263"
      },
      "source": [
        "clf = LogisticRegression(C=1)\n",
        "\n",
        "# Creating the model on Training Data\n",
        "LOG=clf.fit(x_smote,y_smote)\n",
        "prediction=LOG.predict(x_test)\n",
        "\n",
        "# Measuring accuracy on Testing Data\n",
        "from sklearn import metrics\n",
        "print(metrics.classification_report(y_test, prediction))\n",
        "print(metrics.confusion_matrix(y_test, prediction))\n",
        "\n",
        "# Printing the Overall Accuracy of the model\n",
        "F1_Score=metrics.classification_report(y_test, prediction).split()[-2]\n",
        "print('Accuracy of the model:', F1_Score)"
      ],
      "execution_count": null,
      "outputs": [
        {
          "name": "stdout",
          "output_type": "stream",
          "text": [
            "              precision    recall  f1-score   support\n",
            "\n",
            "           1       0.95      0.97      0.96       411\n",
            "           2       0.96      0.95      0.95       386\n",
            "           3       1.00      1.00      1.00       428\n",
            "           4       1.00      0.99      1.00       366\n",
            "           5       0.99      0.99      0.99       311\n",
            "           6       0.99      0.99      0.99       304\n",
            "\n",
            "    accuracy                           0.98      2206\n",
            "   macro avg       0.98      0.98      0.98      2206\n",
            "weighted avg       0.98      0.98      0.98      2206\n",
            "\n",
            "[[397  14   0   0   0   0]\n",
            " [ 21 365   0   0   0   0]\n",
            " [  0   0 428   0   0   0]\n",
            " [  0   0   0 364   0   2]\n",
            " [  0   0   0   1 308   2]\n",
            " [  0   0   0   0   3 301]]\n",
            "Accuracy of the model: 0.98\n"
          ]
        },
        {
          "name": "stderr",
          "output_type": "stream",
          "text": [
            "/usr/local/lib/python3.7/dist-packages/sklearn/linear_model/_logistic.py:940: ConvergenceWarning: lbfgs failed to converge (status=1):\n",
            "STOP: TOTAL NO. of ITERATIONS REACHED LIMIT.\n",
            "\n",
            "Increase the number of iterations (max_iter) or scale the data as shown in:\n",
            "    https://scikit-learn.org/stable/modules/preprocessing.html\n",
            "Please also refer to the documentation for alternative solver options:\n",
            "    https://scikit-learn.org/stable/modules/linear_model.html#logistic-regression\n",
            "  extra_warning_msg=_LOGISTIC_SOLVER_CONVERGENCE_MSG)\n"
          ]
        }
      ]
    },
    {
      "cell_type": "code",
      "metadata": {
        "colab": {
          "base_uri": "https://localhost:8080/"
        },
        "id": "QOffeBddzfpU",
        "outputId": "7f2de3f0-6f48-4b63-b32e-9f1bdcaf2600"
      },
      "source": [
        "clf = LogisticRegression(C=1)\n",
        "\n",
        "# Creating the model on Training Data\n",
        "LOG=clf.fit(x_over,y_over)\n",
        "prediction=LOG.predict(x_test)\n",
        "\n",
        "# Measuring accuracy on Testing Data\n",
        "from sklearn import metrics\n",
        "print(metrics.classification_report(y_test, prediction))\n",
        "print(metrics.confusion_matrix(y_test, prediction))\n",
        "\n",
        "# Printing the Overall Accuracy of the model\n",
        "F1_Score=metrics.classification_report(y_test, prediction).split()[-2]\n",
        "print('Accuracy of the model:', F1_Score)"
      ],
      "execution_count": null,
      "outputs": [
        {
          "name": "stdout",
          "output_type": "stream",
          "text": [
            "              precision    recall  f1-score   support\n",
            "\n",
            "           1       0.95      0.96      0.96       411\n",
            "           2       0.96      0.95      0.95       386\n",
            "           3       1.00      1.00      1.00       428\n",
            "           4       0.99      0.99      0.99       366\n",
            "           5       0.99      0.99      0.99       311\n",
            "           6       0.99      0.99      0.99       304\n",
            "\n",
            "    accuracy                           0.98      2206\n",
            "   macro avg       0.98      0.98      0.98      2206\n",
            "weighted avg       0.98      0.98      0.98      2206\n",
            "\n",
            "[[396  15   0   0   0   0]\n",
            " [ 21 365   0   0   0   0]\n",
            " [  0   0 428   0   0   0]\n",
            " [  0   0   0 363   0   3]\n",
            " [  0   0   0   2 309   0]\n",
            " [  0   0   0   1   2 301]]\n",
            "Accuracy of the model: 0.98\n"
          ]
        },
        {
          "name": "stderr",
          "output_type": "stream",
          "text": [
            "/usr/local/lib/python3.7/dist-packages/sklearn/linear_model/_logistic.py:940: ConvergenceWarning: lbfgs failed to converge (status=1):\n",
            "STOP: TOTAL NO. of ITERATIONS REACHED LIMIT.\n",
            "\n",
            "Increase the number of iterations (max_iter) or scale the data as shown in:\n",
            "    https://scikit-learn.org/stable/modules/preprocessing.html\n",
            "Please also refer to the documentation for alternative solver options:\n",
            "    https://scikit-learn.org/stable/modules/linear_model.html#logistic-regression\n",
            "  extra_warning_msg=_LOGISTIC_SOLVER_CONVERGENCE_MSG)\n"
          ]
        }
      ]
    },
    {
      "cell_type": "code",
      "metadata": {
        "colab": {
          "base_uri": "https://localhost:8080/"
        },
        "id": "pTysjLEzz28a",
        "outputId": "53e2aa6e-d8f3-42ba-b5cc-ff3fd9964c92"
      },
      "source": [
        "clf = LogisticRegression(C=1)\n",
        "\n",
        "# Creating the model on Training Data\n",
        "LOG=clf.fit(x_under,y_under)\n",
        "prediction=LOG.predict(x_test)\n",
        "\n",
        "# Measuring accuracy on Testing Data\n",
        "from sklearn import metrics\n",
        "print(metrics.classification_report(y_test, prediction))\n",
        "print(metrics.confusion_matrix(y_test, prediction))\n",
        "\n",
        "# Printing the Overall Accuracy of the model\n",
        "F1_Score=metrics.classification_report(y_test, prediction).split()[-2]\n",
        "print('Accuracy of the model:', F1_Score)"
      ],
      "execution_count": null,
      "outputs": [
        {
          "name": "stdout",
          "output_type": "stream",
          "text": [
            "              precision    recall  f1-score   support\n",
            "\n",
            "           1       0.95      0.96      0.96       411\n",
            "           2       0.96      0.95      0.95       386\n",
            "           3       1.00      1.00      1.00       428\n",
            "           4       0.99      0.99      0.99       366\n",
            "           5       0.99      1.00      0.99       311\n",
            "           6       0.99      0.99      0.99       304\n",
            "\n",
            "    accuracy                           0.98      2206\n",
            "   macro avg       0.98      0.98      0.98      2206\n",
            "weighted avg       0.98      0.98      0.98      2206\n",
            "\n",
            "[[395  16   0   0   0   0]\n",
            " [ 21 365   0   0   0   0]\n",
            " [  0   0 427   0   1   0]\n",
            " [  0   0   0 364   0   2]\n",
            " [  0   0   0   1 310   0]\n",
            " [  0   0   0   1   2 301]]\n",
            "Accuracy of the model: 0.98\n"
          ]
        },
        {
          "name": "stderr",
          "output_type": "stream",
          "text": [
            "/usr/local/lib/python3.7/dist-packages/sklearn/linear_model/_logistic.py:940: ConvergenceWarning: lbfgs failed to converge (status=1):\n",
            "STOP: TOTAL NO. of ITERATIONS REACHED LIMIT.\n",
            "\n",
            "Increase the number of iterations (max_iter) or scale the data as shown in:\n",
            "    https://scikit-learn.org/stable/modules/preprocessing.html\n",
            "Please also refer to the documentation for alternative solver options:\n",
            "    https://scikit-learn.org/stable/modules/linear_model.html#logistic-regression\n",
            "  extra_warning_msg=_LOGISTIC_SOLVER_CONVERGENCE_MSG)\n"
          ]
        }
      ]
    },
    {
      "cell_type": "code",
      "metadata": {
        "colab": {
          "base_uri": "https://localhost:8080/"
        },
        "id": "VyjjWqlz0BO6",
        "outputId": "251d2009-cc31-4642-9dca-f50e743e80c5"
      },
      "source": [
        "# K - Nearest classifier after sampling\n",
        "clf = KNeighborsClassifier(n_neighbors=3)\n",
        "\n",
        "# Creating the model on Training Data\n",
        "KNN=clf.fit(x_smote,y_smote)\n",
        "prediction=KNN.predict(x_test)\n",
        "\n",
        "# Measuring accuracy on Testing Data\n",
        "from sklearn import metrics\n",
        "print(metrics.classification_report(y_test, prediction))\n",
        "print(metrics.confusion_matrix(y_test, prediction))\n",
        "\n",
        "# Printing the Overall Accuracy of the model\n",
        "F1_Score=metrics.classification_report(y_test, prediction).split()[-2]\n",
        "print('Accuracy of the model:', F1_Score)"
      ],
      "execution_count": null,
      "outputs": [
        {
          "name": "stdout",
          "output_type": "stream",
          "text": [
            "              precision    recall  f1-score   support\n",
            "\n",
            "           1       0.89      0.91      0.90       411\n",
            "           2       0.90      0.88      0.89       386\n",
            "           3       1.00      1.00      1.00       428\n",
            "           4       0.99      1.00      1.00       366\n",
            "           5       1.00      0.99      1.00       311\n",
            "           6       0.99      0.99      0.99       304\n",
            "\n",
            "    accuracy                           0.96      2206\n",
            "   macro avg       0.96      0.96      0.96      2206\n",
            "weighted avg       0.96      0.96      0.96      2206\n",
            "\n",
            "[[373  38   0   0   0   0]\n",
            " [ 45 340   1   0   0   0]\n",
            " [  1   0 427   0   0   0]\n",
            " [  0   0   0 365   0   1]\n",
            " [  0   0   0   0 308   3]\n",
            " [  0   0   0   2   0 302]]\n",
            "Accuracy of the model: 0.96\n"
          ]
        }
      ]
    },
    {
      "cell_type": "code",
      "metadata": {
        "colab": {
          "base_uri": "https://localhost:8080/"
        },
        "id": "ZRzWlcet0IxU",
        "outputId": "7fdc0ea6-714a-49d4-8ad3-671b1d786b15"
      },
      "source": [
        "KNN=clf.fit(x_over,y_over)\n",
        "prediction=KNN.predict(x_test)\n",
        "\n",
        "# Measuring accuracy on Testing Data\n",
        "from sklearn import metrics\n",
        "print(metrics.classification_report(y_test, prediction))\n",
        "print(metrics.confusion_matrix(y_test, prediction))\n",
        "\n",
        "# Printing the Overall Accuracy of the model\n",
        "F1_Score=metrics.classification_report(y_test, prediction).split()[-2]\n",
        "print('Accuracy of the model:', F1_Score)"
      ],
      "execution_count": null,
      "outputs": [
        {
          "name": "stdout",
          "output_type": "stream",
          "text": [
            "              precision    recall  f1-score   support\n",
            "\n",
            "           1       0.86      0.95      0.90       411\n",
            "           2       0.94      0.84      0.89       386\n",
            "           3       1.00      0.99      1.00       428\n",
            "           4       0.98      1.00      0.99       366\n",
            "           5       0.99      0.98      0.99       311\n",
            "           6       0.99      0.99      0.99       304\n",
            "\n",
            "    accuracy                           0.96      2206\n",
            "   macro avg       0.96      0.96      0.96      2206\n",
            "weighted avg       0.96      0.96      0.96      2206\n",
            "\n",
            "[[390  21   0   0   0   0]\n",
            " [ 61 324   1   0   0   0]\n",
            " [  1   1 425   0   1   0]\n",
            " [  0   0   0 365   0   1]\n",
            " [  0   0   0   4 304   3]\n",
            " [  0   0   0   2   1 301]]\n",
            "Accuracy of the model: 0.96\n"
          ]
        }
      ]
    },
    {
      "cell_type": "code",
      "metadata": {
        "colab": {
          "base_uri": "https://localhost:8080/"
        },
        "id": "0BxI0ifx0Mzk",
        "outputId": "54d9c2a3-621a-4dd6-bb9c-10114dd3ccdc"
      },
      "source": [
        "clf = KNeighborsClassifier(n_neighbors=3)\n",
        "\n",
        "# Creating the model on Training Data\n",
        "KNN=clf.fit(x_under,y_under)\n",
        "prediction=KNN.predict(x_test)\n",
        "\n",
        "# Measuring accuracy on Testing Data\n",
        "from sklearn import metrics\n",
        "print(metrics.classification_report(y_test, prediction))\n",
        "print(metrics.confusion_matrix(y_test, prediction))\n",
        "\n",
        "# Printing the Overall Accuracy of the model\n",
        "F1_Score=metrics.classification_report(y_test, prediction).split()[-2]\n",
        "print('Accuracy of the model:', F1_Score)"
      ],
      "execution_count": null,
      "outputs": [
        {
          "name": "stdout",
          "output_type": "stream",
          "text": [
            "              precision    recall  f1-score   support\n",
            "\n",
            "           1       0.85      0.93      0.89       411\n",
            "           2       0.91      0.82      0.86       386\n",
            "           3       1.00      0.99      1.00       428\n",
            "           4       0.98      1.00      0.99       366\n",
            "           5       1.00      0.97      0.99       311\n",
            "           6       0.98      1.00      0.99       304\n",
            "\n",
            "    accuracy                           0.95      2206\n",
            "   macro avg       0.95      0.95      0.95      2206\n",
            "weighted avg       0.95      0.95      0.95      2206\n",
            "\n",
            "[[382  29   0   0   0   0]\n",
            " [ 68 316   1   0   0   1]\n",
            " [  1   2 425   0   0   0]\n",
            " [  0   0   0 365   0   1]\n",
            " [  0   0   0   5 303   3]\n",
            " [  0   0   0   1   0 303]]\n",
            "Accuracy of the model: 0.95\n"
          ]
        }
      ]
    },
    {
      "cell_type": "code",
      "metadata": {
        "colab": {
          "base_uri": "https://localhost:8080/",
          "height": 622
        },
        "id": "jCTKy8oT0Q-c",
        "outputId": "de182172-355f-465b-8156-ef57147a7061"
      },
      "source": [
        "# Decision -tree after sampling \n",
        "clf = DecisionTreeClassifier(max_depth=3,criterion='entropy')\n",
        "\n",
        "# Creating the model on Training Data\n",
        "DTree=clf.fit(x_smote,y_smote)\n",
        "prediction=DTree.predict(x_test)\n",
        "\n",
        "# Measuring accuracy on Testing Data\n",
        "from sklearn import metrics\n",
        "print(metrics.classification_report(y_test, prediction))\n",
        "print(metrics.confusion_matrix(y_test, prediction))\n",
        "\n",
        "# Printing the Overall Accuracy of the model\n",
        "F1_Score=metrics.classification_report(y_test, prediction).split()[-2]\n",
        "print('Accuracy of the model:', F1_Score)\n",
        "\n",
        "# Plotting the feature importance for Top 10 most important columns\n",
        "%matplotlib inline\n",
        "feature_importances = pd.Series(DTree.feature_importances_, index=predictor)\n",
        "feature_importances.nlargest(10).plot(kind='barh')"
      ],
      "execution_count": null,
      "outputs": [
        {
          "name": "stdout",
          "output_type": "stream",
          "text": [
            "              precision    recall  f1-score   support\n",
            "\n",
            "           1       0.91      0.87      0.89       411\n",
            "           2       0.86      0.91      0.89       386\n",
            "           3       1.00      1.00      1.00       428\n",
            "           4       0.82      0.88      0.85       366\n",
            "           5       0.92      0.81      0.86       311\n",
            "           6       0.81      0.83      0.82       304\n",
            "\n",
            "    accuracy                           0.89      2206\n",
            "   macro avg       0.89      0.88      0.88      2206\n",
            "weighted avg       0.89      0.89      0.89      2206\n",
            "\n",
            "[[356  55   0   0   0   0]\n",
            " [ 34 352   0   0   0   0]\n",
            " [  0   0 428   0   0   0]\n",
            " [  0   0   0 322   3  41]\n",
            " [  0   0   0  40 252  19]\n",
            " [  1   0   0  30  20 253]]\n",
            "Accuracy of the model: 0.89\n"
          ]
        },
        {
          "data": {
            "text/plain": [
              "<matplotlib.axes._subplots.AxesSubplot at 0x7fef5d7d1050>"
            ]
          },
          "execution_count": 61,
          "metadata": {
            "tags": []
          },
          "output_type": "execute_result"
        },
        {
          "data": {
            "image/png": "[encoded data removed]",
            "text/plain": [
              "<Figure size 432x288 with 1 Axes>"
            ]
          },
          "metadata": {
            "tags": []
          },
          "output_type": "display_data"
        }
      ]
    },
    {
      "cell_type": "code",
      "metadata": {
        "colab": {
          "base_uri": "https://localhost:8080/",
          "height": 622
        },
        "id": "45wsBM9F0ZNQ",
        "outputId": "b989f226-2cb2-4746-9be4-c6754eb9e2ed"
      },
      "source": [
        "clf = DecisionTreeClassifier(max_depth=3,criterion='entropy')\n",
        "\n",
        "# Creating the model on Training Data\n",
        "DTree=clf.fit(x_over,y_over)\n",
        "prediction=DTree.predict(x_test)\n",
        "\n",
        "# Measuring accuracy on Testing Data\n",
        "from sklearn import metrics\n",
        "print(metrics.classification_report(y_test, prediction))\n",
        "print(metrics.confusion_matrix(y_test, prediction))\n",
        "\n",
        "# Printing the Overall Accuracy of the model\n",
        "F1_Score=metrics.classification_report(y_test, prediction).split()[-2]\n",
        "print('Accuracy of the model:', F1_Score)\n",
        "\n",
        "# Plotting the feature importance for Top 10 most important columns\n",
        "%matplotlib inline\n",
        "feature_importances = pd.Series(DTree.feature_importances_, index=predictor)\n",
        "feature_importances.nlargest(10).plot(kind='barh')"
      ],
      "execution_count": null,
      "outputs": [
        {
          "name": "stdout",
          "output_type": "stream",
          "text": [
            "              precision    recall  f1-score   support\n",
            "\n",
            "           1       0.91      0.86      0.89       411\n",
            "           2       0.86      0.91      0.89       386\n",
            "           3       1.00      1.00      1.00       428\n",
            "           4       0.80      0.90      0.85       366\n",
            "           5       0.92      0.81      0.86       311\n",
            "           6       0.82      0.81      0.82       304\n",
            "\n",
            "    accuracy                           0.89      2206\n",
            "   macro avg       0.89      0.88      0.88      2206\n",
            "weighted avg       0.89      0.89      0.89      2206\n",
            "\n",
            "[[355  56   0   0   0   0]\n",
            " [ 34 352   0   0   0   0]\n",
            " [  0   0 428   0   0   0]\n",
            " [  0   0   0 329   3  34]\n",
            " [  0   0   0  42 251  18]\n",
            " [  1   0   0  38  20 245]]\n",
            "Accuracy of the model: 0.89\n"
          ]
        },
        {
          "data": {
            "text/plain": [
              "<matplotlib.axes._subplots.AxesSubplot at 0x7fef5d486050>"
            ]
          },
          "execution_count": 62,
          "metadata": {
            "tags": []
          },
          "output_type": "execute_result"
        },
        {
          "data": {
            "image/png": "[encoded data removed]",
            "text/plain": [
              "<Figure size 432x288 with 1 Axes>"
            ]
          },
          "metadata": {
            "tags": []
          },
          "output_type": "display_data"
        }
      ]
    },
    {
      "cell_type": "code",
      "metadata": {
        "colab": {
          "base_uri": "https://localhost:8080/",
          "height": 622
        },
        "id": "tPpXyJl60dJh",
        "outputId": "5ab0d924-0e48-437f-aaa4-4bdd8d42f1dc"
      },
      "source": [
        "clf = DecisionTreeClassifier(max_depth=3,criterion='entropy')\n",
        "\n",
        "# Creating the model on Training Data\n",
        "DTree=clf.fit(x_under,y_under)\n",
        "prediction=DTree.predict(x_test)\n",
        "\n",
        "# Measuring accuracy on Testing Data\n",
        "from sklearn import metrics\n",
        "print(metrics.classification_report(y_test, prediction))\n",
        "print(metrics.confusion_matrix(y_test, prediction))\n",
        "\n",
        "# Printing the Overall Accuracy of the model\n",
        "F1_Score=metrics.classification_report(y_test, prediction).split()[-2]\n",
        "print('Accuracy of the model:', F1_Score)\n",
        "\n",
        "# Plotting the feature importance for Top 10 most important columns\n",
        "%matplotlib inline\n",
        "feature_importances = pd.Series(DTree.feature_importances_, index=predictor)\n",
        "feature_importances.nlargest(10).plot(kind='barh')"
      ],
      "execution_count": null,
      "outputs": [
        {
          "name": "stdout",
          "output_type": "stream",
          "text": [
            "              precision    recall  f1-score   support\n",
            "\n",
            "           1       0.91      0.86      0.89       411\n",
            "           2       0.86      0.91      0.89       386\n",
            "           3       1.00      1.00      1.00       428\n",
            "           4       0.81      0.90      0.85       366\n",
            "           5       0.92      0.81      0.86       311\n",
            "           6       0.83      0.81      0.82       304\n",
            "\n",
            "    accuracy                           0.89      2206\n",
            "   macro avg       0.89      0.88      0.88      2206\n",
            "weighted avg       0.89      0.89      0.89      2206\n",
            "\n",
            "[[354  57   0   0   0   0]\n",
            " [ 33 353   0   0   0   0]\n",
            " [  0   1 427   0   0   0]\n",
            " [  0   0   0 329   3  34]\n",
            " [  0   0   0  41 253  17]\n",
            " [  1   0   0  38  20 245]]\n",
            "Accuracy of the model: 0.89\n"
          ]
        },
        {
          "data": {
            "text/plain": [
              "<matplotlib.axes._subplots.AxesSubplot at 0x7fef5d480210>"
            ]
          },
          "execution_count": 63,
          "metadata": {
            "tags": []
          },
          "output_type": "execute_result"
        },
        {
          "data": {
            "image/png": "[encoded data removed]",
            "text/plain": [
              "<Figure size 432x288 with 1 Axes>"
            ]
          },
          "metadata": {
            "tags": []
          },
          "output_type": "display_data"
        }
      ]
    },
    {
      "cell_type": "code",
      "metadata": {
        "colab": {
          "base_uri": "https://localhost:8080/",
          "height": 622
        },
        "id": "7RMviI2G0mvM",
        "outputId": "42d5ef19-f16b-4a36-cad9-adc038cab84e"
      },
      "source": [
        "# Random forest after sampling\n",
        "clf = RandomForestClassifier(max_depth=4, n_estimators=600,criterion='entropy')\n",
        "\n",
        "# Creating the model on Training Data\n",
        "RF=clf.fit(x_smote,y_smote)\n",
        "prediction=RF.predict(x_test)\n",
        "\n",
        "# Measuring accuracy on Testing Data\n",
        "from sklearn import metrics\n",
        "print(metrics.classification_report(y_test, prediction))\n",
        "print(metrics.confusion_matrix(y_test, prediction))\n",
        "\n",
        "# Printing the Overall Accuracy of the model\n",
        "F1_Score=metrics.classification_report(y_test, prediction).split()[-2]\n",
        "print('Accuracy of the model:', F1_Score)\n",
        "\n",
        "# Plotting the feature importance for Top 10 most important columns\n",
        "%matplotlib inline\n",
        "feature_importances = pd.Series(RF.feature_importances_, index=predictor)\n",
        "feature_importances.nlargest(10).plot(kind='barh')"
      ],
      "execution_count": null,
      "outputs": [
        {
          "name": "stdout",
          "output_type": "stream",
          "text": [
            "              precision    recall  f1-score   support\n",
            "\n",
            "           1       0.83      0.95      0.89       411\n",
            "           2       0.94      0.80      0.86       386\n",
            "           3       1.00      1.00      1.00       428\n",
            "           4       0.93      0.95      0.94       366\n",
            "           5       0.96      0.84      0.90       311\n",
            "           6       0.86      0.94      0.90       304\n",
            "\n",
            "    accuracy                           0.92      2206\n",
            "   macro avg       0.92      0.91      0.91      2206\n",
            "weighted avg       0.92      0.92      0.92      2206\n",
            "\n",
            "[[390  21   0   0   0   0]\n",
            " [ 79 307   0   0   0   0]\n",
            " [  0   0 428   0   0   0]\n",
            " [  0   0   0 348   3  15]\n",
            " [  0   0   0  17 262  32]\n",
            " [  0   0   0  10   8 286]]\n",
            "Accuracy of the model: 0.92\n"
          ]
        },
        {
          "data": {
            "text/plain": [
              "<matplotlib.axes._subplots.AxesSubplot at 0x7fef5ea99f50>"
            ]
          },
          "execution_count": 64,
          "metadata": {
            "tags": []
          },
          "output_type": "execute_result"
        },
        {
          "data": {
            "image/png": "[encoded data removed]",
            "text/plain": [
              "<Figure size 432x288 with 1 Axes>"
            ]
          },
          "metadata": {
            "tags": []
          },
          "output_type": "display_data"
        }
      ]
    },
    {
      "cell_type": "code",
      "metadata": {
        "colab": {
          "base_uri": "https://localhost:8080/",
          "height": 622
        },
        "id": "olzsnzRq0r2L",
        "outputId": "ff4f2838-3a96-47c7-ac4b-c42b911a7f9e"
      },
      "source": [
        "clf = RandomForestClassifier(max_depth=4, n_estimators=600,criterion='entropy')\n",
        "\n",
        "# Creating the model on Training Data\n",
        "RF=clf.fit(x_over,y_over)\n",
        "prediction=RF.predict(x_test)\n",
        "\n",
        "# Measuring accuracy on Testing Data\n",
        "from sklearn import metrics\n",
        "print(metrics.classification_report(y_test, prediction))\n",
        "print(metrics.confusion_matrix(y_test, prediction))\n",
        "\n",
        "# Printing the Overall Accuracy of the model\n",
        "F1_Score=metrics.classification_report(y_test, prediction).split()[-2]\n",
        "print('Accuracy of the model:', F1_Score)\n",
        "\n",
        "# Plotting the feature importance for Top 10 most important columns\n",
        "%matplotlib inline\n",
        "feature_importances = pd.Series(RF.feature_importances_, index=predictor)\n",
        "feature_importances.nlargest(10).plot(kind='barh')"
      ],
      "execution_count": null,
      "outputs": [
        {
          "name": "stdout",
          "output_type": "stream",
          "text": [
            "              precision    recall  f1-score   support\n",
            "\n",
            "           1       0.87      0.95      0.91       411\n",
            "           2       0.94      0.85      0.89       386\n",
            "           3       1.00      1.00      1.00       428\n",
            "           4       0.92      0.95      0.94       366\n",
            "           5       0.96      0.82      0.89       311\n",
            "           6       0.85      0.94      0.89       304\n",
            "\n",
            "    accuracy                           0.92      2206\n",
            "   macro avg       0.92      0.92      0.92      2206\n",
            "weighted avg       0.93      0.92      0.92      2206\n",
            "\n",
            "[[389  22   0   0   0   0]\n",
            " [ 58 328   0   0   0   0]\n",
            " [  0   0 428   0   0   0]\n",
            " [  0   0   0 348   3  15]\n",
            " [  0   0   0  19 256  36]\n",
            " [  0   0   0  11   7 286]]\n",
            "Accuracy of the model: 0.92\n"
          ]
        },
        {
          "data": {
            "text/plain": [
              "<matplotlib.axes._subplots.AxesSubplot at 0x7fef5d404650>"
            ]
          },
          "execution_count": 65,
          "metadata": {
            "tags": []
          },
          "output_type": "execute_result"
        },
        {
          "data": {
            "image/png": "[encoded data removed]",
            "text/plain": [
              "<Figure size 432x288 with 1 Axes>"
            ]
          },
          "metadata": {
            "tags": []
          },
          "output_type": "display_data"
        }
      ]
    },
    {
      "cell_type": "code",
      "metadata": {
        "colab": {
          "base_uri": "https://localhost:8080/",
          "height": 622
        },
        "id": "TPNK-OLx0uY7",
        "outputId": "c5959359-3801-4dc9-95e8-d061c13b2bf9"
      },
      "source": [
        "clf = RandomForestClassifier(max_depth=4, n_estimators=600,criterion='entropy')\n",
        "\n",
        "# Creating the model on Training Data\n",
        "RF=clf.fit(x_under,y_under)\n",
        "prediction=RF.predict(x_test)\n",
        "\n",
        "# Measuring accuracy on Testing Data\n",
        "from sklearn import metrics\n",
        "print(metrics.classification_report(y_test, prediction))\n",
        "print(metrics.confusion_matrix(y_test, prediction))\n",
        "\n",
        "# Printing the Overall Accuracy of the model\n",
        "F1_Score=metrics.classification_report(y_test, prediction).split()[-2]\n",
        "print('Accuracy of the model:', F1_Score)\n",
        "\n",
        "# Plotting the feature importance for Top 10 most important columns\n",
        "%matplotlib inline\n",
        "feature_importances = pd.Series(RF.feature_importances_, index=predictor)\n",
        "feature_importances.nlargest(10).plot(kind='barh')"
      ],
      "execution_count": null,
      "outputs": [
        {
          "name": "stdout",
          "output_type": "stream",
          "text": [
            "              precision    recall  f1-score   support\n",
            "\n",
            "           1       0.86      0.94      0.90       411\n",
            "           2       0.93      0.84      0.88       386\n",
            "           3       1.00      1.00      1.00       428\n",
            "           4       0.93      0.95      0.94       366\n",
            "           5       0.96      0.84      0.89       311\n",
            "           6       0.86      0.94      0.90       304\n",
            "\n",
            "    accuracy                           0.92      2206\n",
            "   macro avg       0.92      0.92      0.92      2206\n",
            "weighted avg       0.93      0.92      0.92      2206\n",
            "\n",
            "[[387  24   0   0   0   0]\n",
            " [ 61 325   0   0   0   0]\n",
            " [  0   0 428   0   0   0]\n",
            " [  0   0   0 349   4  13]\n",
            " [  0   0   0  17 260  34]\n",
            " [  0   0   0  10   7 287]]\n",
            "Accuracy of the model: 0.92\n"
          ]
        },
        {
          "data": {
            "text/plain": [
              "<matplotlib.axes._subplots.AxesSubplot at 0x7fef5d31af50>"
            ]
          },
          "execution_count": 66,
          "metadata": {
            "tags": []
          },
          "output_type": "execute_result"
        },
        {
          "data": {
            "image/png": "[encoded data removed]",
            "text/plain": [
              "<Figure size 432x288 with 1 Axes>"
            ]
          },
          "metadata": {
            "tags": []
          },
          "output_type": "display_data"
        }
      ]
    },
    {
      "cell_type": "code",
      "metadata": {
        "colab": {
          "base_uri": "https://localhost:8080/"
        },
        "id": "nHVQzmNY0xrU",
        "outputId": "620f79a1-d74e-406f-b051-39a97d811aca"
      },
      "source": [
        "# support vector classifier after sampling\n",
        "clf = SVC(C=100, gamma=0.001, kernel='rbf')\n",
        "\n",
        "# Creating the model on Training Data\n",
        "SVM_smote=clf.fit(x_smote,y_smote)\n",
        "prediction=SVM_smote.predict(x_test)\n",
        "\n",
        "# Measuring accuracy on Testing Datam\n",
        "from sklearn import metrics\n",
        "print(metrics.classification_report(y_test, prediction))\n",
        "print(metrics.confusion_matrix(y_test, prediction))\n",
        "\n",
        "# Printing the Overall Accuracy of the model\n",
        "F1_Score=metrics.classification_report(y_test, prediction).split()[-2]\n",
        "print('Accuracy of the model:', F1_Score)"
      ],
      "execution_count": null,
      "outputs": [
        {
          "name": "stdout",
          "output_type": "stream",
          "text": [
            "              precision    recall  f1-score   support\n",
            "\n",
            "           1       0.96      0.97      0.96       411\n",
            "           2       0.97      0.96      0.96       386\n",
            "           3       1.00      1.00      1.00       428\n",
            "           4       1.00      1.00      1.00       366\n",
            "           5       0.99      1.00      1.00       311\n",
            "           6       1.00      0.99      1.00       304\n",
            "\n",
            "    accuracy                           0.99      2206\n",
            "   macro avg       0.99      0.99      0.99      2206\n",
            "weighted avg       0.99      0.99      0.99      2206\n",
            "\n",
            "[[398  13   0   0   0   0]\n",
            " [ 17 369   0   0   0   0]\n",
            " [  0   0 428   0   0   0]\n",
            " [  0   0   0 366   0   0]\n",
            " [  0   0   0   0 311   0]\n",
            " [  0   0   0   0   2 302]]\n",
            "Accuracy of the model: 0.99\n"
          ]
        }
      ]
    },
    {
      "cell_type": "code",
      "metadata": {
        "colab": {
          "base_uri": "https://localhost:8080/"
        },
        "id": "hIVjpwmM07Nt",
        "outputId": "7f6defb3-162a-4639-8072-5136bf002c8b"
      },
      "source": [
        "\n",
        "\n",
        "clf = SVC(C=100, gamma=0.001, kernel='rbf')\n",
        "\n",
        "# Creating the model on Training Data\n",
        "SVM_over=clf.fit(x_over,y_over)\n",
        "prediction=SVM_over.predict(x_test)\n",
        "\n",
        "# Measuring accuracy on Testing Data\n",
        "from sklearn import metrics\n",
        "print(metrics.classification_report(y_test, prediction))\n",
        "print(metrics.confusion_matrix(y_test, prediction))\n",
        "\n",
        "# Printing the Overall Accuracy of the model\n",
        "F1_Score=metrics.classification_report(y_test, prediction).split()[-2]\n",
        "print('Accuracy of the model:', F1_Score)"
      ],
      "execution_count": null,
      "outputs": [
        {
          "name": "stdout",
          "output_type": "stream",
          "text": [
            "              precision    recall  f1-score   support\n",
            "\n",
            "           1       0.96      0.97      0.96       411\n",
            "           2       0.97      0.96      0.96       386\n",
            "           3       1.00      1.00      1.00       428\n",
            "           4       1.00      1.00      1.00       366\n",
            "           5       0.99      1.00      1.00       311\n",
            "           6       1.00      0.99      1.00       304\n",
            "\n",
            "    accuracy                           0.99      2206\n",
            "   macro avg       0.99      0.99      0.99      2206\n",
            "weighted avg       0.99      0.99      0.99      2206\n",
            "\n",
            "[[398  13   0   0   0   0]\n",
            " [ 16 370   0   0   0   0]\n",
            " [  0   0 428   0   0   0]\n",
            " [  0   0   0 366   0   0]\n",
            " [  0   0   0   0 311   0]\n",
            " [  0   0   0   0   2 302]]\n",
            "Accuracy of the model: 0.99\n"
          ]
        }
      ]
    },
    {
      "cell_type": "code",
      "metadata": {
        "colab": {
          "base_uri": "https://localhost:8080/"
        },
        "id": "WQgyI0Cf0-pS",
        "outputId": "f3a73d5d-ed00-4341-921b-27b26fe5f372"
      },
      "source": [
        "clf = SVC(C=100, gamma=0.001, kernel='rbf')\n",
        "\n",
        "# Creating the model on Training Data\n",
        "SVM_under =clf.fit(x_under,y_under)\n",
        "prediction=SVM_under.predict(x_test)\n",
        "\n",
        "# Measuring accuracy on Testing Data\n",
        "from sklearn import metrics\n",
        "print(metrics.classification_report(y_test, prediction))\n",
        "print(metrics.confusion_matrix(y_test, prediction))\n",
        "\n",
        "# Printing the Overall Accuracy of the model\n",
        "F1_Score=metrics.classification_report(y_test, prediction).split()[-2]\n",
        "print('Accuracy of the model:', F1_Score)"
      ],
      "execution_count": null,
      "outputs": [
        {
          "name": "stdout",
          "output_type": "stream",
          "text": [
            "              precision    recall  f1-score   support\n",
            "\n",
            "           1       0.96      0.96      0.96       411\n",
            "           2       0.95      0.95      0.95       386\n",
            "           3       1.00      1.00      1.00       428\n",
            "           4       1.00      1.00      1.00       366\n",
            "           5       0.99      1.00      1.00       311\n",
            "           6       1.00      0.99      1.00       304\n",
            "\n",
            "    accuracy                           0.98      2206\n",
            "   macro avg       0.98      0.98      0.98      2206\n",
            "weighted avg       0.98      0.98      0.98      2206\n",
            "\n",
            "[[393  18   0   0   0   0]\n",
            " [ 18 368   0   0   0   0]\n",
            " [  0   0 428   0   0   0]\n",
            " [  0   0   0 365   0   1]\n",
            " [  0   0   0   0 311   0]\n",
            " [  0   0   0   0   2 302]]\n",
            "Accuracy of the model: 0.98\n"
          ]
        }
      ]
    },
    {
      "cell_type": "markdown",
      "metadata": {
        "id": "BqanxuJK1KAV"
      },
      "source": [
        "K-FOLD CROSS VALIDATION"
      ]
    },
    {
      "cell_type": "code",
      "metadata": {
        "colab": {
          "base_uri": "https://localhost:8080/"
        },
        "id": "0LG44Myb1C-E",
        "outputId": "62bd08bc-0675-478e-cc40-825ff8d88f83"
      },
      "source": [
        "from sklearn.model_selection import cross_val_score\n",
        "accuracy_values= cross_val_score(SVM_under, x, y, cv=10, scoring='f1_weighted')\n",
        "print(accuracy_values)\n",
        "print('Final Average Accuracy of the Model:',accuracy_values.mean())"
      ],
      "execution_count": null,
      "outputs": [
        {
          "name": "stdout",
          "output_type": "stream",
          "text": [
            "[0.98238966 0.85759315 0.96461058 0.87449956 0.95749073 0.93045737\n",
            " 0.96223334 0.98911789 0.97278141 0.97959616]\n",
            "Final Average Accuracy of the Model: 0.947076985236022\n"
          ]
        }
      ]
    },
    {
      "cell_type": "code",
      "metadata": {
        "id": "_HMOF4RT1cdD"
      },
      "source": [
        "#from sklearn.pipeline import Pipeline\n",
        "#pipe = Pipeline([('pca', PCA(n_components=3)), ('svc', SVC())])\n",
        "n = np.random.randint(0,2200,size=1)\n",
        "datax= x_test[n]\n",
        "datay = y_test[n]\n"
      ],
      "execution_count": null,
      "outputs": []
    },
    {
      "cell_type": "code",
      "metadata": {
        "colab": {
          "base_uri": "https://localhost:8080/"
        },
        "id": "xeiO06jOdkRQ",
        "outputId": "5a8d94f4-b0dd-4c42-f57e-ccee422ff325"
      },
      "source": [
        "prediction_svm = SVM.predict(datax)\n",
        "prediction_logistic = LOG.predict(datax)\n",
        "prediction_random = RF.predict(datax)\n",
        "prediction_decision = DTree.predict(datax)\n",
        "prediction_knearest = KNN.predict(datax)\n",
        "\n",
        "print(\"====================== True Prediction===============================\")\n",
        "print(datay)\n",
        "print(\"======================== SVM ========================================\")\n",
        "print(prediction_svm)\n",
        "print(\"======================== LOGISTIC REGRESSION ========================================\")\n",
        "print(prediction_logistic)\n",
        "print(\"======================== DECISION TREE ========================================\")\n",
        "print(prediction_decision)\n",
        "print(\"======================== RANDOM FOREST ========================================\")\n",
        "print(prediction_random)\n",
        "print(\"======================== KNN ========================================\")\n",
        "print(prediction_knearest)"
      ],
      "execution_count": null,
      "outputs": [
        {
          "name": "stdout",
          "output_type": "stream",
          "text": [
            "====================== True Prediction===============================\n",
            "[3]\n",
            "======================== SVM ========================================\n",
            "[3]\n",
            "======================== LOGISTIC REGRESSION ========================================\n",
            "[3]\n",
            "======================== DECISION TREE ========================================\n",
            "[3]\n",
            "======================== RANDOM FOREST ========================================\n",
            "[3]\n",
            "======================== KNN ========================================\n",
            "[3]\n"
          ]
        }
      ]
    },
    {
      "cell_type": "code",
      "metadata": {
        "id": "3n0fJksH6-GB"
      },
      "source": [
        ""
      ],
      "execution_count": null,
      "outputs": []
    }
  ]
}